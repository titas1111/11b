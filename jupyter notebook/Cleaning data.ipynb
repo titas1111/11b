{
 "cells": [
  {
   "cell_type": "code",
   "execution_count": 1,
   "metadata": {},
   "outputs": [],
   "source": [
    "import pandas as pd\n",
    "import matplotlib.pyplot as plt\n",
    "import numpy as np\n",
    "import seaborn as sns\n",
    "\n",
    "max_rent_price = 1500\n",
    "min_rent_price = 150\n",
    "min_year = 1900"
   ]
  },
  {
   "cell_type": "code",
   "execution_count": 2,
   "metadata": {},
   "outputs": [],
   "source": [
    "df = pd.read_excel(\"input.xlsx\")\n",
    "df.head()\n",
    "df =df.drop([df[pd.isna(df[\"Kaina mėn.:\"])].index][0])"
   ]
  },
  {
   "cell_type": "markdown",
   "metadata": {},
   "source": [
    "## Cleaning target col"
   ]
  },
  {
   "cell_type": "code",
   "execution_count": 3,
   "metadata": {
    "scrolled": true
   },
   "outputs": [
    {
     "data": {
      "text/plain": [
       "count    1930.000000\n",
       "mean      534.054404\n",
       "std       238.407347\n",
       "min       155.000000\n",
       "25%       370.000000\n",
       "50%       480.000000\n",
       "75%       650.000000\n",
       "max      1480.000000\n",
       "Name: rent_price, dtype: float64"
      ]
     },
     "execution_count": 3,
     "metadata": {},
     "output_type": "execute_result"
    }
   ],
   "source": [
    "try:\n",
    "    df['Kaina mėn.:'] = df['Kaina mėn.:'].str.replace(' €','')\n",
    "    df['Kaina mėn.:'] = df['Kaina mėn.:'].str.replace(' ','')\n",
    "    df['Kaina mėn.:'] = df['Kaina mėn.:'].astype(int)\n",
    "    df = df[df['Kaina mėn.:']< max_rent_price]\n",
    "    df = df[df['Kaina mėn.:']> min_rent_price]\n",
    "except:\n",
    "    print(\"Target col is converted\")\n",
    "df.rename(columns={\"Kaina mėn.:\": \"rent_price\"}, inplace=True)\n",
    "df['rent_price'].describe()"
   ]
  },
  {
   "cell_type": "code",
   "execution_count": 4,
   "metadata": {
    "scrolled": true
   },
   "outputs": [
    {
     "data": {
      "image/png": "[encoded data removed]",
      "text/plain": [
       "<Figure size 432x288 with 1 Axes>"
      ]
     },
     "metadata": {
      "needs_background": "light"
     },
     "output_type": "display_data"
    }
   ],
   "source": [
    "n_bins = 15\n",
    "plt.hist(df[df[\"rent_price\"] < max_rent_price][\"rent_price\"], bins=n_bins)\n",
    "plt.show()"
   ]
  },
  {
   "cell_type": "markdown",
   "metadata": {},
   "source": [
    "## Cleaning feature cols"
   ]
  },
  {
   "cell_type": "code",
   "execution_count": 5,
   "metadata": {
    "scrolled": true
   },
   "outputs": [],
   "source": [
    "df.rename(columns={\"Aukštas:\": \"floor\", \"Aukštų sk.:\": \"total_floor_num\",\n",
    "                   \"Kambarių sk.:\":\"room_num\", \"Metai:\":\"year_full\",\n",
    "                   \"Plotas:\":\"area\",\"Pastato tipas:\":\"House_type\", \n",
    "                  \"Šildymas:\":\"Heating\"\n",
    "                  }, inplace=True)\n",
    "df.dtypes\n",
    "\n",
    "df[\"year_full\"].fillna(0, inplace = True)\n",
    "# df[\"year\"] = pd.to_numeric(df[\"year\"],downcast='integer')\n",
    "\n",
    "# df[cols] = df[cols].apply(pd.fillna,0, axis=1)\n",
    "# df[cols] = df[cols].apply(pd.to_numeric, downcast='integer', errors='coerce', axis=1)"
   ]
  },
  {
   "cell_type": "code",
   "execution_count": 6,
   "metadata": {},
   "outputs": [
    {
     "data": {
      "text/html": [
       "<div>\n",
       "<style scoped>\n",
       "    .dataframe tbody tr th:only-of-type {\n",
       "        vertical-align: middle;\n",
       "    }\n",
       "\n",
       "    .dataframe tbody tr th {\n",
       "        vertical-align: top;\n",
       "    }\n",
       "\n",
       "    .dataframe thead th {\n",
       "        text-align: right;\n",
       "    }\n",
       "</style>\n",
       "<table border=\"1\" class=\"dataframe\">\n",
       "  <thead>\n",
       "    <tr style=\"text-align: right;\">\n",
       "      <th></th>\n",
       "      <th>Adresas</th>\n",
       "      <th>floor</th>\n",
       "      <th>total_floor_num</th>\n",
       "      <th>Buto numeris:</th>\n",
       "      <th>rent_price</th>\n",
       "      <th>room_num</th>\n",
       "      <th>year_full</th>\n",
       "      <th>Namo numeris:</th>\n",
       "      <th>Nuoroda</th>\n",
       "      <th>House_type</th>\n",
       "      <th>Peržiūrėjo</th>\n",
       "      <th>area</th>\n",
       "      <th>Redaguotas</th>\n",
       "      <th>Įdėtas</th>\n",
       "      <th>Įrengimas:</th>\n",
       "      <th>Heating</th>\n",
       "    </tr>\n",
       "  </thead>\n",
       "  <tbody>\n",
       "    <tr>\n",
       "      <td>1</td>\n",
       "      <td>https://www.aruodas.lt/butu-nuoma-vilniuje-pas...</td>\n",
       "      <td>3.0</td>\n",
       "      <td>9.0</td>\n",
       "      <td>NaN</td>\n",
       "      <td>450</td>\n",
       "      <td>2.0</td>\n",
       "      <td>2007</td>\n",
       "      <td>NaN</td>\n",
       "      <td>NaN</td>\n",
       "      <td>Mūrinis</td>\n",
       "      <td>NaN</td>\n",
       "      <td>64 m²</td>\n",
       "      <td>NaN</td>\n",
       "      <td>NaN</td>\n",
       "      <td>Įrengtas                                      ...</td>\n",
       "      <td>Centrinis kolektorinis</td>\n",
       "    </tr>\n",
       "    <tr>\n",
       "      <td>2</td>\n",
       "      <td>https://www.aruodas.lt/butu-nuoma-vilniuje-zve...</td>\n",
       "      <td>4.0</td>\n",
       "      <td>4.0</td>\n",
       "      <td>NaN</td>\n",
       "      <td>699</td>\n",
       "      <td>2.0</td>\n",
       "      <td>2019</td>\n",
       "      <td>10</td>\n",
       "      <td>NaN</td>\n",
       "      <td>Mūrinis</td>\n",
       "      <td>NaN</td>\n",
       "      <td>41,47 m²</td>\n",
       "      <td>NaN</td>\n",
       "      <td>NaN</td>\n",
       "      <td>NaN</td>\n",
       "      <td>Centrinis, elektra</td>\n",
       "    </tr>\n",
       "    <tr>\n",
       "      <td>3</td>\n",
       "      <td>https://www.aruodas.lt/butu-nuoma-vilniuje-sen...</td>\n",
       "      <td>3.0</td>\n",
       "      <td>3.0</td>\n",
       "      <td>NaN</td>\n",
       "      <td>800</td>\n",
       "      <td>3.0</td>\n",
       "      <td>1940</td>\n",
       "      <td>NaN</td>\n",
       "      <td>NaN</td>\n",
       "      <td>Mūrinis</td>\n",
       "      <td>NaN</td>\n",
       "      <td>71 m²</td>\n",
       "      <td>NaN</td>\n",
       "      <td>NaN</td>\n",
       "      <td>Įrengtas                                      ...</td>\n",
       "      <td>Dujinis</td>\n",
       "    </tr>\n",
       "    <tr>\n",
       "      <td>4</td>\n",
       "      <td>https://www.aruodas.lt/butu-nuoma-vilniuje-zve...</td>\n",
       "      <td>2.0</td>\n",
       "      <td>3.0</td>\n",
       "      <td>NaN</td>\n",
       "      <td>400</td>\n",
       "      <td>2.0</td>\n",
       "      <td>1969</td>\n",
       "      <td>NaN</td>\n",
       "      <td>NaN</td>\n",
       "      <td>Mūrinis</td>\n",
       "      <td>NaN</td>\n",
       "      <td>41,84 m²</td>\n",
       "      <td>NaN</td>\n",
       "      <td>NaN</td>\n",
       "      <td>Įrengtas                                      ...</td>\n",
       "      <td>Centrinis</td>\n",
       "    </tr>\n",
       "    <tr>\n",
       "      <td>5</td>\n",
       "      <td>https://www.aruodas.lt/butu-nuoma-vilniuje-laz...</td>\n",
       "      <td>2.0</td>\n",
       "      <td>5.0</td>\n",
       "      <td>NaN</td>\n",
       "      <td>390</td>\n",
       "      <td>1.0</td>\n",
       "      <td>2008</td>\n",
       "      <td>NaN</td>\n",
       "      <td>NaN</td>\n",
       "      <td>Mūrinis</td>\n",
       "      <td>NaN</td>\n",
       "      <td>36 m²</td>\n",
       "      <td>NaN</td>\n",
       "      <td>NaN</td>\n",
       "      <td>Įrengtas                                      ...</td>\n",
       "      <td>Centrinis kolektorinis</td>\n",
       "    </tr>\n",
       "  </tbody>\n",
       "</table>\n",
       "</div>"
      ],
      "text/plain": [
       "                                             Adresas  floor  total_floor_num  \\\n",
       "1  https://www.aruodas.lt/butu-nuoma-vilniuje-pas...    3.0              9.0   \n",
       "2  https://www.aruodas.lt/butu-nuoma-vilniuje-zve...    4.0              4.0   \n",
       "3  https://www.aruodas.lt/butu-nuoma-vilniuje-sen...    3.0              3.0   \n",
       "4  https://www.aruodas.lt/butu-nuoma-vilniuje-zve...    2.0              3.0   \n",
       "5  https://www.aruodas.lt/butu-nuoma-vilniuje-laz...    2.0              5.0   \n",
       "\n",
       "  Buto numeris:  rent_price  room_num year_full Namo numeris: Nuoroda  \\\n",
       "1           NaN         450       2.0      2007           NaN     NaN   \n",
       "2           NaN         699       2.0      2019            10     NaN   \n",
       "3           NaN         800       3.0      1940           NaN     NaN   \n",
       "4           NaN         400       2.0      1969           NaN     NaN   \n",
       "5           NaN         390       1.0      2008           NaN     NaN   \n",
       "\n",
       "  House_type Peržiūrėjo      area Redaguotas Įdėtas  \\\n",
       "1    Mūrinis        NaN     64 m²        NaN    NaN   \n",
       "2    Mūrinis        NaN  41,47 m²        NaN    NaN   \n",
       "3    Mūrinis        NaN     71 m²        NaN    NaN   \n",
       "4    Mūrinis        NaN  41,84 m²        NaN    NaN   \n",
       "5    Mūrinis        NaN     36 m²        NaN    NaN   \n",
       "\n",
       "                                          Įrengimas:                 Heating  \n",
       "1  Įrengtas                                      ...  Centrinis kolektorinis  \n",
       "2                                                NaN      Centrinis, elektra  \n",
       "3  Įrengtas                                      ...                 Dujinis  \n",
       "4  Įrengtas                                      ...               Centrinis  \n",
       "5  Įrengtas                                      ...  Centrinis kolektorinis  "
      ]
     },
     "execution_count": 6,
     "metadata": {},
     "output_type": "execute_result"
    }
   ],
   "source": [
    "df.head()"
   ]
  },
  {
   "cell_type": "code",
   "execution_count": 7,
   "metadata": {},
   "outputs": [],
   "source": [
    "df[['year','year_renovation']] = df['year_full'].str.split(',',expand=True)\n",
    "# cut year int\n",
    "df['year'] = df['year_full'].str[:4]\n",
    "df['year'].fillna(df[\"year_full\"],inplace = True)\n",
    "df[\"year\"] = pd.to_numeric(df[\"year\"],downcast='integer')\n",
    "df['year_renovation'] = df['year_renovation'].str[:5]\n",
    "df[\"year_renovation\"] = pd.to_numeric(df[\"year_renovation\"],downcast='integer')\n",
    "\n",
    "df = df[df['year']> min_year]"
   ]
  },
  {
   "cell_type": "code",
   "execution_count": 8,
   "metadata": {},
   "outputs": [],
   "source": [
    "try:\n",
    "    df['area'] = df['area'].str.replace(' m²','')\n",
    "    df['area'] = df['area'].str.replace(',','.')\n",
    "except:\n",
    "    print(\"Target col is converted\")\n",
    "df[\"area\"] = pd.to_numeric(df[\"area\"],downcast='float')"
   ]
  },
  {
   "cell_type": "markdown",
   "metadata": {},
   "source": [
    "## New features"
   ]
  },
  {
   "cell_type": "code",
   "execution_count": 9,
   "metadata": {},
   "outputs": [],
   "source": [
    "df[\"floors_from_top\"] = df[\"total_floor_num\"]- df[\"floor\"]\n",
    "df[\"top_floor\"] = (df[\"total_floor_num\"] == df[\"floor\"]).astype('int')"
   ]
  },
  {
   "cell_type": "code",
   "execution_count": 10,
   "metadata": {},
   "outputs": [],
   "source": [
    "districts = [\"pasilaiciuose\", \"zveryne\", \"pilaiteje\", \"senamiestyje\", \n",
    "             \"naujamiestyje\", \"uzupyje\", \"snipiskese\", \"antakalnyje\",\n",
    "            \"zirmunuose\",\"lazdyneliuose\", \"karoliniskese\", \"naujojoje-vilnioje\", \"tarandeje\",\"seskineje\",\n",
    "             \"grigiskese\", \"santariskese\", \"balsiuose\", \"siaures-miestelyje\",\n",
    "             \"markuciuose\", \"virsuliskese\",\"fabijoniskese\", \"valakampiuose\",\n",
    "             \"baltupiuose\",\"justiniskese\",\"visoriuose\",\"lazdynuose\",\"jeruzaleje\"\n",
    "             \"verkiuose\",\"avizieniuose\",\"filaretuose\",\"kalnenuose\",\n",
    "             \"pavilnyje\",\"bajoruose\", \"burbiskes\",\"naujininkuose\",\"vilkpedeje\",\n",
    "             \"zemuosiuose-paneriuose\",\"aukstuosiuose-paneriuose\",\"jeruzaleje\"\n",
    "            ]\n",
    "\n",
    "def map_district(district):    \n",
    "    df.loc[df[df['Adresas'].str.contains(district).values].index,\"district\"] = district\n",
    "    \n",
    "for i in districts:\n",
    "    map_district(i)"
   ]
  },
  {
   "cell_type": "markdown",
   "metadata": {},
   "source": [
    "## Analysis"
   ]
  },
  {
   "cell_type": "code",
   "execution_count": 34,
   "metadata": {
    "scrolled": false
   },
   "outputs": [
    {
     "data": {
      "image/png": "[encoded data removed]",
      "text/plain": [
       "<Figure size 432x288 with 1 Axes>"
      ]
     },
     "metadata": {
      "needs_background": "light"
     },
     "output_type": "display_data"
    }
   ],
   "source": [
    "df[\"year\"] = pd.to_numeric(df[\"year\"],downcast='integer')\n",
    "\n",
    "# ax = sns.scatterplot(x=\"year\", y=\"rent_price\", hue=\"area\",                     \n",
    "#                      data= df[df[\"district\"]==\"zveryne\"]\n",
    "#                     )\n",
    "\n",
    "\n",
    "ax = sns.scatterplot(x=\"year\", y=\"rent_price\", hue=\"area\",                     \n",
    "                     data= df[(df[\"district\"]==\"senamiestyje\")]\n",
    "                    ).set_title('Old town')"
   ]
  },
  {
   "cell_type": "markdown",
   "metadata": {},
   "source": [
    "## Export"
   ]
  },
  {
   "cell_type": "code",
   "execution_count": 12,
   "metadata": {},
   "outputs": [],
   "source": [
    "# df.to_csv(\".\\output.csv\",index=False)"
   ]
  },
  {
   "cell_type": "code",
   "execution_count": 13,
   "metadata": {},
   "outputs": [],
   "source": [
    "# df_excluded_senamiestyje = df[df[\"district\"]!=\"senamiestyje\"]\n",
    "# df_excluded_senamiestyje[\"district\"].value_counts()\n",
    "\n",
    "# df_excluded_senamiestyje.to_csv(\".\\output_excluded_senamiestyje.csv\",index=False)"
   ]
  }
 ],
 "metadata": {
  "kernelspec": {
   "display_name": "Python 3",
   "language": "python",
   "name": "python3"
  },
  "language_info": {
   "codemirror_mode": {
    "name": "ipython",
    "version": 3
   },
   "file_extension": ".py",
   "mimetype": "text/x-python",
   "name": "python",
   "nbconvert_exporter": "python",
   "pygments_lexer": "ipython3",
   "version": "3.7.4"
  }
 },
 "nbformat": 4,
 "nbformat_minor": 2
}
