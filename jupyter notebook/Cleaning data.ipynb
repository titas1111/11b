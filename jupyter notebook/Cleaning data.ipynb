{
 "cells": [
  {
   "cell_type": "code",
   "execution_count": 1,
   "metadata": {},
   "outputs": [],
   "source": [
    "import pandas as pd"
   ]
  },
  {
   "cell_type": "code",
   "execution_count": 6,
   "metadata": {},
   "outputs": [
    {
     "data": {
      "text/html": [
       "<div>\n",
       "<style scoped>\n",
       "    .dataframe tbody tr th:only-of-type {\n",
       "        vertical-align: middle;\n",
       "    }\n",
       "\n",
       "    .dataframe tbody tr th {\n",
       "        vertical-align: top;\n",
       "    }\n",
       "\n",
       "    .dataframe thead th {\n",
       "        text-align: right;\n",
       "    }\n",
       "</style>\n",
       "<table border=\"1\" class=\"dataframe\">\n",
       "  <thead>\n",
       "    <tr style=\"text-align: right;\">\n",
       "      <th></th>\n",
       "      <th>Adresas</th>\n",
       "      <th>Aukštas:</th>\n",
       "      <th>Aukštų sk.:</th>\n",
       "      <th>Buto numeris:</th>\n",
       "      <th>Kaina mėn.:</th>\n",
       "      <th>Kambarių sk.:</th>\n",
       "      <th>Metai:</th>\n",
       "      <th>Namo numeris:</th>\n",
       "      <th>Nuoroda</th>\n",
       "      <th>Pastato tipas:</th>\n",
       "      <th>Peržiūrėjo</th>\n",
       "      <th>Plotas:</th>\n",
       "      <th>Redaguotas</th>\n",
       "      <th>Įdėtas</th>\n",
       "      <th>Įrengimas:</th>\n",
       "      <th>Šildymas:</th>\n",
       "    </tr>\n",
       "  </thead>\n",
       "  <tbody>\n",
       "    <tr>\n",
       "      <td>0</td>\n",
       "      <td>https://www.aruodas.lt/butai-vilniuje-pasilaic...</td>\n",
       "      <td>NaN</td>\n",
       "      <td>NaN</td>\n",
       "      <td>NaN</td>\n",
       "      <td>NaN</td>\n",
       "      <td>NaN</td>\n",
       "      <td>NaN</td>\n",
       "      <td>NaN</td>\n",
       "      <td>NaN</td>\n",
       "      <td>NaN</td>\n",
       "      <td>NaN</td>\n",
       "      <td>NaN</td>\n",
       "      <td>NaN</td>\n",
       "      <td>NaN</td>\n",
       "      <td>NaN</td>\n",
       "      <td>NaN</td>\n",
       "    </tr>\n",
       "    <tr>\n",
       "      <td>1</td>\n",
       "      <td>https://www.aruodas.lt/butu-nuoma-vilniuje-pas...</td>\n",
       "      <td>3.0</td>\n",
       "      <td>9.0</td>\n",
       "      <td>NaN</td>\n",
       "      <td>450 €</td>\n",
       "      <td>2.0</td>\n",
       "      <td>2007</td>\n",
       "      <td>NaN</td>\n",
       "      <td>NaN</td>\n",
       "      <td>Mūrinis</td>\n",
       "      <td>NaN</td>\n",
       "      <td>64 m²</td>\n",
       "      <td>NaN</td>\n",
       "      <td>NaN</td>\n",
       "      <td>Įrengtas                                      ...</td>\n",
       "      <td>Centrinis kolektorinis</td>\n",
       "    </tr>\n",
       "    <tr>\n",
       "      <td>2</td>\n",
       "      <td>https://www.aruodas.lt/butu-nuoma-vilniuje-zve...</td>\n",
       "      <td>4.0</td>\n",
       "      <td>4.0</td>\n",
       "      <td>NaN</td>\n",
       "      <td>699 €</td>\n",
       "      <td>2.0</td>\n",
       "      <td>2019</td>\n",
       "      <td>10</td>\n",
       "      <td>NaN</td>\n",
       "      <td>Mūrinis</td>\n",
       "      <td>NaN</td>\n",
       "      <td>41,47 m²</td>\n",
       "      <td>NaN</td>\n",
       "      <td>NaN</td>\n",
       "      <td>NaN</td>\n",
       "      <td>Centrinis, elektra</td>\n",
       "    </tr>\n",
       "    <tr>\n",
       "      <td>3</td>\n",
       "      <td>https://www.aruodas.lt/butu-nuoma-vilniuje-sen...</td>\n",
       "      <td>3.0</td>\n",
       "      <td>3.0</td>\n",
       "      <td>NaN</td>\n",
       "      <td>800 €</td>\n",
       "      <td>3.0</td>\n",
       "      <td>1940</td>\n",
       "      <td>NaN</td>\n",
       "      <td>NaN</td>\n",
       "      <td>Mūrinis</td>\n",
       "      <td>NaN</td>\n",
       "      <td>71 m²</td>\n",
       "      <td>NaN</td>\n",
       "      <td>NaN</td>\n",
       "      <td>Įrengtas                                      ...</td>\n",
       "      <td>Dujinis</td>\n",
       "    </tr>\n",
       "    <tr>\n",
       "      <td>4</td>\n",
       "      <td>https://www.aruodas.lt/butu-nuoma-vilniuje-zve...</td>\n",
       "      <td>2.0</td>\n",
       "      <td>3.0</td>\n",
       "      <td>NaN</td>\n",
       "      <td>400 €</td>\n",
       "      <td>2.0</td>\n",
       "      <td>1969</td>\n",
       "      <td>NaN</td>\n",
       "      <td>NaN</td>\n",
       "      <td>Mūrinis</td>\n",
       "      <td>NaN</td>\n",
       "      <td>41,84 m²</td>\n",
       "      <td>NaN</td>\n",
       "      <td>NaN</td>\n",
       "      <td>Įrengtas                                      ...</td>\n",
       "      <td>Centrinis</td>\n",
       "    </tr>\n",
       "  </tbody>\n",
       "</table>\n",
       "</div>"
      ],
      "text/plain": [
       "                                             Adresas  Aukštas:  Aukštų sk.:  \\\n",
       "0  https://www.aruodas.lt/butai-vilniuje-pasilaic...       NaN          NaN   \n",
       "1  https://www.aruodas.lt/butu-nuoma-vilniuje-pas...       3.0          9.0   \n",
       "2  https://www.aruodas.lt/butu-nuoma-vilniuje-zve...       4.0          4.0   \n",
       "3  https://www.aruodas.lt/butu-nuoma-vilniuje-sen...       3.0          3.0   \n",
       "4  https://www.aruodas.lt/butu-nuoma-vilniuje-zve...       2.0          3.0   \n",
       "\n",
       "  Buto numeris: Kaina mėn.:  Kambarių sk.: Metai: Namo numeris: Nuoroda  \\\n",
       "0           NaN         NaN            NaN    NaN           NaN     NaN   \n",
       "1           NaN       450 €            2.0   2007           NaN     NaN   \n",
       "2           NaN       699 €            2.0   2019            10     NaN   \n",
       "3           NaN       800 €            3.0   1940           NaN     NaN   \n",
       "4           NaN       400 €            2.0   1969           NaN     NaN   \n",
       "\n",
       "  Pastato tipas: Peržiūrėjo   Plotas: Redaguotas Įdėtas  \\\n",
       "0            NaN        NaN       NaN        NaN    NaN   \n",
       "1        Mūrinis        NaN     64 m²        NaN    NaN   \n",
       "2        Mūrinis        NaN  41,47 m²        NaN    NaN   \n",
       "3        Mūrinis        NaN     71 m²        NaN    NaN   \n",
       "4        Mūrinis        NaN  41,84 m²        NaN    NaN   \n",
       "\n",
       "                                          Įrengimas:               Šildymas:  \n",
       "0                                                NaN                     NaN  \n",
       "1  Įrengtas                                      ...  Centrinis kolektorinis  \n",
       "2                                                NaN      Centrinis, elektra  \n",
       "3  Įrengtas                                      ...                 Dujinis  \n",
       "4  Įrengtas                                      ...               Centrinis  "
      ]
     },
     "execution_count": 6,
     "metadata": {},
     "output_type": "execute_result"
    }
   ],
   "source": [
    "df = pd.read_excel(\"output.xlsx\")\n",
    "df.head()\n",
    "df =df.drop([df[pd.isna(df[\"Kaina mėn.:\"])].index][0])"
   ]
  },
  {
   "cell_type": "markdown",
   "metadata": {},
   "source": [
    "## Cleaning target col"
   ]
  },
  {
   "cell_type": "code",
   "execution_count": 24,
   "metadata": {
    "scrolled": false
   },
   "outputs": [
    {
     "name": "stdout",
     "output_type": "stream",
     "text": [
      "Target col is clean\n"
     ]
    },
    {
     "data": {
      "text/plain": [
       "count     1266.000000\n",
       "mean       648.507109\n",
       "std       1824.711713\n",
       "min         15.000000\n",
       "25%        350.000000\n",
       "50%        490.000000\n",
       "75%        699.000000\n",
       "max      63000.000000\n",
       "Name: Kaina mėn.:, dtype: float64"
      ]
     },
     "execution_count": 24,
     "metadata": {},
     "output_type": "execute_result"
    }
   ],
   "source": [
    "try:\n",
    "    df['Kaina mėn.:'] = df['Kaina mėn.:'].str.replace(' €','')\n",
    "    df['Kaina mėn.:'] = df['Kaina mėn.:'].str.replace(' ','')\n",
    "    df['Kaina mėn.:'] = df['Kaina mėn.:'].astype(int)\n",
    "except:\n",
    "    print(\"Target col is converted to int\")\n",
    "df['Kaina mėn.:'].describe()"
   ]
  }
 ],
 "metadata": {
  "kernelspec": {
   "display_name": "Python 3",
   "language": "python",
   "name": "python3"
  },
  "language_info": {
   "codemirror_mode": {
    "name": "ipython",
    "version": 3
   },
   "file_extension": ".py",
   "mimetype": "text/x-python",
   "name": "python",
   "nbconvert_exporter": "python",
   "pygments_lexer": "ipython3",
   "version": "3.7.4"
  }
 },
 "nbformat": 4,
 "nbformat_minor": 2
}
