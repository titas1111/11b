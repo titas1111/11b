{
 "cells": [
  {
   "cell_type": "code",
   "execution_count": 1,
   "metadata": {},
   "outputs": [],
   "source": [
    "import pandas as pd\n",
    "from sklearn.pipeline import Pipeline\n",
    "from sklearn.impute import SimpleImputer\n",
    "import numpy as np\n",
    "\n",
    "from bs4 import BeautifulSoup\n",
    "import requests\n",
    "import pandas as pd"
   ]
  },
  {
   "cell_type": "code",
   "execution_count": null,
   "metadata": {},
   "outputs": [],
   "source": [
    "Pipe = Pipeline(steps = [\n",
    "    (\"impute\", SimpleImputer(strategy = \"constant\", fill_value=0)),\n",
    "    (\"MyTransformer\", MyTransformer(df))\n",
    "])"
   ]
  },
  {
   "cell_type": "code",
   "execution_count": null,
   "metadata": {
    "scrolled": true
   },
   "outputs": [],
   "source": [
    "X = Pipe.fit_transform(df)"
   ]
  },
  {
   "cell_type": "code",
   "execution_count": null,
   "metadata": {},
   "outputs": [],
   "source": [
    "from sklearn.base import BaseEstimator, TransformerMixin\n",
    "\n",
    "class MyTransformer(BaseEstimator, TransformerMixin):\n",
    "\n",
    "    def __init__(self, df):\n",
    "        self.df = df\n",
    "        pass\n",
    "\n",
    "    def fit(self, X, y=None):\n",
    "        return self\n",
    "\n",
    "    def transform(self, X, df):\n",
    "        X_transformed = X.tolist()\n",
    "        df['area'] = df['area'].str.replace(' m²','')\n",
    "        return df"
   ]
  },
  {
   "cell_type": "code",
   "execution_count": null,
   "metadata": {},
   "outputs": [],
   "source": [
    "from bs4 import BeautifulSoup\n",
    "import requests\n",
    "import pandas as pd\n",
    "from time import sleep\n",
    "\n",
    "class WebScraper:\n",
    "\n",
    "    def __init__(self, page):\n",
    "        self.page = page\n",
    "        self.tmp = []\n",
    "        self.ListOfScrapedFlatInfo = []\n",
    "    def return_html(self):\n",
    "        # html_file = open(self.page, \"r\", encoding=\"utf-8\")\n",
    "        html_file = requests.get(self.page)\n",
    "        return_html = BeautifulSoup(html_file.text, \"html.parser\")\n",
    "        return return_html\n",
    "\n",
    "    def return_href(self):\n",
    "        soup = self.return_html()\n",
    "        self.tmp = [a[\"href\"] for a in soup.find_all(\"a\", href=True) if a.parent.name == 'h3']\n",
    "        return [a[\"href\"] for a in soup.find_all(\"a\", href=True) if a.parent.name == 'h3']\n",
    "\n",
    "\n",
    "class Aruodas(WebScraper):\n",
    "    def loop(self):    \t\n",
    "        for flat in self.tmp:\n",
    "            sleep(5)\n",
    "            self.ListOfScrapedFlatInfo.append((self.ScrapeFlat(flat)))\n",
    "\n",
    "    def ScrapeFlat(self, page):\n",
    "        d = {}\n",
    "        self.page = page\n",
    "        d[\"Adresas\"] = self.page \n",
    "        soup = self.return_html()\n",
    "        dd = soup.select(\"dd\")\n",
    "        dt = soup.select(\"dt\")\n",
    "        for i in range(20):\n",
    "            try:\n",
    "                tmp_val = str(dd[i].getText()).strip()\n",
    "                tmp_name = str(dt[i].getText()).strip()\n",
    "                d[tmp_name] = tmp_val\n",
    "            except:\n",
    "                return d\n",
    "        return d\n",
    "\n",
    "aruodas = Aruodas(\"https://www.aruodas.lt/\")\n",
    "output = aruodas.ScrapeFlat(\"https://www.aruodas.lt/butu-nuoma-vilniuje-pasilaiciuose-leiciu-g-naujas-ir-kokybiskai-irengtas-butas-laukia-4-955759/\")\n",
    "df = pd.DataFrame()\n",
    "df = df.append(output, ignore_index=True)\n",
    "df"
   ]
  },
  {
   "cell_type": "code",
   "execution_count": null,
   "metadata": {
    "scrolled": true
   },
   "outputs": [],
   "source": [
    "df['Kaina mėn.:'] = df['Kaina mėn.:'].str.replace(' €','')\n",
    "df['Kaina mėn.:'] = df['Kaina mėn.:'].str.replace(' ','')\n",
    "\n",
    "df.rename(columns={\"Aukštas:\": \"floor\", \"Aukštų sk.:\": \"total_floor_num\",\n",
    "                   \"Kambarių sk.:\":\"room_num\", \"Metai:\":\"year_full\",\n",
    "                   \"Plotas:\":\"area\",\"Pastato tipas:\":\"house_type\", \n",
    "                  \"Šildymas:\":\"heating\", \"Apsauga:\": \"security\",\n",
    "                   \"Ypatybės:\":\"general\"\n",
    "                  }, inplace=True)\n",
    "df"
   ]
  },
  {
   "cell_type": "code",
   "execution_count": null,
   "metadata": {
    "scrolled": false
   },
   "outputs": [],
   "source": [
    "try:\n",
    "    df[['year','year_renovation']] = df['year_full'].str.split(',',expand=True)\n",
    "    df['year'] = df['year_full'].str[:4]\n",
    "    df['year'].fillna(df[\"year_full\"],inplace = True)\n",
    "    df[\"year\"] = pd.to_numeric(df[\"year\"],downcast='integer')\n",
    "    df['year_renovation'] = df['year_renovation'].str[:5]\n",
    "    df[\"year_renovation\"] = pd.to_numeric(df[\"year_renovation\"],downcast='integer')\n",
    "except:\n",
    "    df['year'] = df['year_full'].str[:4]\n",
    "    df['year_renovation'] = 0\n",
    "\n",
    "df['area'] = df['area'].str.replace(' m²','')\n",
    "df['area'] = df['area'].str.replace(',','.')\n",
    "\n",
    "df[\"top_floor\"] = (df[\"total_floor_num\"] == df[\"floor\"]).astype('int')\n",
    "df.loc[df[df['Adresas'].str.contains(\"senamiestyje\").values].index,\"oldtown\"] = 1\n",
    "df[\"oldtown\"].fillna(value = 0, inplace = True)\n",
    "\n",
    "\n",
    "districts = [\"pasilaiciuose\", \"zveryne\", \"pilaiteje\", \"senamiestyje\", \n",
    "             \"naujamiestyje\", \"uzupyje\", \"snipiskese\", \"antakalnyje\",\n",
    "            \"zirmunuose\",\"lazdyneliuose\", \"karoliniskese\", \"naujojoje-vilnioje\", \"tarandeje\",\"seskineje\",\n",
    "             \"grigiskese\", \"santariskese\", \"balsiuose\", \"siaures-miestelyje\",\n",
    "             \"markuciuose\", \"virsuliskese\",\"fabijoniskese\", \"valakampiuose\",\n",
    "             \"baltupiuose\",\"justiniskese\",\"visoriuose\",\"lazdynuose\",\"jeruzaleje\"\n",
    "             ,\"avizieniuose\",\"filaretuose\",\"kalnenuose\",\n",
    "             \"pavilnyje\",\"bajoruose\", \"burbiskes\",\"naujininkuose\",\"vilkpedeje\",\n",
    "             \"zemuosiuose-paneriuose\",\"aukstuosiuose-paneriuose\",\"jeruzaleje\",\"sauletekyje\",\"traku\",\"verkiuose\"\n",
    "            ]\n",
    "\n",
    "def map_district(district):    \n",
    "    df.loc[df[df['Adresas'].str.contains(district).values].index, district] = 1\n",
    "    df[district].fillna(value = 0, inplace = True)\n",
    "    \n",
    "for i in districts:\n",
    "    map_district(i)\n",
    "\n",
    "    \n",
    "df"
   ]
  },
  {
   "cell_type": "code",
   "execution_count": null,
   "metadata": {},
   "outputs": [],
   "source": [
    "COLUMNS = ['floor', 'total_floor_num', 'room_num', 'area', 'year',\n",
    "       'year_renovation', 'top_floor', 'oldtown', '0', 'antakalnyje',\n",
    "       'aukstuosiuose-paneriuose', 'avizieniuose', 'bajoruose', 'balsiuose',\n",
    "       'baltupiuose', 'burbiskes', 'fabijoniskese', 'filaretuose',\n",
    "       'grigiskese', 'jeruzaleje', 'justiniskese', 'kalnenuose',\n",
    "       'karoliniskese', 'lazdyneliuose', 'lazdynuose', 'markuciuose',\n",
    "       'naujamiestyje', 'naujininkuose', 'naujojoje-vilnioje', 'pasilaiciuose',\n",
    "       'pavilnyje', 'pilaiteje', 'santariskese', 'sauletekyje', 'senamiestyje',\n",
    "       'seskineje', 'siaures-miestelyje', 'snipiskese', 'tarandeje', 'traku',\n",
    "       'uzupyje', 'valakampiuose', 'verkiuose', 'vilkpedeje', 'virsuliskese',\n",
    "       'visoriuose', 'zemuosiuose-paneriuose', 'zirmunuose', 'zveryne']\n",
    "prediction = pd.DataFrame(columns=columns)\n",
    "prediction"
   ]
  },
  {
   "cell_type": "code",
   "execution_count": null,
   "metadata": {
    "scrolled": true
   },
   "outputs": [],
   "source": [
    "prediction = prediction.append(df)\n",
    "prediction = prediction[columns]\n",
    "prediction"
   ]
  },
  {
   "cell_type": "code",
   "execution_count": null,
   "metadata": {},
   "outputs": [],
   "source": [
    "import joblib\n",
    "\n",
    "model = joblib.load('model.pkl')"
   ]
  },
  {
   "cell_type": "code",
   "execution_count": null,
   "metadata": {},
   "outputs": [],
   "source": [
    "model.predict(prediction)"
   ]
  },
  {
   "cell_type": "code",
   "execution_count": 14,
   "metadata": {},
   "outputs": [
    {
     "name": "stderr",
     "output_type": "stream",
     "text": [
      "C:\\Users\\Titas\\Anaconda3\\lib\\site-packages\\pandas\\core\\frame.py:7123: FutureWarning: Sorting because non-concatenation axis is not aligned. A future version\n",
      "of pandas will change to not sort by default.\n",
      "\n",
      "To accept the future behavior, pass 'sort=False'.\n",
      "\n",
      "To retain the current behavior and silence the warning, pass 'sort=True'.\n",
      "\n",
      "  sort=sort,\n"
     ]
    }
   ],
   "source": [
    "COLUMNS = ['floor', 'total_floor_num', 'room_num', 'area', 'year',\n",
    "       'year_renovation', 'top_floor', 'oldtown', '0', 'antakalnyje',\n",
    "       'aukstuosiuose-paneriuose', 'avizieniuose', 'bajoruose', 'balsiuose',\n",
    "       'baltupiuose', 'burbiskes', 'fabijoniskese', 'filaretuose',\n",
    "       'grigiskese', 'jeruzaleje', 'justiniskese', 'kalnenuose',\n",
    "       'karoliniskese', 'lazdyneliuose', 'lazdynuose', 'markuciuose',\n",
    "       'naujamiestyje', 'naujininkuose', 'naujojoje-vilnioje', 'pasilaiciuose',\n",
    "       'pavilnyje', 'pilaiteje', 'santariskese', 'sauletekyje', 'senamiestyje',\n",
    "       'seskineje', 'siaures-miestelyje', 'snipiskese', 'tarandeje', 'traku',\n",
    "       'uzupyje', 'valakampiuose', 'verkiuose', 'vilkpedeje', 'virsuliskese',\n",
    "       'visoriuose', 'zemuosiuose-paneriuose', 'zirmunuose', 'zveryne']\n",
    "\n",
    "PAGE = \"https://www.aruodas.lt/butu-nuoma-vilniuje-fabijoniskese-salomejos-neries-g-isnuomojamas-dveju-kambariu-butas-esantis-4-955971/\"\n",
    "\n",
    "DICT_FOR_DF_RENAME = {\"Aukštas:\": \"floor\", \"Aukštų sk.:\": \"total_floor_num\",\n",
    "                   \"Kambarių sk.:\":\"room_num\", \"Metai:\":\"year_full\",\n",
    "                   \"Plotas:\":\"area\",\"Pastato tipas:\":\"house_type\", \n",
    "                  \"Šildymas:\":\"heating\", \"Apsauga:\": \"security\",\n",
    "                   \"Ypatybės:\":\"general\"\n",
    "                  }\n",
    "\n",
    "DISTRICTS = [\"pasilaiciuose\", \"zveryne\", \"pilaiteje\", \"senamiestyje\", \n",
    "             \"naujamiestyje\", \"uzupyje\", \"snipiskese\", \"antakalnyje\",\n",
    "            \"zirmunuose\",\"lazdyneliuose\", \"karoliniskese\", \"naujojoje-vilnioje\", \"tarandeje\",\"seskineje\",\n",
    "             \"grigiskese\", \"santariskese\", \"balsiuose\", \"siaures-miestelyje\",\n",
    "             \"markuciuose\", \"virsuliskese\",\"fabijoniskese\", \"valakampiuose\",\n",
    "             \"baltupiuose\",\"justiniskese\",\"visoriuose\",\"lazdynuose\",\"jeruzaleje\"\n",
    "             ,\"avizieniuose\",\"filaretuose\",\"kalnenuose\",\n",
    "             \"pavilnyje\",\"bajoruose\", \"burbiskes\",\"naujininkuose\",\"vilkpedeje\",\n",
    "             \"zemuosiuose-paneriuose\",\"aukstuosiuose-paneriuose\",\"jeruzaleje\",\"sauletekyje\",\"traku\",\"verkiuose\"\n",
    "            ]\n",
    "\n",
    "\n",
    "def ScrapeFlat(page):\n",
    "    d = {}\n",
    "    d[\"Adresas\"] = page\n",
    "    html_file = requests.get(page)\n",
    "    soup = BeautifulSoup(html_file.text, \"html.parser\")\n",
    "    dd = soup.select(\"dd\")\n",
    "    dt = soup.select(\"dt\")\n",
    "    for i in range(20):\n",
    "        try:\n",
    "            tmp_val = str(dd[i].getText()).strip()\n",
    "            tmp_name = str(dt[i].getText()).strip()\n",
    "            d[tmp_name] = tmp_val\n",
    "        except:\n",
    "            return d\n",
    "    return d\n",
    "\n",
    "def CreateDataFrameHeader(COLUMNS):    \n",
    "    return pd.DataFrame(columns=COLUMNS)\n",
    "\n",
    "\n",
    "\n",
    "def FromDictToDF(d):\n",
    "    dfFlat = pd.DataFrame()\n",
    "    dfFlat = dfFlat.append(d, ignore_index=True)\n",
    "    return dfFlat\n",
    "\n",
    "def CleanDF(dfFlat):    \n",
    "    dfFlat = dfFlat.rename(columns={\"Aukštas:\": \"floor\", \"Aukštų sk.:\": \"total_floor_num\",\n",
    "                   \"Kambarių sk.:\":\"room_num\", \"Metai:\":\"year_full\",\n",
    "                   \"Plotas:\":\"area\",\"Pastato tipas:\":\"house_type\", \n",
    "                  \"Šildymas:\":\"heating\", \"Apsauga:\": \"security\",\n",
    "                   \"Ypatybės:\":\"general\"})    \n",
    "    try:\n",
    "        dfFlat[['year','year_renovation']] = dfFlat['year_full'].str.split(',',expand=True)\n",
    "        dfFlat['year'] = dfFlat['year_full'].str[:4]\n",
    "        dfFlat['year'].fillna(dfFlat[\"year_full\"],inplace = True)\n",
    "        dfFlat[\"year\"] = pd.to_numeric(dfFlat[\"year\"],downcast='integer')\n",
    "        dfFlat['year_renovation'] = dfFlat['year_renovation'].str[:5]\n",
    "        dfFlat[\"year_renovation\"] = pd.to_numeric(dfFlat[\"year_renovation\"],downcast='integer')\n",
    "    except:\n",
    "        dfFlat['year'] = dfFlat['year_full'].str[:4]\n",
    "        dfFlat['year_renovation'] = 0\n",
    "        \n",
    "    dfFlat['area'] = dfFlat['area'].str.replace(' m²','')\n",
    "    dfFlat['area'] = dfFlat['area'].str.replace(',','.')\n",
    "    return dfFlat\n",
    "\n",
    "def map_district(district):    \n",
    "    dfFlat.loc[dfFlat[dfFlat['Adresas'].str.contains(district).values].index, district] = 1\n",
    "    dfFlat[district].fillna(value = 0, inplace = True)\n",
    "    \n",
    "d = ScrapeFlat(PAGE)\n",
    "dfFlat = FromDictToDF(d)\n",
    "dfFlat = CleanDF(dfFlat)\n",
    "df = CreateDataFrameHeader(COLUMNS)\n",
    "\n",
    "dfFlat = df.append(dfFlat, ignore_index=True)\n",
    "\n",
    "for i in DISTRICTS:\n",
    "    map_district(i)\n",
    "\n",
    "dfFlat = dfFlat[COLUMNS]\n",
    "dfFlat.fillna(value = 0, inplace = True)"
   ]
  },
  {
   "cell_type": "code",
   "execution_count": 15,
   "metadata": {},
   "outputs": [
    {
     "name": "stderr",
     "output_type": "stream",
     "text": [
      "C:\\Users\\Titas\\Anaconda3\\lib\\site-packages\\sklearn\\base.py:306: UserWarning: Trying to unpickle estimator SimpleImputer from version 0.21.2 when using version 0.21.3. This might lead to breaking code or invalid results. Use at your own risk.\n",
      "  UserWarning)\n",
      "C:\\Users\\Titas\\Anaconda3\\lib\\site-packages\\sklearn\\base.py:306: UserWarning: Trying to unpickle estimator DecisionTreeRegressor from version 0.21.2 when using version 0.21.3. This might lead to breaking code or invalid results. Use at your own risk.\n",
      "  UserWarning)\n",
      "C:\\Users\\Titas\\Anaconda3\\lib\\site-packages\\sklearn\\base.py:306: UserWarning: Trying to unpickle estimator RandomForestRegressor from version 0.21.2 when using version 0.21.3. This might lead to breaking code or invalid results. Use at your own risk.\n",
      "  UserWarning)\n",
      "C:\\Users\\Titas\\Anaconda3\\lib\\site-packages\\sklearn\\base.py:306: UserWarning: Trying to unpickle estimator Pipeline from version 0.21.2 when using version 0.21.3. This might lead to breaking code or invalid results. Use at your own risk.\n",
      "  UserWarning)\n",
      "C:\\Users\\Titas\\Anaconda3\\lib\\site-packages\\sklearn\\base.py:306: UserWarning: Trying to unpickle estimator RandomizedSearchCV from version 0.21.2 when using version 0.21.3. This might lead to breaking code or invalid results. Use at your own risk.\n",
      "  UserWarning)\n"
     ]
    },
    {
     "data": {
      "text/plain": [
       "array([388.99083333])"
      ]
     },
     "execution_count": 15,
     "metadata": {},
     "output_type": "execute_result"
    }
   ],
   "source": [
    "import joblib\n",
    "model = joblib.load('model.pkl')\n",
    "model.predict(dfFlat)"
   ]
  }
 ],
 "metadata": {
  "kernelspec": {
   "display_name": "Python 3",
   "language": "python",
   "name": "python3"
  },
  "language_info": {
   "codemirror_mode": {
    "name": "ipython",
    "version": 3
   },
   "file_extension": ".py",
   "mimetype": "text/x-python",
   "name": "python",
   "nbconvert_exporter": "python",
   "pygments_lexer": "ipython3",
   "version": "3.7.4"
  }
 },
 "nbformat": 4,
 "nbformat_minor": 2
}
