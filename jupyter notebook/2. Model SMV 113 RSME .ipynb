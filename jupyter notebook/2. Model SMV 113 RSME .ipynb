{
 "cells": [
  {
   "cell_type": "code",
   "execution_count": 1,
   "metadata": {},
   "outputs": [],
   "source": [
    "import pandas as pd\n",
    "import numpy as np\n",
    "from sklearn.model_selection import train_test_split\n",
    "from sklearn.impute import SimpleImputer\n",
    "from sklearn.preprocessing import StandardScaler\n",
    "from sklearn.decomposition import PCA\n",
    "from sklearn.pipeline import Pipeline\n",
    "from sklearn.metrics import mean_squared_error\n",
    "from sklearn.ensemble import RandomForestRegressor\n",
    "from sklearn.preprocessing import OneHotEncoder\n",
    "from sklearn.model_selection import RandomizedSearchCV\n",
    "from sklearn.ensemble import GradientBoostingRegressor\n",
    "from scipy.stats import uniform, truncnorm, randint\n",
    "from sklearn.preprocessing import OrdinalEncoder\n",
    "from sklearn.metrics import mean_absolute_error\n",
    "from sklearn.svm import LinearSVR\n",
    "from sklearn.svm import SVR\n",
    "\n",
    "import warnings\n",
    "warnings.filterwarnings('ignore')"
   ]
  },
  {
   "cell_type": "code",
   "execution_count": 2,
   "metadata": {
    "scrolled": true
   },
   "outputs": [
    {
     "data": {
      "text/html": [
       "<div>\n",
       "<style scoped>\n",
       "    .dataframe tbody tr th:only-of-type {\n",
       "        vertical-align: middle;\n",
       "    }\n",
       "\n",
       "    .dataframe tbody tr th {\n",
       "        vertical-align: top;\n",
       "    }\n",
       "\n",
       "    .dataframe thead th {\n",
       "        text-align: right;\n",
       "    }\n",
       "</style>\n",
       "<table border=\"1\" class=\"dataframe\">\n",
       "  <thead>\n",
       "    <tr style=\"text-align: right;\">\n",
       "      <th></th>\n",
       "      <th>floor</th>\n",
       "      <th>total_floor_num</th>\n",
       "      <th>rent_price</th>\n",
       "      <th>room_num</th>\n",
       "      <th>area</th>\n",
       "      <th>year</th>\n",
       "      <th>year_renovation</th>\n",
       "      <th>top_floor</th>\n",
       "      <th>oldtown</th>\n",
       "    </tr>\n",
       "  </thead>\n",
       "  <tbody>\n",
       "    <tr>\n",
       "      <th>count</th>\n",
       "      <td>2302.000000</td>\n",
       "      <td>2302.000000</td>\n",
       "      <td>2302.000000</td>\n",
       "      <td>2302.000000</td>\n",
       "      <td>2302.000000</td>\n",
       "      <td>2302.000000</td>\n",
       "      <td>80.000000</td>\n",
       "      <td>2302.000000</td>\n",
       "      <td>2302.000000</td>\n",
       "    </tr>\n",
       "    <tr>\n",
       "      <th>mean</th>\n",
       "      <td>3.377932</td>\n",
       "      <td>5.809296</td>\n",
       "      <td>523.900956</td>\n",
       "      <td>2.025630</td>\n",
       "      <td>53.301108</td>\n",
       "      <td>1990.491746</td>\n",
       "      <td>2013.175000</td>\n",
       "      <td>0.216334</td>\n",
       "      <td>0.205039</td>\n",
       "    </tr>\n",
       "    <tr>\n",
       "      <th>std</th>\n",
       "      <td>2.249265</td>\n",
       "      <td>3.226175</td>\n",
       "      <td>235.495612</td>\n",
       "      <td>0.789294</td>\n",
       "      <td>21.369041</td>\n",
       "      <td>25.717765</td>\n",
       "      <td>7.577072</td>\n",
       "      <td>0.411834</td>\n",
       "      <td>0.403818</td>\n",
       "    </tr>\n",
       "    <tr>\n",
       "      <th>min</th>\n",
       "      <td>0.000000</td>\n",
       "      <td>1.000000</td>\n",
       "      <td>155.000000</td>\n",
       "      <td>1.000000</td>\n",
       "      <td>16.000000</td>\n",
       "      <td>1903.000000</td>\n",
       "      <td>1965.000000</td>\n",
       "      <td>0.000000</td>\n",
       "      <td>0.000000</td>\n",
       "    </tr>\n",
       "    <tr>\n",
       "      <th>25%</th>\n",
       "      <td>2.000000</td>\n",
       "      <td>4.000000</td>\n",
       "      <td>360.000000</td>\n",
       "      <td>1.000000</td>\n",
       "      <td>38.000000</td>\n",
       "      <td>1975.000000</td>\n",
       "      <td>2011.750000</td>\n",
       "      <td>0.000000</td>\n",
       "      <td>0.000000</td>\n",
       "    </tr>\n",
       "    <tr>\n",
       "      <th>50%</th>\n",
       "      <td>3.000000</td>\n",
       "      <td>5.000000</td>\n",
       "      <td>460.000000</td>\n",
       "      <td>2.000000</td>\n",
       "      <td>50.000000</td>\n",
       "      <td>2000.500000</td>\n",
       "      <td>2016.000000</td>\n",
       "      <td>0.000000</td>\n",
       "      <td>0.000000</td>\n",
       "    </tr>\n",
       "    <tr>\n",
       "      <th>75%</th>\n",
       "      <td>4.000000</td>\n",
       "      <td>7.000000</td>\n",
       "      <td>650.000000</td>\n",
       "      <td>2.000000</td>\n",
       "      <td>65.000000</td>\n",
       "      <td>2011.000000</td>\n",
       "      <td>2017.250000</td>\n",
       "      <td>0.000000</td>\n",
       "      <td>0.000000</td>\n",
       "    </tr>\n",
       "    <tr>\n",
       "      <th>max</th>\n",
       "      <td>20.000000</td>\n",
       "      <td>29.000000</td>\n",
       "      <td>1480.000000</td>\n",
       "      <td>6.000000</td>\n",
       "      <td>150.000000</td>\n",
       "      <td>2019.000000</td>\n",
       "      <td>2019.000000</td>\n",
       "      <td>1.000000</td>\n",
       "      <td>1.000000</td>\n",
       "    </tr>\n",
       "  </tbody>\n",
       "</table>\n",
       "</div>"
      ],
      "text/plain": [
       "             floor  total_floor_num   rent_price     room_num         area  \\\n",
       "count  2302.000000      2302.000000  2302.000000  2302.000000  2302.000000   \n",
       "mean      3.377932         5.809296   523.900956     2.025630    53.301108   \n",
       "std       2.249265         3.226175   235.495612     0.789294    21.369041   \n",
       "min       0.000000         1.000000   155.000000     1.000000    16.000000   \n",
       "25%       2.000000         4.000000   360.000000     1.000000    38.000000   \n",
       "50%       3.000000         5.000000   460.000000     2.000000    50.000000   \n",
       "75%       4.000000         7.000000   650.000000     2.000000    65.000000   \n",
       "max      20.000000        29.000000  1480.000000     6.000000   150.000000   \n",
       "\n",
       "              year  year_renovation    top_floor      oldtown  \n",
       "count  2302.000000        80.000000  2302.000000  2302.000000  \n",
       "mean   1990.491746      2013.175000     0.216334     0.205039  \n",
       "std      25.717765         7.577072     0.411834     0.403818  \n",
       "min    1903.000000      1965.000000     0.000000     0.000000  \n",
       "25%    1975.000000      2011.750000     0.000000     0.000000  \n",
       "50%    2000.500000      2016.000000     0.000000     0.000000  \n",
       "75%    2011.000000      2017.250000     0.000000     0.000000  \n",
       "max    2019.000000      2019.000000     1.000000     1.000000  "
      ]
     },
     "execution_count": 2,
     "metadata": {},
     "output_type": "execute_result"
    }
   ],
   "source": [
    "df = pd.read_csv('.\\models\\SVM\\output.csv')\n",
    "df.describe()"
   ]
  },
  {
   "cell_type": "code",
   "execution_count": 3,
   "metadata": {
    "scrolled": true
   },
   "outputs": [
    {
     "data": {
      "text/html": [
       "<div>\n",
       "<style scoped>\n",
       "    .dataframe tbody tr th:only-of-type {\n",
       "        vertical-align: middle;\n",
       "    }\n",
       "\n",
       "    .dataframe tbody tr th {\n",
       "        vertical-align: top;\n",
       "    }\n",
       "\n",
       "    .dataframe thead th {\n",
       "        text-align: right;\n",
       "    }\n",
       "</style>\n",
       "<table border=\"1\" class=\"dataframe\">\n",
       "  <thead>\n",
       "    <tr style=\"text-align: right;\">\n",
       "      <th></th>\n",
       "      <th>Adresas</th>\n",
       "      <th>floor</th>\n",
       "      <th>total_floor_num</th>\n",
       "      <th>rent_price</th>\n",
       "      <th>room_num</th>\n",
       "      <th>year_full</th>\n",
       "      <th>house_type</th>\n",
       "      <th>area</th>\n",
       "      <th>heating</th>\n",
       "      <th>year</th>\n",
       "      <th>year_renovation</th>\n",
       "      <th>top_floor</th>\n",
       "      <th>oldtown</th>\n",
       "      <th>district</th>\n",
       "    </tr>\n",
       "  </thead>\n",
       "  <tbody>\n",
       "    <tr>\n",
       "      <th>0</th>\n",
       "      <td>https://www.aruodas.lt/butu-nuoma-vilniuje-sen...</td>\n",
       "      <td>4.0</td>\n",
       "      <td>6.0</td>\n",
       "      <td>890</td>\n",
       "      <td>3.0</td>\n",
       "      <td>2017</td>\n",
       "      <td>Monolitinis</td>\n",
       "      <td>76.0</td>\n",
       "      <td>Centrinis kolektorinis</td>\n",
       "      <td>2017</td>\n",
       "      <td>NaN</td>\n",
       "      <td>0</td>\n",
       "      <td>1.0</td>\n",
       "      <td>senamiestyje</td>\n",
       "    </tr>\n",
       "    <tr>\n",
       "      <th>1</th>\n",
       "      <td>https://www.aruodas.lt/butu-nuoma-vilniuje-laz...</td>\n",
       "      <td>2.0</td>\n",
       "      <td>4.0</td>\n",
       "      <td>440</td>\n",
       "      <td>2.0</td>\n",
       "      <td>2008</td>\n",
       "      <td>Mūrinis</td>\n",
       "      <td>68.0</td>\n",
       "      <td>Centrinis kolektorinis</td>\n",
       "      <td>2008</td>\n",
       "      <td>NaN</td>\n",
       "      <td>0</td>\n",
       "      <td>0.0</td>\n",
       "      <td>lazdyneliuose</td>\n",
       "    </tr>\n",
       "    <tr>\n",
       "      <th>2</th>\n",
       "      <td>https://www.aruodas.lt/butu-nuoma-vilniuje-sen...</td>\n",
       "      <td>2.0</td>\n",
       "      <td>3.0</td>\n",
       "      <td>811</td>\n",
       "      <td>3.0</td>\n",
       "      <td>1940</td>\n",
       "      <td>Mūrinis</td>\n",
       "      <td>64.0</td>\n",
       "      <td>Dujinis</td>\n",
       "      <td>1940</td>\n",
       "      <td>NaN</td>\n",
       "      <td>0</td>\n",
       "      <td>1.0</td>\n",
       "      <td>senamiestyje</td>\n",
       "    </tr>\n",
       "    <tr>\n",
       "      <th>3</th>\n",
       "      <td>https://www.aruodas.lt/butu-nuoma-vilniuje-jus...</td>\n",
       "      <td>4.0</td>\n",
       "      <td>5.0</td>\n",
       "      <td>310</td>\n",
       "      <td>2.0</td>\n",
       "      <td>1985</td>\n",
       "      <td>Blokinis</td>\n",
       "      <td>50.0</td>\n",
       "      <td>Centrinis</td>\n",
       "      <td>1985</td>\n",
       "      <td>NaN</td>\n",
       "      <td>0</td>\n",
       "      <td>0.0</td>\n",
       "      <td>justiniskese</td>\n",
       "    </tr>\n",
       "    <tr>\n",
       "      <th>4</th>\n",
       "      <td>https://www.aruodas.lt/butu-nuoma-vilniuje-nau...</td>\n",
       "      <td>4.0</td>\n",
       "      <td>9.0</td>\n",
       "      <td>380</td>\n",
       "      <td>2.0</td>\n",
       "      <td>2017</td>\n",
       "      <td>Mūrinis</td>\n",
       "      <td>34.0</td>\n",
       "      <td>Centrinis kolektorinis</td>\n",
       "      <td>2017</td>\n",
       "      <td>NaN</td>\n",
       "      <td>0</td>\n",
       "      <td>0.0</td>\n",
       "      <td>naujamiestyje</td>\n",
       "    </tr>\n",
       "  </tbody>\n",
       "</table>\n",
       "</div>"
      ],
      "text/plain": [
       "                                             Adresas  floor  total_floor_num  \\\n",
       "0  https://www.aruodas.lt/butu-nuoma-vilniuje-sen...    4.0              6.0   \n",
       "1  https://www.aruodas.lt/butu-nuoma-vilniuje-laz...    2.0              4.0   \n",
       "2  https://www.aruodas.lt/butu-nuoma-vilniuje-sen...    2.0              3.0   \n",
       "3  https://www.aruodas.lt/butu-nuoma-vilniuje-jus...    4.0              5.0   \n",
       "4  https://www.aruodas.lt/butu-nuoma-vilniuje-nau...    4.0              9.0   \n",
       "\n",
       "   rent_price  room_num year_full   house_type  area                 heating  \\\n",
       "0         890       3.0      2017  Monolitinis  76.0  Centrinis kolektorinis   \n",
       "1         440       2.0      2008      Mūrinis  68.0  Centrinis kolektorinis   \n",
       "2         811       3.0      1940      Mūrinis  64.0                 Dujinis   \n",
       "3         310       2.0      1985     Blokinis  50.0               Centrinis   \n",
       "4         380       2.0      2017      Mūrinis  34.0  Centrinis kolektorinis   \n",
       "\n",
       "   year  year_renovation  top_floor  oldtown       district  \n",
       "0  2017              NaN          0      1.0   senamiestyje  \n",
       "1  2008              NaN          0      0.0  lazdyneliuose  \n",
       "2  1940              NaN          0      1.0   senamiestyje  \n",
       "3  1985              NaN          0      0.0   justiniskese  \n",
       "4  2017              NaN          0      0.0  naujamiestyje  "
      ]
     },
     "execution_count": 3,
     "metadata": {},
     "output_type": "execute_result"
    }
   ],
   "source": [
    "df.head()"
   ]
  },
  {
   "cell_type": "markdown",
   "metadata": {},
   "source": [
    "## encoder one-hot"
   ]
  },
  {
   "cell_type": "code",
   "execution_count": 4,
   "metadata": {},
   "outputs": [],
   "source": [
    "# http://www.insightsbot.com/python-one-hot-encoding-with-scikit-learn/\n",
    "df[\"district\"].fillna(\"None\", inplace = True)\n",
    "district_ohe = OneHotEncoder()\n",
    "\n",
    "X = district_ohe.fit_transform(df.district.values.reshape(-1,1)).toarray()\n",
    "dfOneHot = pd.DataFrame(X, columns = [district_ohe.get_feature_names()[i].replace(\"x0_\", \"\") for i in range(X.shape[1])])\n",
    "df = pd.concat([df, dfOneHot], axis=1)"
   ]
  },
  {
   "cell_type": "markdown",
   "metadata": {},
   "source": [
    "## pipline and model"
   ]
  },
  {
   "cell_type": "code",
   "execution_count": 5,
   "metadata": {},
   "outputs": [],
   "source": [
    "Pipeline_svm = Pipeline(steps = [\n",
    "    (\"impute\", SimpleImputer(missing_values=np.nan)),\n",
    "    (\"scaler\", StandardScaler()),\n",
    "    (\"pca\", PCA()),\n",
    "    (\"svm\", LinearSVR())    \n",
    "])"
   ]
  },
  {
   "cell_type": "markdown",
   "metadata": {},
   "source": [
    "## train_test_split"
   ]
  },
  {
   "cell_type": "code",
   "execution_count": 6,
   "metadata": {},
   "outputs": [],
   "source": [
    "df_train = df.select_dtypes(include=['float64','int64'])\n",
    "df_features = df_train.drop(columns=\"rent_price\")\n",
    "df_target = df_train[\"rent_price\"]\n",
    "X_train, X_test, y_train, y_test = train_test_split(df_features, df_target, random_state=42)"
   ]
  },
  {
   "cell_type": "code",
   "execution_count": 11,
   "metadata": {},
   "outputs": [],
   "source": [
    "n_kernel = [\"linear\",\"rbf\", \"sigmoid\", \"precomputed\"]\n",
    "n_degree = [0.1, 0.5, 1,2,3 ,5, 10]\n",
    "n_C = [1,10,50, 100, 200, 250 , 300, 350, 400]\n",
    "n_gamma = [0.001, 0.005, 0.01, 0.1, 1, 5, 10, 50]\n",
    "\n",
    "random_grid = {\"svm__C\": n_C\n",
    "              }\n",
    "\n",
    "\n",
    "svm_random = RandomizedSearchCV(Pipeline_svm, param_distributions = random_grid, cv = 5, scoring=\"neg_mean_squared_error\", n_iter=100)"
   ]
  },
  {
   "cell_type": "code",
   "execution_count": 12,
   "metadata": {
    "scrolled": true
   },
   "outputs": [
    {
     "data": {
      "text/plain": [
       "Pipeline(memory=None,\n",
       "         steps=[('impute',\n",
       "                 SimpleImputer(add_indicator=False, copy=True, fill_value=None,\n",
       "                               missing_values=nan, strategy='mean',\n",
       "                               verbose=0)),\n",
       "                ('scaler',\n",
       "                 StandardScaler(copy=True, with_mean=True, with_std=True)),\n",
       "                ('pca',\n",
       "                 PCA(copy=True, iterated_power='auto', n_components=None,\n",
       "                     random_state=None, svd_solver='auto', tol=0.0,\n",
       "                     whiten=False)),\n",
       "                ('svm',\n",
       "                 LinearSVR(C=50, dual=True, epsilon=0.0, fit_intercept=True,\n",
       "                           intercept_scaling=1.0, loss='epsilon_insensitive',\n",
       "                           max_iter=1000, random_state=None, tol=0.0001,\n",
       "                           verbose=0))],\n",
       "         verbose=False)"
      ]
     },
     "execution_count": 12,
     "metadata": {},
     "output_type": "execute_result"
    }
   ],
   "source": [
    "svm_random.fit(X_train, y_train)\n",
    "svm_random.best_estimator_"
   ]
  },
  {
   "cell_type": "code",
   "execution_count": 13,
   "metadata": {},
   "outputs": [
    {
     "name": "stdout",
     "output_type": "stream",
     "text": [
      "RSME: 116\n",
      "MAE: 82\n"
     ]
    }
   ],
   "source": [
    "print(\"RSME:\", int((mean_squared_error(y_test, svm_random.predict(X_test)))**0.5))\n",
    "print(\"MAE:\", int((mean_absolute_error(y_test, svm_random.predict(X_test)))))"
   ]
  },
  {
   "cell_type": "code",
   "execution_count": 14,
   "metadata": {
    "scrolled": false
   },
   "outputs": [
    {
     "name": "stdout",
     "output_type": "stream",
     "text": [
      "RSME: 126\n",
      "MAE: 85\n"
     ]
    }
   ],
   "source": [
    "print(\"RSME:\", int((mean_squared_error(y_train, svm_random.predict(X_train)))**0.5))\n",
    "print(\"MAE:\", int((mean_absolute_error(y_train, svm_random.predict(X_train)))))"
   ]
  }
 ],
 "metadata": {
  "kernelspec": {
   "display_name": "Python 3",
   "language": "python",
   "name": "python3"
  },
  "language_info": {
   "codemirror_mode": {
    "name": "ipython",
    "version": 3
   },
   "file_extension": ".py",
   "mimetype": "text/x-python",
   "name": "python",
   "nbconvert_exporter": "python",
   "pygments_lexer": "ipython3",
   "version": "3.7.3"
  }
 },
 "nbformat": 4,
 "nbformat_minor": 2
}
