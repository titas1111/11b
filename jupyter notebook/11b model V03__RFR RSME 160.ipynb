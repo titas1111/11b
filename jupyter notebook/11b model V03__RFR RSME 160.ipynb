{
 "cells": [
  {
   "cell_type": "code",
   "execution_count": 1,
   "metadata": {},
   "outputs": [],
   "source": [
    "import pandas as pd\n",
    "import numpy as np\n",
    "from sklearn.model_selection import train_test_split\n",
    "from sklearn.impute import SimpleImputer\n",
    "from sklearn.preprocessing import StandardScaler\n",
    "from sklearn.decomposition import PCA\n",
    "from sklearn.pipeline import Pipeline\n",
    "from sklearn.metrics import mean_squared_error\n",
    "from sklearn.ensemble import RandomForestRegressor"
   ]
  },
  {
   "cell_type": "code",
   "execution_count": 2,
   "metadata": {},
   "outputs": [
    {
     "data": {
      "text/html": [
       "<div>\n",
       "<style scoped>\n",
       "    .dataframe tbody tr th:only-of-type {\n",
       "        vertical-align: middle;\n",
       "    }\n",
       "\n",
       "    .dataframe tbody tr th {\n",
       "        vertical-align: top;\n",
       "    }\n",
       "\n",
       "    .dataframe thead th {\n",
       "        text-align: right;\n",
       "    }\n",
       "</style>\n",
       "<table border=\"1\" class=\"dataframe\">\n",
       "  <thead>\n",
       "    <tr style=\"text-align: right;\">\n",
       "      <th></th>\n",
       "      <th>floor</th>\n",
       "      <th>total_floor_num</th>\n",
       "      <th>rent_price</th>\n",
       "      <th>room_num</th>\n",
       "      <th>year</th>\n",
       "      <th>area</th>\n",
       "    </tr>\n",
       "  </thead>\n",
       "  <tbody>\n",
       "    <tr>\n",
       "      <td>count</td>\n",
       "      <td>1197.000000</td>\n",
       "      <td>1196.000000</td>\n",
       "      <td>1198.000000</td>\n",
       "      <td>1196.000000</td>\n",
       "      <td>1198.000000</td>\n",
       "      <td>1198.000000</td>\n",
       "    </tr>\n",
       "    <tr>\n",
       "      <td>mean</td>\n",
       "      <td>3.423559</td>\n",
       "      <td>5.937291</td>\n",
       "      <td>518.330551</td>\n",
       "      <td>2.057692</td>\n",
       "      <td>1911.405676</td>\n",
       "      <td>60.117805</td>\n",
       "    </tr>\n",
       "    <tr>\n",
       "      <td>std</td>\n",
       "      <td>2.289692</td>\n",
       "      <td>3.511404</td>\n",
       "      <td>254.246181</td>\n",
       "      <td>0.811538</td>\n",
       "      <td>387.350185</td>\n",
       "      <td>230.736331</td>\n",
       "    </tr>\n",
       "    <tr>\n",
       "      <td>min</td>\n",
       "      <td>0.000000</td>\n",
       "      <td>1.000000</td>\n",
       "      <td>15.000000</td>\n",
       "      <td>1.000000</td>\n",
       "      <td>0.000000</td>\n",
       "      <td>12.000000</td>\n",
       "    </tr>\n",
       "    <tr>\n",
       "      <td>25%</td>\n",
       "      <td>2.000000</td>\n",
       "      <td>4.000000</td>\n",
       "      <td>350.000000</td>\n",
       "      <td>2.000000</td>\n",
       "      <td>1971.000000</td>\n",
       "      <td>38.000000</td>\n",
       "    </tr>\n",
       "    <tr>\n",
       "      <td>50%</td>\n",
       "      <td>3.000000</td>\n",
       "      <td>5.000000</td>\n",
       "      <td>470.000000</td>\n",
       "      <td>2.000000</td>\n",
       "      <td>1995.000000</td>\n",
       "      <td>50.000000</td>\n",
       "    </tr>\n",
       "    <tr>\n",
       "      <td>75%</td>\n",
       "      <td>4.000000</td>\n",
       "      <td>8.000000</td>\n",
       "      <td>650.000000</td>\n",
       "      <td>3.000000</td>\n",
       "      <td>2009.000000</td>\n",
       "      <td>66.000000</td>\n",
       "    </tr>\n",
       "    <tr>\n",
       "      <td>max</td>\n",
       "      <td>20.000000</td>\n",
       "      <td>29.000000</td>\n",
       "      <td>1480.000000</td>\n",
       "      <td>8.000000</td>\n",
       "      <td>2019.000000</td>\n",
       "      <td>8000.000000</td>\n",
       "    </tr>\n",
       "  </tbody>\n",
       "</table>\n",
       "</div>"
      ],
      "text/plain": [
       "             floor  total_floor_num   rent_price     room_num         year  \\\n",
       "count  1197.000000      1196.000000  1198.000000  1196.000000  1198.000000   \n",
       "mean      3.423559         5.937291   518.330551     2.057692  1911.405676   \n",
       "std       2.289692         3.511404   254.246181     0.811538   387.350185   \n",
       "min       0.000000         1.000000    15.000000     1.000000     0.000000   \n",
       "25%       2.000000         4.000000   350.000000     2.000000  1971.000000   \n",
       "50%       3.000000         5.000000   470.000000     2.000000  1995.000000   \n",
       "75%       4.000000         8.000000   650.000000     3.000000  2009.000000   \n",
       "max      20.000000        29.000000  1480.000000     8.000000  2019.000000   \n",
       "\n",
       "              area  \n",
       "count  1198.000000  \n",
       "mean     60.117805  \n",
       "std     230.736331  \n",
       "min      12.000000  \n",
       "25%      38.000000  \n",
       "50%      50.000000  \n",
       "75%      66.000000  \n",
       "max    8000.000000  "
      ]
     },
     "execution_count": 2,
     "metadata": {},
     "output_type": "execute_result"
    }
   ],
   "source": [
    "df = pd.read_csv('output.csv')\n",
    "df.describe()"
   ]
  },
  {
   "cell_type": "markdown",
   "metadata": {},
   "source": [
    "## train_test_split"
   ]
  },
  {
   "cell_type": "code",
   "execution_count": 3,
   "metadata": {},
   "outputs": [],
   "source": [
    "df_train = df.select_dtypes(include=['float64','int64'])\n",
    "\n",
    "df_features = df_train.drop(columns=\"rent_price\")\n",
    "df_target = df_train[\"rent_price\"]\n",
    "\n",
    "X_train, X_test, y_train, y_test = train_test_split(df_features, df_target)"
   ]
  },
  {
   "cell_type": "markdown",
   "metadata": {},
   "source": [
    "## pipline and model"
   ]
  },
  {
   "cell_type": "code",
   "execution_count": 4,
   "metadata": {},
   "outputs": [],
   "source": [
    "Pipeline = Pipeline(steps = [\n",
    "    (\"impute\", SimpleImputer(missing_values=np.nan)), \n",
    "    (\"scaler\", StandardScaler()),\n",
    "    (\"pca\", PCA()),\n",
    "    (\"regression\", RandomForestRegressor())\n",
    "])"
   ]
  },
  {
   "cell_type": "code",
   "execution_count": 5,
   "metadata": {},
   "outputs": [
    {
     "name": "stdout",
     "output_type": "stream",
     "text": [
      "RSME: 160\n"
     ]
    },
    {
     "name": "stderr",
     "output_type": "stream",
     "text": [
      "C:\\Users\\Titas\\Anaconda3\\lib\\site-packages\\sklearn\\ensemble\\forest.py:245: FutureWarning: The default value of n_estimators will change from 10 in version 0.20 to 100 in 0.22.\n",
      "  \"10 in version 0.20 to 100 in 0.22.\", FutureWarning)\n"
     ]
    }
   ],
   "source": [
    "pipe = Pipeline.fit(X_train, y_train)\n",
    "\n",
    "print(\"RSME:\", int((mean_squared_error(y_test, pipe.predict(X_test)))**0.5))"
   ]
  }
 ],
 "metadata": {
  "kernelspec": {
   "display_name": "Python 3",
   "language": "python",
   "name": "python3"
  },
  "language_info": {
   "codemirror_mode": {
    "name": "ipython",
    "version": 3
   },
   "file_extension": ".py",
   "mimetype": "text/x-python",
   "name": "python",
   "nbconvert_exporter": "python",
   "pygments_lexer": "ipython3",
   "version": "3.7.4"
  }
 },
 "nbformat": 4,
 "nbformat_minor": 2
}
