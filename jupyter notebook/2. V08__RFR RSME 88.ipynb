{
 "cells": [
  {
   "cell_type": "code",
   "execution_count": 1,
   "metadata": {},
   "outputs": [],
   "source": [
    "import pandas as pd\n",
    "import numpy as np\n",
    "from sklearn.model_selection import train_test_split\n",
    "from sklearn.impute import SimpleImputer\n",
    "from sklearn.preprocessing import StandardScaler\n",
    "from sklearn.decomposition import PCA\n",
    "from sklearn.pipeline import Pipeline\n",
    "from sklearn.metrics import mean_squared_error\n",
    "from sklearn.ensemble import RandomForestRegressor\n",
    "from sklearn.preprocessing import OneHotEncoder\n",
    "from sklearn.model_selection import RandomizedSearchCV\n",
    "from sklearn.ensemble import GradientBoostingRegressor\n",
    "from scipy.stats import uniform, truncnorm, randint\n",
    "from sklearn.preprocessing import OrdinalEncoder\n",
    "from sklearn.metrics import mean_absolute_error\n",
    "\n",
    "import warnings\n",
    "warnings.filterwarnings('ignore')"
   ]
  },
  {
   "cell_type": "code",
   "execution_count": 2,
   "metadata": {
    "scrolled": true
   },
   "outputs": [
    {
     "data": {
      "text/html": [
       "<div>\n",
       "<style scoped>\n",
       "    .dataframe tbody tr th:only-of-type {\n",
       "        vertical-align: middle;\n",
       "    }\n",
       "\n",
       "    .dataframe tbody tr th {\n",
       "        vertical-align: top;\n",
       "    }\n",
       "\n",
       "    .dataframe thead th {\n",
       "        text-align: right;\n",
       "    }\n",
       "</style>\n",
       "<table border=\"1\" class=\"dataframe\">\n",
       "  <thead>\n",
       "    <tr style=\"text-align: right;\">\n",
       "      <th></th>\n",
       "      <th>floor</th>\n",
       "      <th>total_floor_num</th>\n",
       "      <th>rent_price</th>\n",
       "      <th>room_num</th>\n",
       "      <th>area</th>\n",
       "      <th>year</th>\n",
       "      <th>year_renovation</th>\n",
       "      <th>top_floor</th>\n",
       "      <th>oldtown</th>\n",
       "    </tr>\n",
       "  </thead>\n",
       "  <tbody>\n",
       "    <tr>\n",
       "      <th>count</th>\n",
       "      <td>2302.000000</td>\n",
       "      <td>2302.000000</td>\n",
       "      <td>2302.000000</td>\n",
       "      <td>2302.000000</td>\n",
       "      <td>2302.000000</td>\n",
       "      <td>2302.000000</td>\n",
       "      <td>80.000000</td>\n",
       "      <td>2302.000000</td>\n",
       "      <td>2302.000000</td>\n",
       "    </tr>\n",
       "    <tr>\n",
       "      <th>mean</th>\n",
       "      <td>3.377932</td>\n",
       "      <td>5.809296</td>\n",
       "      <td>523.900956</td>\n",
       "      <td>2.025630</td>\n",
       "      <td>53.301108</td>\n",
       "      <td>1990.491746</td>\n",
       "      <td>2013.175000</td>\n",
       "      <td>0.216334</td>\n",
       "      <td>0.205039</td>\n",
       "    </tr>\n",
       "    <tr>\n",
       "      <th>std</th>\n",
       "      <td>2.249265</td>\n",
       "      <td>3.226175</td>\n",
       "      <td>235.495612</td>\n",
       "      <td>0.789294</td>\n",
       "      <td>21.369041</td>\n",
       "      <td>25.717765</td>\n",
       "      <td>7.577072</td>\n",
       "      <td>0.411834</td>\n",
       "      <td>0.403818</td>\n",
       "    </tr>\n",
       "    <tr>\n",
       "      <th>min</th>\n",
       "      <td>0.000000</td>\n",
       "      <td>1.000000</td>\n",
       "      <td>155.000000</td>\n",
       "      <td>1.000000</td>\n",
       "      <td>16.000000</td>\n",
       "      <td>1903.000000</td>\n",
       "      <td>1965.000000</td>\n",
       "      <td>0.000000</td>\n",
       "      <td>0.000000</td>\n",
       "    </tr>\n",
       "    <tr>\n",
       "      <th>25%</th>\n",
       "      <td>2.000000</td>\n",
       "      <td>4.000000</td>\n",
       "      <td>360.000000</td>\n",
       "      <td>1.000000</td>\n",
       "      <td>38.000000</td>\n",
       "      <td>1975.000000</td>\n",
       "      <td>2011.750000</td>\n",
       "      <td>0.000000</td>\n",
       "      <td>0.000000</td>\n",
       "    </tr>\n",
       "    <tr>\n",
       "      <th>50%</th>\n",
       "      <td>3.000000</td>\n",
       "      <td>5.000000</td>\n",
       "      <td>460.000000</td>\n",
       "      <td>2.000000</td>\n",
       "      <td>50.000000</td>\n",
       "      <td>2000.500000</td>\n",
       "      <td>2016.000000</td>\n",
       "      <td>0.000000</td>\n",
       "      <td>0.000000</td>\n",
       "    </tr>\n",
       "    <tr>\n",
       "      <th>75%</th>\n",
       "      <td>4.000000</td>\n",
       "      <td>7.000000</td>\n",
       "      <td>650.000000</td>\n",
       "      <td>2.000000</td>\n",
       "      <td>65.000000</td>\n",
       "      <td>2011.000000</td>\n",
       "      <td>2017.250000</td>\n",
       "      <td>0.000000</td>\n",
       "      <td>0.000000</td>\n",
       "    </tr>\n",
       "    <tr>\n",
       "      <th>max</th>\n",
       "      <td>20.000000</td>\n",
       "      <td>29.000000</td>\n",
       "      <td>1480.000000</td>\n",
       "      <td>6.000000</td>\n",
       "      <td>150.000000</td>\n",
       "      <td>2019.000000</td>\n",
       "      <td>2019.000000</td>\n",
       "      <td>1.000000</td>\n",
       "      <td>1.000000</td>\n",
       "    </tr>\n",
       "  </tbody>\n",
       "</table>\n",
       "</div>"
      ],
      "text/plain": [
       "             floor  total_floor_num   rent_price     room_num         area  \\\n",
       "count  2302.000000      2302.000000  2302.000000  2302.000000  2302.000000   \n",
       "mean      3.377932         5.809296   523.900956     2.025630    53.301108   \n",
       "std       2.249265         3.226175   235.495612     0.789294    21.369041   \n",
       "min       0.000000         1.000000   155.000000     1.000000    16.000000   \n",
       "25%       2.000000         4.000000   360.000000     1.000000    38.000000   \n",
       "50%       3.000000         5.000000   460.000000     2.000000    50.000000   \n",
       "75%       4.000000         7.000000   650.000000     2.000000    65.000000   \n",
       "max      20.000000        29.000000  1480.000000     6.000000   150.000000   \n",
       "\n",
       "              year  year_renovation    top_floor      oldtown  \n",
       "count  2302.000000        80.000000  2302.000000  2302.000000  \n",
       "mean   1990.491746      2013.175000     0.216334     0.205039  \n",
       "std      25.717765         7.577072     0.411834     0.403818  \n",
       "min    1903.000000      1965.000000     0.000000     0.000000  \n",
       "25%    1975.000000      2011.750000     0.000000     0.000000  \n",
       "50%    2000.500000      2016.000000     0.000000     0.000000  \n",
       "75%    2011.000000      2017.250000     0.000000     0.000000  \n",
       "max    2019.000000      2019.000000     1.000000     1.000000  "
      ]
     },
     "execution_count": 2,
     "metadata": {},
     "output_type": "execute_result"
    }
   ],
   "source": [
    "df = pd.read_csv('output.csv')\n",
    "df.describe()"
   ]
  },
  {
   "cell_type": "code",
   "execution_count": 3,
   "metadata": {
    "scrolled": false
   },
   "outputs": [
    {
     "data": {
      "text/html": [
       "<div>\n",
       "<style scoped>\n",
       "    .dataframe tbody tr th:only-of-type {\n",
       "        vertical-align: middle;\n",
       "    }\n",
       "\n",
       "    .dataframe tbody tr th {\n",
       "        vertical-align: top;\n",
       "    }\n",
       "\n",
       "    .dataframe thead th {\n",
       "        text-align: right;\n",
       "    }\n",
       "</style>\n",
       "<table border=\"1\" class=\"dataframe\">\n",
       "  <thead>\n",
       "    <tr style=\"text-align: right;\">\n",
       "      <th></th>\n",
       "      <th>Adresas</th>\n",
       "      <th>floor</th>\n",
       "      <th>total_floor_num</th>\n",
       "      <th>rent_price</th>\n",
       "      <th>room_num</th>\n",
       "      <th>year_full</th>\n",
       "      <th>house_type</th>\n",
       "      <th>area</th>\n",
       "      <th>heating</th>\n",
       "      <th>year</th>\n",
       "      <th>year_renovation</th>\n",
       "      <th>top_floor</th>\n",
       "      <th>oldtown</th>\n",
       "      <th>district</th>\n",
       "    </tr>\n",
       "  </thead>\n",
       "  <tbody>\n",
       "    <tr>\n",
       "      <th>0</th>\n",
       "      <td>https://www.aruodas.lt/butu-nuoma-vilniuje-sen...</td>\n",
       "      <td>4.0</td>\n",
       "      <td>6.0</td>\n",
       "      <td>890</td>\n",
       "      <td>3.0</td>\n",
       "      <td>2017</td>\n",
       "      <td>Monolitinis</td>\n",
       "      <td>76.0</td>\n",
       "      <td>Centrinis kolektorinis</td>\n",
       "      <td>2017</td>\n",
       "      <td>NaN</td>\n",
       "      <td>0</td>\n",
       "      <td>1.0</td>\n",
       "      <td>senamiestyje</td>\n",
       "    </tr>\n",
       "    <tr>\n",
       "      <th>1</th>\n",
       "      <td>https://www.aruodas.lt/butu-nuoma-vilniuje-laz...</td>\n",
       "      <td>2.0</td>\n",
       "      <td>4.0</td>\n",
       "      <td>440</td>\n",
       "      <td>2.0</td>\n",
       "      <td>2008</td>\n",
       "      <td>Mūrinis</td>\n",
       "      <td>68.0</td>\n",
       "      <td>Centrinis kolektorinis</td>\n",
       "      <td>2008</td>\n",
       "      <td>NaN</td>\n",
       "      <td>0</td>\n",
       "      <td>0.0</td>\n",
       "      <td>lazdyneliuose</td>\n",
       "    </tr>\n",
       "    <tr>\n",
       "      <th>2</th>\n",
       "      <td>https://www.aruodas.lt/butu-nuoma-vilniuje-sen...</td>\n",
       "      <td>2.0</td>\n",
       "      <td>3.0</td>\n",
       "      <td>811</td>\n",
       "      <td>3.0</td>\n",
       "      <td>1940</td>\n",
       "      <td>Mūrinis</td>\n",
       "      <td>64.0</td>\n",
       "      <td>Dujinis</td>\n",
       "      <td>1940</td>\n",
       "      <td>NaN</td>\n",
       "      <td>0</td>\n",
       "      <td>1.0</td>\n",
       "      <td>senamiestyje</td>\n",
       "    </tr>\n",
       "    <tr>\n",
       "      <th>3</th>\n",
       "      <td>https://www.aruodas.lt/butu-nuoma-vilniuje-jus...</td>\n",
       "      <td>4.0</td>\n",
       "      <td>5.0</td>\n",
       "      <td>310</td>\n",
       "      <td>2.0</td>\n",
       "      <td>1985</td>\n",
       "      <td>Blokinis</td>\n",
       "      <td>50.0</td>\n",
       "      <td>Centrinis</td>\n",
       "      <td>1985</td>\n",
       "      <td>NaN</td>\n",
       "      <td>0</td>\n",
       "      <td>0.0</td>\n",
       "      <td>justiniskese</td>\n",
       "    </tr>\n",
       "    <tr>\n",
       "      <th>4</th>\n",
       "      <td>https://www.aruodas.lt/butu-nuoma-vilniuje-nau...</td>\n",
       "      <td>4.0</td>\n",
       "      <td>9.0</td>\n",
       "      <td>380</td>\n",
       "      <td>2.0</td>\n",
       "      <td>2017</td>\n",
       "      <td>Mūrinis</td>\n",
       "      <td>34.0</td>\n",
       "      <td>Centrinis kolektorinis</td>\n",
       "      <td>2017</td>\n",
       "      <td>NaN</td>\n",
       "      <td>0</td>\n",
       "      <td>0.0</td>\n",
       "      <td>naujamiestyje</td>\n",
       "    </tr>\n",
       "  </tbody>\n",
       "</table>\n",
       "</div>"
      ],
      "text/plain": [
       "                                             Adresas  floor  total_floor_num  \\\n",
       "0  https://www.aruodas.lt/butu-nuoma-vilniuje-sen...    4.0              6.0   \n",
       "1  https://www.aruodas.lt/butu-nuoma-vilniuje-laz...    2.0              4.0   \n",
       "2  https://www.aruodas.lt/butu-nuoma-vilniuje-sen...    2.0              3.0   \n",
       "3  https://www.aruodas.lt/butu-nuoma-vilniuje-jus...    4.0              5.0   \n",
       "4  https://www.aruodas.lt/butu-nuoma-vilniuje-nau...    4.0              9.0   \n",
       "\n",
       "   rent_price  room_num year_full   house_type  area                 heating  \\\n",
       "0         890       3.0      2017  Monolitinis  76.0  Centrinis kolektorinis   \n",
       "1         440       2.0      2008      Mūrinis  68.0  Centrinis kolektorinis   \n",
       "2         811       3.0      1940      Mūrinis  64.0                 Dujinis   \n",
       "3         310       2.0      1985     Blokinis  50.0               Centrinis   \n",
       "4         380       2.0      2017      Mūrinis  34.0  Centrinis kolektorinis   \n",
       "\n",
       "   year  year_renovation  top_floor  oldtown       district  \n",
       "0  2017              NaN          0      1.0   senamiestyje  \n",
       "1  2008              NaN          0      0.0  lazdyneliuose  \n",
       "2  1940              NaN          0      1.0   senamiestyje  \n",
       "3  1985              NaN          0      0.0   justiniskese  \n",
       "4  2017              NaN          0      0.0  naujamiestyje  "
      ]
     },
     "execution_count": 3,
     "metadata": {},
     "output_type": "execute_result"
    }
   ],
   "source": [
    "df.head()"
   ]
  },
  {
   "cell_type": "markdown",
   "metadata": {},
   "source": [
    "## encoder one-hot"
   ]
  },
  {
   "cell_type": "code",
   "execution_count": 4,
   "metadata": {},
   "outputs": [],
   "source": [
    "# http://www.insightsbot.com/python-one-hot-encoding-with-scikit-learn/\n",
    "df[\"district\"].fillna(\"None\", inplace = True)\n",
    "district_ohe = OneHotEncoder()\n",
    "\n",
    "X = district_ohe.fit_transform(df.district.values.reshape(-1,1)).toarray()\n",
    "dfOneHot = pd.DataFrame(X, columns = [\"district_\"+str(int(i)) for i in range(X.shape[1])])\n",
    "df = pd.concat([df, dfOneHot], axis=1)"
   ]
  },
  {
   "cell_type": "code",
   "execution_count": 5,
   "metadata": {},
   "outputs": [],
   "source": [
    "# df[\"heating\"].fillna(\"None\", inplace = True)\n",
    "# Heating_ohe = OneHotEncoder()\n",
    "\n",
    "# X = Heating_ohe.fit_transform(df.heating.values.reshape(-1,1)).toarray()\n",
    "# dfOneHot = pd.DataFrame(X, columns = [\"heating_\"+str(int(i)) for i in range(X.shape[1])])\n",
    "# df = pd.concat([df, dfOneHot], axis=1)"
   ]
  },
  {
   "cell_type": "code",
   "execution_count": 6,
   "metadata": {},
   "outputs": [],
   "source": [
    "# df[\"house_type\"].fillna(\"None\", inplace = True)\n",
    "# House_type_ohe = OneHotEncoder()\n",
    "\n",
    "# X = House_type_ohe.fit_transform(df.house_type.values.reshape(-1,1)).toarray()\n",
    "# dfOneHot = pd.DataFrame(X, columns = [\"House_type_\"+str(int(i)) for i in range(X.shape[1])])\n",
    "# df = pd.concat([df, dfOneHot], axis=1)"
   ]
  },
  {
   "cell_type": "markdown",
   "metadata": {},
   "source": [
    "## encoder OrdinalEncoder"
   ]
  },
  {
   "cell_type": "code",
   "execution_count": 7,
   "metadata": {},
   "outputs": [],
   "source": [
    "# enc = OrdinalEncoder()\n",
    "# features_to_encode = [\"heating\", \"house_type\", \"district\"]\n",
    "# def encoderOrdinalEncoder(feature):\n",
    "#     df[feature] = enc.fit_transform(df[feature].values.reshape(-1, 1))\n",
    "\n",
    "# for feature in features_to_encode:\n",
    "#     encoderOrdinalEncoder(feature)\n",
    "\n",
    "# !!worse RMSE and MAE results compared with one-hot"
   ]
  },
  {
   "cell_type": "markdown",
   "metadata": {},
   "source": [
    "## pipline and model"
   ]
  },
  {
   "cell_type": "code",
   "execution_count": 8,
   "metadata": {},
   "outputs": [],
   "source": [
    "Pipeline_rfr = Pipeline(steps = [\n",
    "    (\"impute\", SimpleImputer(missing_values=np.nan)), \n",
    "    (\"rfr\", RandomForestRegressor(random_state=42))\n",
    "])"
   ]
  },
  {
   "cell_type": "markdown",
   "metadata": {},
   "source": [
    "## train_test_split"
   ]
  },
  {
   "cell_type": "code",
   "execution_count": 9,
   "metadata": {},
   "outputs": [],
   "source": [
    "df_train = df.select_dtypes(include=['float64','int64'])\n",
    "\n",
    "df_features = df_train.drop(columns=\"rent_price\")\n",
    "df_target = df_train[\"rent_price\"]\n",
    "\n",
    "X_train, X_test, y_train, y_test = train_test_split(df_features, df_target, random_state=42)"
   ]
  },
  {
   "cell_type": "code",
   "execution_count": 10,
   "metadata": {},
   "outputs": [],
   "source": [
    "# https://towardsdatascience.com/hyperparameter-tuning-the-random-forest-in-python-using-scikit-learn-28d2aa77dd74\n",
    "# Number of trees in random forest\n",
    "n_estimators = [int(x) for x in np.linspace(start = 200, stop = 2000, num = 10)]\n",
    "# Number of features to consider at every split\n",
    "max_features = ['auto', 'sqrt']\n",
    "# Maximum number of levels in tree\n",
    "max_depth = [int(x) for x in np.linspace(10, 110, num = 11)]\n",
    "max_depth.append(None)\n",
    "# Minimum number of samples required to split a node\n",
    "min_samples_split = [2, 5, 10]\n",
    "# Minimum number of samples required at each leaf node\n",
    "min_samples_leaf = [1, 2, 4]\n",
    "# Method of selecting samples for training each tree\n",
    "bootstrap = [True, False]\n",
    "# Create the random grid\n",
    "random_grid = {'rfr__n_estimators': n_estimators,\n",
    "               'rfr__max_features': max_features,\n",
    "               'rfr__max_depth': max_depth,\n",
    "               'rfr__min_samples_split': min_samples_split,\n",
    "               'rfr__min_samples_leaf': min_samples_leaf,\n",
    "               'rfr__bootstrap': bootstrap}\n",
    "\n",
    "\n",
    "# max_features = ['auto', 'sqrt']\n",
    "# random_grid = {'rfr__max_features': max_features}\n",
    "\n",
    "\n",
    "rf_random = RandomizedSearchCV(Pipeline_rfr, param_distributions = random_grid, cv = 5, scoring=\"neg_mean_squared_error\", n_iter=100)"
   ]
  },
  {
   "cell_type": "code",
   "execution_count": 11,
   "metadata": {
    "scrolled": true
   },
   "outputs": [
    {
     "data": {
      "text/plain": [
       "Pipeline(memory=None,\n",
       "         steps=[('impute',\n",
       "                 SimpleImputer(add_indicator=False, copy=True, fill_value=None,\n",
       "                               missing_values=nan, strategy='mean',\n",
       "                               verbose=0)),\n",
       "                ('rfr',\n",
       "                 RandomForestRegressor(bootstrap=False, criterion='mse',\n",
       "                                       max_depth=100, max_features='sqrt',\n",
       "                                       max_leaf_nodes=None,\n",
       "                                       min_impurity_decrease=0.0,\n",
       "                                       min_impurity_split=None,\n",
       "                                       min_samples_leaf=1, min_samples_split=5,\n",
       "                                       min_weight_fraction_leaf=0.0,\n",
       "                                       n_estimators=800, n_jobs=None,\n",
       "                                       oob_score=False, random_state=42,\n",
       "                                       verbose=0, warm_start=False))],\n",
       "         verbose=False)"
      ]
     },
     "execution_count": 11,
     "metadata": {},
     "output_type": "execute_result"
    }
   ],
   "source": [
    "rf_random.fit(X_train, y_train)\n",
    "rf_random.best_estimator_"
   ]
  },
  {
   "cell_type": "code",
   "execution_count": 12,
   "metadata": {},
   "outputs": [
    {
     "name": "stdout",
     "output_type": "stream",
     "text": [
      "RSME: 88\n",
      "MAE: 60\n"
     ]
    }
   ],
   "source": [
    "print(\"RSME:\", int((mean_squared_error(y_test, rf_random.predict(X_test)))**0.5))\n",
    "print(\"MAE:\", int((mean_absolute_error(y_test, rf_random.predict(X_test)))))"
   ]
  },
  {
   "cell_type": "code",
   "execution_count": 13,
   "metadata": {
    "scrolled": false
   },
   "outputs": [
    {
     "name": "stdout",
     "output_type": "stream",
     "text": [
      "RSME: 39\n",
      "MAE: 25\n"
     ]
    }
   ],
   "source": [
    "print(\"RSME:\", int((mean_squared_error(y_train, rf_random.predict(X_train)))**0.5))\n",
    "print(\"MAE:\", int((mean_absolute_error(y_train, rf_random.predict(X_train)))))"
   ]
  },
  {
   "cell_type": "code",
   "execution_count": 14,
   "metadata": {},
   "outputs": [],
   "source": [
    "feature_importances = rf_random.best_estimator_.named_steps['rfr'].feature_importances_\n",
    "model = rf_random.best_estimator_.named_steps['rfr']\n",
    "feature_names = X_train.columns"
   ]
  },
  {
   "cell_type": "code",
   "execution_count": 15,
   "metadata": {},
   "outputs": [
    {
     "name": "stdout",
     "output_type": "stream",
     "text": [
      "floor ; 0.035966042220481644\n",
      "total_floor_num ; 0.05427207875595878\n",
      "room_num ; 0.1718692017949321\n",
      "area ; 0.311622626942823\n",
      "year ; 0.16422311169062845\n",
      "year_renovation ; 0.005336215928159226\n",
      "top_floor ; 0.007978333407415217\n",
      "oldtown ; 0.07436703715702726\n",
      "district_0 ; 0.0009752415429052422\n",
      "district_1 ; 0.003561312160195651\n",
      "district_2 ; 0.00011643477209739218\n",
      "district_3 ; 0.0010718198560734046\n",
      "district_4 ; 0.001170281394150189\n",
      "district_5 ; 0.00014891848744267482\n",
      "district_6 ; 0.0031717894966386932\n",
      "district_7 ; 4.8900153534790285e-05\n",
      "district_8 ; 0.0029627723671588474\n",
      "district_9 ; 0.00033269846281714944\n",
      "district_10 ; 0.00010853925828884863\n",
      "district_11 ; 0.0007172881979717932\n",
      "district_12 ; 0.003538276836533443\n",
      "district_13 ; 0.0001473479439387335\n",
      "district_14 ; 0.001946633324513017\n",
      "district_15 ; 0.0006582357037957257\n",
      "district_16 ; 0.0021758281926523367\n",
      "district_17 ; 0.0005284859668788197\n",
      "district_18 ; 0.018639327506480077\n",
      "district_19 ; 0.0023361252947159293\n",
      "district_20 ; 0.0031639691160656423\n",
      "district_21 ; 0.006595277418777427\n",
      "district_22 ; 0.0\n",
      "district_23 ; 0.004904816758384586\n",
      "district_24 ; 0.0012503251988502239\n",
      "district_25 ; 0.00011808900336364558\n",
      "district_26 ; 0.06391835533850937\n",
      "district_27 ; 0.003440724337759078\n",
      "district_28 ; 0.0012780544189806892\n",
      "district_29 ; 0.007517856115882066\n",
      "district_30 ; 0.0003801662194462323\n",
      "district_31 ; 0.003469837956056704\n",
      "district_32 ; 0.02031501798904807\n",
      "district_33 ; 0.0020312876033900325\n",
      "district_34 ; 0.0002187450561815833\n",
      "district_35 ; 4.668886080782498e-05\n",
      "district_36 ; 0.000645458455502733\n",
      "district_37 ; 0.0003252453190114817\n",
      "district_38 ; 0.0010699079941286103\n",
      "district_39 ; 0.001644422098001159\n",
      "district_40 ; 0.007674849925644468\n"
     ]
    }
   ],
   "source": [
    "for importances, names in zip(feature_importances, feature_names):\n",
    "    print(names,\";\", importances)"
   ]
  },
  {
   "cell_type": "code",
   "execution_count": 16,
   "metadata": {
    "scrolled": true
   },
   "outputs": [
    {
     "data": {
      "text/plain": [
       "array(['x0_0', 'x0_antakalnyje', 'x0_aukstuosiuose-paneriuose',\n",
       "       'x0_avizieniuose', 'x0_bajoruose', 'x0_balsiuose',\n",
       "       'x0_baltupiuose', 'x0_burbiskes', 'x0_fabijoniskese',\n",
       "       'x0_filaretuose', 'x0_grigiskese', 'x0_jeruzaleje',\n",
       "       'x0_justiniskese', 'x0_kalnenuose', 'x0_karoliniskese',\n",
       "       'x0_lazdyneliuose', 'x0_lazdynuose', 'x0_markuciuose',\n",
       "       'x0_naujamiestyje', 'x0_naujininkuose', 'x0_naujojoje-vilnioje',\n",
       "       'x0_pasilaiciuose', 'x0_pavilnyje', 'x0_pilaiteje',\n",
       "       'x0_santariskese', 'x0_sauletekyje', 'x0_senamiestyje',\n",
       "       'x0_seskineje', 'x0_siaures-miestelyje', 'x0_snipiskese',\n",
       "       'x0_tarandeje', 'x0_traku', 'x0_uzupyje', 'x0_valakampiuose',\n",
       "       'x0_verkiuose', 'x0_vilkpedeje', 'x0_virsuliskese',\n",
       "       'x0_visoriuose', 'x0_zemuosiuose-paneriuose', 'x0_zirmunuose',\n",
       "       'x0_zveryne'], dtype=object)"
      ]
     },
     "execution_count": 16,
     "metadata": {},
     "output_type": "execute_result"
    }
   ],
   "source": [
    "district_ohe.get_feature_names()"
   ]
  },
  {
   "cell_type": "markdown",
   "metadata": {},
   "source": [
    "## Gradient Boosting regression"
   ]
  },
  {
   "cell_type": "code",
   "execution_count": 32,
   "metadata": {},
   "outputs": [
    {
     "data": {
      "text/plain": [
       "Pipeline(memory=None,\n",
       "         steps=[('impute',\n",
       "                 SimpleImputer(add_indicator=False, copy=True, fill_value=None,\n",
       "                               missing_values=nan, strategy='mean',\n",
       "                               verbose=0)),\n",
       "                ('gbrt',\n",
       "                 GradientBoostingRegressor(alpha=0.9, criterion='friedman_mse',\n",
       "                                           init=None, learning_rate=0.02,\n",
       "                                           loss='ls', max_depth=66,\n",
       "                                           max_features=None,\n",
       "                                           max_leaf_nodes=None,\n",
       "                                           min_impurity_decrease=0.0,\n",
       "                                           min_impurity_split=None,\n",
       "                                           min_samples_leaf=10,\n",
       "                                           min_samples_split=25,\n",
       "                                           min_weight_fraction_leaf=0.0,\n",
       "                                           n_estimators=200,\n",
       "                                           n_iter_no_change=None,\n",
       "                                           presort='auto', random_state=42,\n",
       "                                           subsample=1.0, tol=0.0001,\n",
       "                                           validation_fraction=0.1, verbose=0,\n",
       "                                           warm_start=False))],\n",
       "         verbose=False)"
      ]
     },
     "execution_count": 32,
     "metadata": {},
     "output_type": "execute_result"
    }
   ],
   "source": [
    "Pipeline_gbrt = Pipeline(steps = [\n",
    "    (\"impute\", SimpleImputer(missing_values=np.nan)), \n",
    "    (\"gbrt\", GradientBoostingRegressor(random_state=42))\n",
    "])\n",
    "\n",
    "n_estimators = [int(x) for x in np.linspace(start = 200, stop = 2000, num = 10)]\n",
    "learn_rates = [0.02, 0.05, 0.06]\n",
    "max_depths = [int(x) for x in np.linspace(10, 150, num = 11)]\n",
    "max_depths.append(None)\n",
    "min_samples_leaf = [5,10,15,25,50]\n",
    "min_samples_split = [5,10,25,50]\n",
    "\n",
    "params = {'gbrt__n_estimators': n_estimators,\n",
    "              'gbrt__learning_rate': learn_rates,\n",
    "              'gbrt__max_depth': max_depths,\n",
    "              'gbrt__min_samples_leaf': min_samples_leaf,\n",
    "              'gbrt__min_samples_split': min_samples_split}\n",
    "\n",
    "gbrt_random = RandomizedSearchCV(Pipeline_gbrt,param_distributions = params, random_state=42)\n",
    "gbrt_random.fit(X_train, y_train)\n",
    "gbrt_random.best_estimator_"
   ]
  },
  {
   "cell_type": "code",
   "execution_count": 33,
   "metadata": {},
   "outputs": [
    {
     "name": "stdout",
     "output_type": "stream",
     "text": [
      "RSME: 97\n",
      "MAE: 68\n"
     ]
    }
   ],
   "source": [
    "print(\"RSME:\", int((mean_squared_error(y_test, gbrt_random.predict(X_test)))**0.5))\n",
    "print(\"MAE:\", int((mean_absolute_error(y_test, gbrt_random.predict(X_test)))))"
   ]
  },
  {
   "cell_type": "markdown",
   "metadata": {},
   "source": [
    "## export"
   ]
  },
  {
   "cell_type": "code",
   "execution_count": 24,
   "metadata": {
    "scrolled": true
   },
   "outputs": [
    {
     "data": {
      "text/plain": [
       "['RFR 88.pkl']"
      ]
     },
     "execution_count": 24,
     "metadata": {},
     "output_type": "execute_result"
    }
   ],
   "source": [
    "import joblib\n",
    "joblib.dump(rf_random, 'RFR 88.pkl', compress=9)\n",
    "# model = joblib.load('RFR 88.pkl')\n",
    "# X_train"
   ]
  },
  {
   "cell_type": "code",
   "execution_count": 25,
   "metadata": {},
   "outputs": [],
   "source": [
    "# predicted_prices = model.predict(df_features)\n",
    "\n",
    "# my_submission = pd.DataFrame({'area': df_features.area, 'predicted_prices': predicted_prices})\n",
    "# my_submission.to_csv('predicted_prices.csv', index=False)"
   ]
  },
  {
   "cell_type": "code",
   "execution_count": null,
   "metadata": {},
   "outputs": [],
   "source": [
    "# df_features.to_csv('full.csv', index=False)\n",
    "# df_target.to_csv('full target.csv', index=False)\n",
    "# df.to_csv('df.csv', index=False)"
   ]
  }
 ],
 "metadata": {
  "kernelspec": {
   "display_name": "Python 3",
   "language": "python",
   "name": "python3"
  },
  "language_info": {
   "codemirror_mode": {
    "name": "ipython",
    "version": 3
   },
   "file_extension": ".py",
   "mimetype": "text/x-python",
   "name": "python",
   "nbconvert_exporter": "python",
   "pygments_lexer": "ipython3",
   "version": "3.7.3"
  }
 },
 "nbformat": 4,
 "nbformat_minor": 2
}
