{
 "cells": [
  {
   "cell_type": "code",
   "execution_count": 1,
   "metadata": {},
   "outputs": [],
   "source": [
    "import pandas as pd\n",
    "import matplotlib.pyplot as plt\n",
    "import numpy as np\n",
    "import seaborn as sns\n",
    "\n",
    "max_rent_price = 1500\n",
    "min_rent_price = 150\n",
    "min_year = 1900"
   ]
  },
  {
   "cell_type": "code",
   "execution_count": 2,
   "metadata": {},
   "outputs": [
    {
     "data": {
      "text/html": [
       "<div>\n",
       "<style scoped>\n",
       "    .dataframe tbody tr th:only-of-type {\n",
       "        vertical-align: middle;\n",
       "    }\n",
       "\n",
       "    .dataframe tbody tr th {\n",
       "        vertical-align: top;\n",
       "    }\n",
       "\n",
       "    .dataframe thead th {\n",
       "        text-align: right;\n",
       "    }\n",
       "</style>\n",
       "<table border=\"1\" class=\"dataframe\">\n",
       "  <thead>\n",
       "    <tr style=\"text-align: right;\">\n",
       "      <th></th>\n",
       "      <th>Adresas</th>\n",
       "      <th>Aktyvus iki</th>\n",
       "      <th>Apsauga:</th>\n",
       "      <th>Aukštas:</th>\n",
       "      <th>Aukštų sk.:</th>\n",
       "      <th>Buto numeris:</th>\n",
       "      <th>Kaina mėn.:</th>\n",
       "      <th>Kambarių sk.:</th>\n",
       "      <th>Metai:</th>\n",
       "      <th>Namo numeris:</th>\n",
       "      <th>...</th>\n",
       "      <th>Pastato energijos suvartojimo klasė:</th>\n",
       "      <th>Pastato tipas:</th>\n",
       "      <th>Peržiūrėjo</th>\n",
       "      <th>Plotas:</th>\n",
       "      <th>Redaguotas</th>\n",
       "      <th>Ypatybės:</th>\n",
       "      <th>Įdėtas</th>\n",
       "      <th>Įrengimas:</th>\n",
       "      <th>Įsiminė</th>\n",
       "      <th>Šildymas:</th>\n",
       "    </tr>\n",
       "  </thead>\n",
       "  <tbody>\n",
       "    <tr>\n",
       "      <th>1</th>\n",
       "      <td>https://www.aruodas.lt/butu-nuoma-vilniuje-nau...</td>\n",
       "      <td>NaN</td>\n",
       "      <td>NaN</td>\n",
       "      <td>4.0</td>\n",
       "      <td>6.0</td>\n",
       "      <td>24</td>\n",
       "      <td>890 €</td>\n",
       "      <td>3.0</td>\n",
       "      <td>2017</td>\n",
       "      <td>4</td>\n",
       "      <td>...</td>\n",
       "      <td>NaN</td>\n",
       "      <td>Monolitinis</td>\n",
       "      <td>3641/99 (iš viso/šiandien)</td>\n",
       "      <td>76 m²</td>\n",
       "      <td>2019-11-28</td>\n",
       "      <td>NaN</td>\n",
       "      <td>2019-11-11</td>\n",
       "      <td>Įrengtas                                      ...</td>\n",
       "      <td>5.0</td>\n",
       "      <td>Centrinis kolektorinis</td>\n",
       "    </tr>\n",
       "    <tr>\n",
       "      <th>2</th>\n",
       "      <td>https://www.aruodas.lt/butu-nuoma-vilniuje-sen...</td>\n",
       "      <td>NaN</td>\n",
       "      <td>NaN</td>\n",
       "      <td>4.0</td>\n",
       "      <td>6.0</td>\n",
       "      <td>24</td>\n",
       "      <td>890 €</td>\n",
       "      <td>3.0</td>\n",
       "      <td>2017</td>\n",
       "      <td>4</td>\n",
       "      <td>...</td>\n",
       "      <td>NaN</td>\n",
       "      <td>Monolitinis</td>\n",
       "      <td>753/35 (iš viso/šiandien)</td>\n",
       "      <td>76 m²</td>\n",
       "      <td>2019-11-28</td>\n",
       "      <td>NaN</td>\n",
       "      <td>2019-11-28</td>\n",
       "      <td>Įrengtas                                      ...</td>\n",
       "      <td>2.0</td>\n",
       "      <td>Centrinis kolektorinis</td>\n",
       "    </tr>\n",
       "    <tr>\n",
       "      <th>3</th>\n",
       "      <td>https://www.aruodas.lt/butu-nuoma-vilniuje-laz...</td>\n",
       "      <td>NaN</td>\n",
       "      <td>Šarvuotos durys\\nKodinė laiptinės spyna</td>\n",
       "      <td>2.0</td>\n",
       "      <td>4.0</td>\n",
       "      <td>NaN</td>\n",
       "      <td>440 €</td>\n",
       "      <td>2.0</td>\n",
       "      <td>2008</td>\n",
       "      <td>NaN</td>\n",
       "      <td>...</td>\n",
       "      <td>NaN</td>\n",
       "      <td>Mūrinis</td>\n",
       "      <td>183/183 (iš viso/šiandien)</td>\n",
       "      <td>68 m²</td>\n",
       "      <td>2019-12-04</td>\n",
       "      <td>Aukštos lubos\\nNauja kanalizacija\\nNauja elekt...</td>\n",
       "      <td>2019-12-04</td>\n",
       "      <td>Įrengtas                                      ...</td>\n",
       "      <td>1.0</td>\n",
       "      <td>Centrinis kolektorinis</td>\n",
       "    </tr>\n",
       "    <tr>\n",
       "      <th>4</th>\n",
       "      <td>https://www.aruodas.lt/butu-nuoma-vilniuje-pil...</td>\n",
       "      <td>2020-01-08</td>\n",
       "      <td>Šarvuotos durys\\nSignalizacija\\nKodinė laiptin...</td>\n",
       "      <td>1.0</td>\n",
       "      <td>4.0</td>\n",
       "      <td>NaN</td>\n",
       "      <td>460 €</td>\n",
       "      <td>2.0</td>\n",
       "      <td>2007</td>\n",
       "      <td>13</td>\n",
       "      <td>...</td>\n",
       "      <td>NaN</td>\n",
       "      <td>Mūrinis</td>\n",
       "      <td>2138/124 (iš viso/šiandien)</td>\n",
       "      <td>56,63 m²</td>\n",
       "      <td>2019-11-27</td>\n",
       "      <td>Internetas\\nKabelinė televizija\\nVirtuvė sujun...</td>\n",
       "      <td>2019-11-24</td>\n",
       "      <td>Įrengtas                                      ...</td>\n",
       "      <td>1.0</td>\n",
       "      <td>Centrinis kolektorinis</td>\n",
       "    </tr>\n",
       "    <tr>\n",
       "      <th>5</th>\n",
       "      <td>https://www.aruodas.lt/butu-nuoma-vilniuje-sen...</td>\n",
       "      <td>2020-01-09</td>\n",
       "      <td>NaN</td>\n",
       "      <td>2.0</td>\n",
       "      <td>3.0</td>\n",
       "      <td>NaN</td>\n",
       "      <td>811 €</td>\n",
       "      <td>3.0</td>\n",
       "      <td>1940</td>\n",
       "      <td>9</td>\n",
       "      <td>...</td>\n",
       "      <td>NaN</td>\n",
       "      <td>Mūrinis</td>\n",
       "      <td>1252/66 (iš viso/šiandien)</td>\n",
       "      <td>64 m²</td>\n",
       "      <td>2019-11-25</td>\n",
       "      <td>NaN</td>\n",
       "      <td>2019-11-25</td>\n",
       "      <td>Įrengtas                                      ...</td>\n",
       "      <td>10.0</td>\n",
       "      <td>Dujinis</td>\n",
       "    </tr>\n",
       "  </tbody>\n",
       "</table>\n",
       "<p>5 rows × 23 columns</p>\n",
       "</div>"
      ],
      "text/plain": [
       "                                             Adresas Aktyvus iki  \\\n",
       "1  https://www.aruodas.lt/butu-nuoma-vilniuje-nau...         NaN   \n",
       "2  https://www.aruodas.lt/butu-nuoma-vilniuje-sen...         NaN   \n",
       "3  https://www.aruodas.lt/butu-nuoma-vilniuje-laz...         NaN   \n",
       "4  https://www.aruodas.lt/butu-nuoma-vilniuje-pil...  2020-01-08   \n",
       "5  https://www.aruodas.lt/butu-nuoma-vilniuje-sen...  2020-01-09   \n",
       "\n",
       "                                            Apsauga:  Aukštas:  Aukštų sk.:  \\\n",
       "1                                                NaN       4.0          6.0   \n",
       "2                                                NaN       4.0          6.0   \n",
       "3            Šarvuotos durys\\nKodinė laiptinės spyna       2.0          4.0   \n",
       "4  Šarvuotos durys\\nSignalizacija\\nKodinė laiptin...       1.0          4.0   \n",
       "5                                                NaN       2.0          3.0   \n",
       "\n",
       "  Buto numeris: Kaina mėn.:  Kambarių sk.: Metai: Namo numeris:  ...  \\\n",
       "1            24       890 €            3.0   2017             4  ...   \n",
       "2            24       890 €            3.0   2017             4  ...   \n",
       "3           NaN       440 €            2.0   2008           NaN  ...   \n",
       "4           NaN       460 €            2.0   2007            13  ...   \n",
       "5           NaN       811 €            3.0   1940             9  ...   \n",
       "\n",
       "  Pastato energijos suvartojimo klasė: Pastato tipas:  \\\n",
       "1                                  NaN    Monolitinis   \n",
       "2                                  NaN    Monolitinis   \n",
       "3                                  NaN        Mūrinis   \n",
       "4                                  NaN        Mūrinis   \n",
       "5                                  NaN        Mūrinis   \n",
       "\n",
       "                    Peržiūrėjo   Plotas:  Redaguotas  \\\n",
       "1   3641/99 (iš viso/šiandien)     76 m²  2019-11-28   \n",
       "2    753/35 (iš viso/šiandien)     76 m²  2019-11-28   \n",
       "3   183/183 (iš viso/šiandien)     68 m²  2019-12-04   \n",
       "4  2138/124 (iš viso/šiandien)  56,63 m²  2019-11-27   \n",
       "5   1252/66 (iš viso/šiandien)     64 m²  2019-11-25   \n",
       "\n",
       "                                           Ypatybės:      Įdėtas  \\\n",
       "1                                                NaN  2019-11-11   \n",
       "2                                                NaN  2019-11-28   \n",
       "3  Aukštos lubos\\nNauja kanalizacija\\nNauja elekt...  2019-12-04   \n",
       "4  Internetas\\nKabelinė televizija\\nVirtuvė sujun...  2019-11-24   \n",
       "5                                                NaN  2019-11-25   \n",
       "\n",
       "                                          Įrengimas: Įsiminė  \\\n",
       "1  Įrengtas                                      ...     5.0   \n",
       "2  Įrengtas                                      ...     2.0   \n",
       "3  Įrengtas                                      ...     1.0   \n",
       "4  Įrengtas                                      ...     1.0   \n",
       "5  Įrengtas                                      ...    10.0   \n",
       "\n",
       "                Šildymas:  \n",
       "1  Centrinis kolektorinis  \n",
       "2  Centrinis kolektorinis  \n",
       "3  Centrinis kolektorinis  \n",
       "4  Centrinis kolektorinis  \n",
       "5                 Dujinis  \n",
       "\n",
       "[5 rows x 23 columns]"
      ]
     },
     "execution_count": 2,
     "metadata": {},
     "output_type": "execute_result"
    }
   ],
   "source": [
    "df = pd.read_excel(\".\\input\\output input all features.xlsx\")\n",
    "df =df.drop([df[pd.isna(df[\"Kaina mėn.:\"])].index][0])\n",
    "df.head()"
   ]
  },
  {
   "cell_type": "markdown",
   "metadata": {},
   "source": [
    "## Cleaning target col"
   ]
  },
  {
   "cell_type": "code",
   "execution_count": 3,
   "metadata": {},
   "outputs": [],
   "source": [
    "try:\n",
    "    df['Kaina mėn.:'] = df['Kaina mėn.:'].str.replace(' €','')\n",
    "    df['Kaina mėn.:'] = df['Kaina mėn.:'].str.replace(' ','')\n",
    "    df['Kaina mėn.:'] = df['Kaina mėn.:'].astype(int)\n",
    "    df = df[df['Kaina mėn.:']< max_rent_price]\n",
    "    df = df[df['Kaina mėn.:']> min_rent_price]\n",
    "except:\n",
    "    print(\"Target col is converted\")\n",
    "df.rename(columns={\"Kaina mėn.:\": \"rent_price\"}, inplace=True)"
   ]
  },
  {
   "cell_type": "markdown",
   "metadata": {},
   "source": [
    "## Cleaning feature cols"
   ]
  },
  {
   "cell_type": "code",
   "execution_count": 4,
   "metadata": {},
   "outputs": [],
   "source": [
    "df.rename(columns={\"Aukštas:\": \"floor\", \"Aukštų sk.:\": \"total_floor_num\",\n",
    "                   \"Kambarių sk.:\":\"room_num\", \"Metai:\":\"year_full\",\n",
    "                   \"Plotas:\":\"area\",\"Pastato tipas:\":\"house_type\", \n",
    "                  \"Šildymas:\":\"heating\", \"Apsauga:\": \"security\",\n",
    "                   \"Ypatybės:\":\"general\"\n",
    "                  }, inplace=True)"
   ]
  },
  {
   "cell_type": "code",
   "execution_count": 5,
   "metadata": {},
   "outputs": [],
   "source": [
    "df[['year','year_renovation']] = df['year_full'].str.split(',',expand=True)\n",
    "# cut year int\n",
    "df['year'] = df['year_full'].str[:4]\n",
    "df['year'].fillna(df[\"year_full\"],inplace = True)\n",
    "df[\"year\"] = pd.to_numeric(df[\"year\"],downcast='integer')\n",
    "df['year_renovation'] = df['year_renovation'].str[:5]\n",
    "df[\"year_renovation\"] = pd.to_numeric(df[\"year_renovation\"],downcast='integer')\n",
    "\n",
    "df = df[df['year']> min_year]"
   ]
  },
  {
   "cell_type": "code",
   "execution_count": 6,
   "metadata": {},
   "outputs": [],
   "source": [
    "try:\n",
    "    df['area'] = df['area'].str.replace(' m²','')\n",
    "    df['area'] = df['area'].str.replace(',','.')\n",
    "except:\n",
    "    print(\"Target col is converted\")\n",
    "df[\"area\"] = pd.to_numeric(df[\"area\"],downcast='float')"
   ]
  },
  {
   "cell_type": "code",
   "execution_count": 13,
   "metadata": {},
   "outputs": [
    {
     "data": {
      "text/plain": [
       "Virtuvė sujungta su kambariu                                                                                                                                                           25\n",
       "Tualetas ir vonia atskirai                                                                                                                                                             24\n",
       "Internetas\\nKabelinė televizija                                                                                                                                                        23\n",
       "Internetas\\nKabelinė televizija\\nVirtuvė sujungta su kambariu                                                                                                                          23\n",
       "Aukštos lubos\\nUždaras kiemas\\nInternetas\\nKabelinė televizija                                                                                                                         18\n",
       "Uždaras kiemas\\nInternetas\\nKabelinė televizija\\nVirtuvė sujungta su kambariu                                                                                                          17\n",
       "Tualetas ir vonia atskirai\\nInternetas\\nKabelinė televizija                                                                                                                            17\n",
       "Internetas                                                                                                                                                                             14\n",
       "Nauja kanalizacija\\nNauja elektros instaliacija\\nInternetas\\nKabelinė televizija\\nVirtuvė sujungta su kambariu                                                                         14\n",
       "Nauja kanalizacija\\nNauja elektros instaliacija\\nUždaras kiemas\\nInternetas\\nKabelinė televizija\\nVirtuvė sujungta su kambariu                                                         14\n",
       "Uždaras kiemas\\nInternetas\\nKabelinė televizija                                                                                                                                        11\n",
       "Internetas\\nVirtuvė sujungta su kambariu\\nKabelinė televizija                                                                                                                           9\n",
       "Aukštos lubos                                                                                                                                                                           8\n",
       "Nauja kanalizacija\\nNauja elektros instaliacija\\nInternetas\\nKabelinė televizija                                                                                                        8\n",
       "Internetas\\nVirtuvė sujungta su kambariu                                                                                                                                                8\n",
       "Nauja kanalizacija\\nNauja elektros instaliacija\\nUždaras kiemas\\nVirtuvė sujungta su kambariu                                                                                           8\n",
       "Aukštos lubos\\nNauja kanalizacija\\nNauja elektros instaliacija\\nInternetas\\nKabelinė televizija\\nVirtuvė sujungta su kambariu                                                           7\n",
       "Aukštos lubos\\nNauja kanalizacija\\nNauja elektros instaliacija\\nUždaras kiemas\\nInternetas\\nKabelinė televizija\\nVirtuvė sujungta su kambariu                                           6\n",
       "Uždaras kiemas\\nInternetas\\nAukštos lubos\\nNauja kanalizacija\\nNauja elektros instaliacija\\nVirtuvė sujungta su kambariu\\nKabelinė televizija                                           6\n",
       "Nauja elektros instaliacija\\nInternetas\\nKabelinė televizija                                                                                                                            6\n",
       "Atskiras įėjimas\\nAukštos lubos\\nNauja kanalizacija\\nNauja elektros instaliacija\\nUždaras kiemas\\nInternetas\\nKabelinė televizija\\nVirtuvė sujungta su kambariu                         6\n",
       "Aukštos lubos\\nNauja kanalizacija\\nNauja elektros instaliacija\\nUždaras kiemas\\nInternetas\\nKabelinė televizija                                                                         5\n",
       "Uždaras kiemas\\nInternetas\\nAukštos lubos\\nKabelinė televizija                                                                                                                          5\n",
       "Uždaras kiemas\\nInternetas\\nNauja kanalizacija\\nNauja elektros instaliacija\\nVirtuvė sujungta su kambariu\\nKabelinė televizija                                                          5\n",
       "Nauja elektros instaliacija\\nUždaras kiemas\\nInternetas\\nKabelinė televizija\\nVirtuvė sujungta su kambariu                                                                              5\n",
       "Internetas\\nNauja kanalizacija\\nNauja elektros instaliacija\\nVirtuvė sujungta su kambariu\\nKabelinė televizija                                                                          5\n",
       "Uždaras kiemas                                                                                                                                                                          5\n",
       "Uždaras kiemas\\nVirtuvė sujungta su kambariu                                                                                                                                            5\n",
       "Internetas\\nTualetas ir vonia atskirai\\nVirtuvė sujungta su kambariu\\nKabelinė televizija                                                                                               4\n",
       "Nauja kanalizacija\\nNauja elektros instaliacija\\nUždaras kiemas\\nInternetas\\nKabelinė televizija                                                                                        4\n",
       "                                                                                                                                                                                       ..\n",
       "Uždaras kiemas\\nInternetas                                                                                                                                                              1\n",
       "Nauja kanalizacija\\nNauja elektros instaliacija\\nRenovuotas namas                                                                                                                       1\n",
       "Atskiras įėjimas\\nButas per kelis aukštus\\nInternetas\\nKabelinė televizija\\nVirtuvė sujungta su kambariu                                                                                1\n",
       "Butas per kelis aukštus\\nVirtuvė sujungta su kambariu                                                                                                                                   1\n",
       "Butas per kelis aukštus\\nInternetas\\nVirtuvė sujungta su kambariu                                                                                                                       1\n",
       "Aukštos lubos\\nKabelinė televizija\\nInternetas\\nNauja kanalizacija\\nNauja elektros instaliacija\\nVirtuvė sujungta su kambariu                                                           1\n",
       "Internetas\\nAukštos lubos\\nTualetas ir vonia atskirai\\nNauja kanalizacija\\nVirtuvė sujungta su kambariu\\nKabelinė televizija                                                            1\n",
       "Kabelinė televizija                                                                                                                                                                     1\n",
       "Uždaras kiemas\\nKabelinė televizija\\nInternetas\\nVirtuvė sujungta su kambariu                                                                                                           1\n",
       "Aukštos lubos\\nButas per kelis aukštus\\nTualetas ir vonia atskirai\\nInternetas\\nKabelinė televizija\\nVirtuvė sujungta su kambariu                                                       1\n",
       "Uždaras kiemas\\nInternetas\\nAukštos lubos\\nVirtuvė sujungta su kambariu\\nKabelinė televizija                                                                                            1\n",
       "Aukštos lubos\\nKabelinė televizija\\nVirtuvė sujungta su kambariu\\nButo dalis                                                                                                            1\n",
       "Nauja kanalizacija\\nUždaras kiemas\\nInternetas\\nVirtuvė sujungta su kambariu                                                                                                            1\n",
       "Tualetas ir vonia atskirai\\nNauja elektros instaliacija\\nInternetas                                                                                                                     1\n",
       "Aukštos lubos\\nNauja kanalizacija\\nUždaras kiemas\\nVirtuvė sujungta su kambariu                                                                                                         1\n",
       "Uždaras kiemas\\nInternetas\\nNauja kanalizacija\\nNauja elektros instaliacija\\nKabelinė televizija                                                                                        1\n",
       "Internetas\\nAukštos lubos                                                                                                                                                               1\n",
       "Aukštos lubos\\nTualetas ir vonia atskirai\\nUždaras kiemas                                                                                                                               1\n",
       "Aukštos lubos\\nButas palėpėje\\nButas per kelis aukštus\\nVirtuvė sujungta su kambariu                                                                                                    1\n",
       "Renovuotas namas                                                                                                                                                                        1\n",
       "Aukštos lubos\\nButas per kelis aukštus\\nVirtuvė sujungta su kambariu                                                                                                                    1\n",
       "Aukštos lubos\\nAtskiras įėjimas\\nUždaras kiemas\\nKabelinė televizija\\nInternetas\\nTualetas ir vonia atskirai\\nVirtuvė sujungta su kambariu                                              1\n",
       "Atskiras įėjimas\\nAukštos lubos\\nButas palėpėje\\nButas per kelis aukštus\\nUždaras kiemas\\nInternetas\\nKabelinė televizija\\nVirtuvė sujungta su kambariu                                 1\n",
       "Aukštos lubos\\nNauja kanalizacija\\nNauja elektros instaliacija\\nInternetas\\nVirtuvė sujungta su kambariu                                                                                1\n",
       "Tualetas ir vonia atskirai\\nKabelinė televizija\\nInternetas\\nVirtuvė sujungta su kambariu                                                                                               1\n",
       "Tualetas ir vonia atskirai\\nNauja kanalizacija\\nInternetas                                                                                                                              1\n",
       "Atskiras įėjimas\\nInternetas\\nKabelinė televizija                                                                                                                                       1\n",
       "Tualetas ir vonia atskirai\\nUždaras kiemas\\nVirtuvė sujungta su kambariu                                                                                                                1\n",
       "Butas per kelis aukštus\\nAukštos lubos\\nVirtuvė sujungta su kambariu                                                                                                                    1\n",
       "Uždaras kiemas\\nInternetas\\nButas per kelis aukštus\\nTualetas ir vonia atskirai\\nNauja kanalizacija\\nNauja elektros instaliacija\\nVirtuvė sujungta su kambariu\\nKabelinė televizija     1\n",
       "Name: Ypatybės:, Length: 174, dtype: int64"
      ]
     },
     "execution_count": 13,
     "metadata": {},
     "output_type": "execute_result"
    }
   ],
   "source": [
    "df[\"Ypatybės:\"].value_counts()"
   ]
  },
  {
   "cell_type": "markdown",
   "metadata": {},
   "source": [
    "## Removing not relevant feature columns"
   ]
  },
  {
   "cell_type": "code",
   "execution_count": null,
   "metadata": {},
   "outputs": [],
   "source": [
    "df.drop(columns=[\"Aktyvus iki\", \"Buto numeris:\",\n",
    "                 \"Namo numeris:\",\"Nuoroda\",\"Įdėtas\",\n",
    "                 \"Įrengimas:\", \"Įsiminė\",\n",
    "                 \"Pastato energijos suvartojimo klasė:\",\n",
    "                \"Redaguotas\", \"Peržiūrėjo\"], inplace = True)"
   ]
  },
  {
   "cell_type": "markdown",
   "metadata": {},
   "source": [
    "## New features"
   ]
  },
  {
   "cell_type": "code",
   "execution_count": null,
   "metadata": {},
   "outputs": [],
   "source": [
    "df[\"floors_from_top\"] = df[\"total_floor_num\"]- df[\"floor\"]\n",
    "df[\"top_floor\"] = (df[\"total_floor_num\"] == df[\"floor\"]).astype('int')"
   ]
  },
  {
   "cell_type": "code",
   "execution_count": null,
   "metadata": {},
   "outputs": [],
   "source": [
    "districts = [\"pasilaiciuose\", \"zveryne\", \"pilaiteje\", \"senamiestyje\", \n",
    "             \"naujamiestyje\", \"uzupyje\", \"snipiskese\", \"antakalnyje\",\n",
    "            \"zirmunuose\",\"lazdyneliuose\", \"karoliniskese\", \"naujojoje-vilnioje\", \"tarandeje\",\"seskineje\",\n",
    "             \"grigiskese\", \"santariskese\", \"balsiuose\", \"siaures-miestelyje\",\n",
    "             \"markuciuose\", \"virsuliskese\",\"fabijoniskese\", \"valakampiuose\",\n",
    "             \"baltupiuose\",\"justiniskese\",\"visoriuose\",\"lazdynuose\",\"jeruzaleje\"\n",
    "             \"verkiuose\",\"avizieniuose\",\"filaretuose\",\"kalnenuose\",\n",
    "             \"pavilnyje\",\"bajoruose\", \"burbiskes\",\"naujininkuose\",\"vilkpedeje\",\n",
    "             \"zemuosiuose-paneriuose\",\"aukstuosiuose-paneriuose\",\"jeruzaleje\"\n",
    "            ]\n",
    "\n",
    "def map_district(district):    \n",
    "    df.loc[df[df['Adresas'].str.contains(district).values].index,\"district\"] = district\n",
    "    \n",
    "for i in districts:\n",
    "    map_district(i)"
   ]
  },
  {
   "cell_type": "code",
   "execution_count": 9,
   "metadata": {},
   "outputs": [],
   "source": [
    "df[\"general\"].fillna(value = \"None\", inplace = True)\n",
    "\n",
    "general_list = [\"Šarvuotos durys\", \"Kodinė laiptinės spyna\", \n",
    "                 \"Signalizacija\", \"Videokameros\", \"Budintis sargas\"\n",
    "                ]\n",
    "\n",
    "def map_security_type(security_type):    \n",
    "    df.loc[df[df['security'].str.contains(security_type).values].index, security_type] = 1\n",
    "    \n",
    "for i in security_type:\n",
    "    map_security_type(i)"
   ]
  },
  {
   "cell_type": "code",
   "execution_count": null,
   "metadata": {},
   "outputs": [],
   "source": [
    "df[\"security\"].fillna(value = \"None\", inplace = True)\n",
    "\n",
    "security_type = [\"Šarvuotos durys\", \"Kodinė laiptinės spyna\", \n",
    "                 \"Signalizacija\", \"Videokameros\", \"Budintis sargas\"\n",
    "                ]\n",
    "\n",
    "def map_security_type(security_type):    \n",
    "    df.loc[df[df['security'].str.contains(security_type).values].index, security_type] = 1\n",
    "    \n",
    "for i in security_type:\n",
    "    map_security_type(i)"
   ]
  },
  {
   "cell_type": "markdown",
   "metadata": {},
   "source": [
    "## Analysis features"
   ]
  },
  {
   "cell_type": "code",
   "execution_count": null,
   "metadata": {
    "scrolled": true
   },
   "outputs": [],
   "source": [
    "df[\"year\"] = pd.to_numeric(df[\"year\"],downcast='integer')\n",
    "\n",
    "plt.figure(figsize=(16, 6))\n",
    "ax = sns.scatterplot(x=\"year\", y=\"rent_price\", hue =\"rent_price\",           \n",
    "                     data= df[(df[\"district\"]==\"senamiestyje\")]\n",
    "                    ).set_title('Rent price vs year in Vilnius Old town')"
   ]
  },
  {
   "cell_type": "markdown",
   "metadata": {},
   "source": [
    "## Analysis target"
   ]
  },
  {
   "cell_type": "code",
   "execution_count": null,
   "metadata": {},
   "outputs": [],
   "source": [
    "n_bins = 15\n",
    "plt.hist(df[df[\"rent_price\"] < max_rent_price][\"rent_price\"], bins=n_bins)\n",
    "plt.show()"
   ]
  },
  {
   "cell_type": "markdown",
   "metadata": {},
   "source": [
    "## Export"
   ]
  },
  {
   "cell_type": "code",
   "execution_count": null,
   "metadata": {},
   "outputs": [],
   "source": [
    "# df.to_csv(\".\\output.csv\",index=False)"
   ]
  }
 ],
 "metadata": {
  "kernelspec": {
   "display_name": "Python 3",
   "language": "python",
   "name": "python3"
  },
  "language_info": {
   "codemirror_mode": {
    "name": "ipython",
    "version": 3
   },
   "file_extension": ".py",
   "mimetype": "text/x-python",
   "name": "python",
   "nbconvert_exporter": "python",
   "pygments_lexer": "ipython3",
   "version": "3.7.3"
  }
 },
 "nbformat": 4,
 "nbformat_minor": 2
}
