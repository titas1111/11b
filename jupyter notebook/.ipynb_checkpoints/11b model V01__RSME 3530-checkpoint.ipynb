{
 "cells": [
  {
   "cell_type": "code",
   "execution_count": 1,
   "metadata": {},
   "outputs": [],
   "source": [
    "import pandas as pd\n",
    "import os\n",
    "from sklearn.preprocessing import LabelEncoder\n",
    "from sklearn.ensemble import RandomForestRegressor\n",
    "from sklearn.model_selection import train_test_split\n",
    "from sklearn.metrics import mean_absolute_error"
   ]
  },
  {
   "cell_type": "markdown",
   "metadata": {},
   "source": [
    "## Read all input files and merge into one output"
   ]
  },
  {
   "cell_type": "code",
   "execution_count": 7,
   "metadata": {
    "scrolled": true
   },
   "outputs": [
    {
     "name": "stderr",
     "output_type": "stream",
     "text": [
      "C:\\Users\\Titas\\Anaconda3\\lib\\site-packages\\pandas\\core\\frame.py:7123: FutureWarning: Sorting because non-concatenation axis is not aligned. A future version\n",
      "of pandas will change to not sort by default.\n",
      "\n",
      "To accept the future behavior, pass 'sort=False'.\n",
      "\n",
      "To retain the current behavior and silence the warning, pass 'sort=True'.\n",
      "\n",
      "  sort=sort,\n"
     ]
    }
   ],
   "source": [
    "path = os.getcwd()+\"\\\\input\"\n",
    "files = os.listdir(path)\n",
    "\n",
    "files_xls = [r\"C:\\Users\\Titas\\Desktop\\11b\\jupyter notebook\\input\\\\\"+f for f in files if f[-4:] == 'xlsx']\n",
    "files_xls\n",
    "\n",
    "df = pd.DataFrame()\n",
    "for f in files_xls:\n",
    "    data = pd.read_excel(f, 'Sheet1')\n",
    "    df = df.append(data)\n",
    "df.to_excel(\"output.xlsx\", index= False)"
   ]
  },
  {
   "cell_type": "code",
   "execution_count": 14,
   "metadata": {
    "scrolled": false
   },
   "outputs": [
    {
     "name": "stdout",
     "output_type": "stream",
     "text": [
      "1313\n"
     ]
    },
    {
     "data": {
      "text/html": [
       "<div>\n",
       "<style scoped>\n",
       "    .dataframe tbody tr th:only-of-type {\n",
       "        vertical-align: middle;\n",
       "    }\n",
       "\n",
       "    .dataframe tbody tr th {\n",
       "        vertical-align: top;\n",
       "    }\n",
       "\n",
       "    .dataframe thead th {\n",
       "        text-align: right;\n",
       "    }\n",
       "</style>\n",
       "<table border=\"1\" class=\"dataframe\">\n",
       "  <thead>\n",
       "    <tr style=\"text-align: right;\">\n",
       "      <th></th>\n",
       "      <th>Adresas</th>\n",
       "      <th>Aukštas:</th>\n",
       "      <th>Aukštų sk.:</th>\n",
       "      <th>Buto numeris:</th>\n",
       "      <th>Kaina mėn.:</th>\n",
       "      <th>Kambarių sk.:</th>\n",
       "      <th>Metai:</th>\n",
       "      <th>Namo numeris:</th>\n",
       "      <th>Nuoroda</th>\n",
       "      <th>Pastato tipas:</th>\n",
       "      <th>Peržiūrėjo</th>\n",
       "      <th>Plotas:</th>\n",
       "      <th>Redaguotas</th>\n",
       "      <th>Įdėtas</th>\n",
       "      <th>Įrengimas:</th>\n",
       "      <th>Šildymas:</th>\n",
       "    </tr>\n",
       "  </thead>\n",
       "  <tbody>\n",
       "    <tr>\n",
       "      <td>0</td>\n",
       "      <td>https://www.aruodas.lt/butai-vilniuje-pasilaic...</td>\n",
       "      <td>NaN</td>\n",
       "      <td>NaN</td>\n",
       "      <td>NaN</td>\n",
       "      <td>NaN</td>\n",
       "      <td>NaN</td>\n",
       "      <td>NaN</td>\n",
       "      <td>NaN</td>\n",
       "      <td>NaN</td>\n",
       "      <td>NaN</td>\n",
       "      <td>NaN</td>\n",
       "      <td>NaN</td>\n",
       "      <td>NaN</td>\n",
       "      <td>NaN</td>\n",
       "      <td>NaN</td>\n",
       "      <td>NaN</td>\n",
       "    </tr>\n",
       "    <tr>\n",
       "      <td>1</td>\n",
       "      <td>https://www.aruodas.lt/butu-nuoma-vilniuje-pas...</td>\n",
       "      <td>3.0</td>\n",
       "      <td>9.0</td>\n",
       "      <td>NaN</td>\n",
       "      <td>450 €</td>\n",
       "      <td>2.0</td>\n",
       "      <td>2007</td>\n",
       "      <td>NaN</td>\n",
       "      <td>NaN</td>\n",
       "      <td>Mūrinis</td>\n",
       "      <td>NaN</td>\n",
       "      <td>64 m²</td>\n",
       "      <td>NaN</td>\n",
       "      <td>NaN</td>\n",
       "      <td>Įrengtas                                      ...</td>\n",
       "      <td>Centrinis kolektorinis</td>\n",
       "    </tr>\n",
       "    <tr>\n",
       "      <td>2</td>\n",
       "      <td>https://www.aruodas.lt/butu-nuoma-vilniuje-zve...</td>\n",
       "      <td>4.0</td>\n",
       "      <td>4.0</td>\n",
       "      <td>NaN</td>\n",
       "      <td>699 €</td>\n",
       "      <td>2.0</td>\n",
       "      <td>2019</td>\n",
       "      <td>10</td>\n",
       "      <td>NaN</td>\n",
       "      <td>Mūrinis</td>\n",
       "      <td>NaN</td>\n",
       "      <td>41,47 m²</td>\n",
       "      <td>NaN</td>\n",
       "      <td>NaN</td>\n",
       "      <td>NaN</td>\n",
       "      <td>Centrinis, elektra</td>\n",
       "    </tr>\n",
       "    <tr>\n",
       "      <td>3</td>\n",
       "      <td>https://www.aruodas.lt/butu-nuoma-vilniuje-sen...</td>\n",
       "      <td>3.0</td>\n",
       "      <td>3.0</td>\n",
       "      <td>NaN</td>\n",
       "      <td>800 €</td>\n",
       "      <td>3.0</td>\n",
       "      <td>1940</td>\n",
       "      <td>NaN</td>\n",
       "      <td>NaN</td>\n",
       "      <td>Mūrinis</td>\n",
       "      <td>NaN</td>\n",
       "      <td>71 m²</td>\n",
       "      <td>NaN</td>\n",
       "      <td>NaN</td>\n",
       "      <td>Įrengtas                                      ...</td>\n",
       "      <td>Dujinis</td>\n",
       "    </tr>\n",
       "    <tr>\n",
       "      <td>4</td>\n",
       "      <td>https://www.aruodas.lt/butu-nuoma-vilniuje-zve...</td>\n",
       "      <td>2.0</td>\n",
       "      <td>3.0</td>\n",
       "      <td>NaN</td>\n",
       "      <td>400 €</td>\n",
       "      <td>2.0</td>\n",
       "      <td>1969</td>\n",
       "      <td>NaN</td>\n",
       "      <td>NaN</td>\n",
       "      <td>Mūrinis</td>\n",
       "      <td>NaN</td>\n",
       "      <td>41,84 m²</td>\n",
       "      <td>NaN</td>\n",
       "      <td>NaN</td>\n",
       "      <td>Įrengtas                                      ...</td>\n",
       "      <td>Centrinis</td>\n",
       "    </tr>\n",
       "  </tbody>\n",
       "</table>\n",
       "</div>"
      ],
      "text/plain": [
       "                                             Adresas  Aukštas:  Aukštų sk.:  \\\n",
       "0  https://www.aruodas.lt/butai-vilniuje-pasilaic...       NaN          NaN   \n",
       "1  https://www.aruodas.lt/butu-nuoma-vilniuje-pas...       3.0          9.0   \n",
       "2  https://www.aruodas.lt/butu-nuoma-vilniuje-zve...       4.0          4.0   \n",
       "3  https://www.aruodas.lt/butu-nuoma-vilniuje-sen...       3.0          3.0   \n",
       "4  https://www.aruodas.lt/butu-nuoma-vilniuje-zve...       2.0          3.0   \n",
       "\n",
       "  Buto numeris: Kaina mėn.:  Kambarių sk.: Metai: Namo numeris: Nuoroda  \\\n",
       "0           NaN         NaN            NaN    NaN           NaN     NaN   \n",
       "1           NaN       450 €            2.0   2007           NaN     NaN   \n",
       "2           NaN       699 €            2.0   2019            10     NaN   \n",
       "3           NaN       800 €            3.0   1940           NaN     NaN   \n",
       "4           NaN       400 €            2.0   1969           NaN     NaN   \n",
       "\n",
       "  Pastato tipas: Peržiūrėjo   Plotas: Redaguotas Įdėtas  \\\n",
       "0            NaN        NaN       NaN        NaN    NaN   \n",
       "1        Mūrinis        NaN     64 m²        NaN    NaN   \n",
       "2        Mūrinis        NaN  41,47 m²        NaN    NaN   \n",
       "3        Mūrinis        NaN     71 m²        NaN    NaN   \n",
       "4        Mūrinis        NaN  41,84 m²        NaN    NaN   \n",
       "\n",
       "                                          Įrengimas:               Šildymas:  \n",
       "0                                                NaN                     NaN  \n",
       "1  Įrengtas                                      ...  Centrinis kolektorinis  \n",
       "2                                                NaN      Centrinis, elektra  \n",
       "3  Įrengtas                                      ...                 Dujinis  \n",
       "4  Įrengtas                                      ...               Centrinis  "
      ]
     },
     "execution_count": 14,
     "metadata": {},
     "output_type": "execute_result"
    }
   ],
   "source": [
    "df = pd.DataFrame()\n",
    "df = pd.read_excel(\"input 1.xlsx\", index= False)\n",
    "print(len(df))\n",
    "df.head()"
   ]
  },
  {
   "cell_type": "code",
   "execution_count": 16,
   "metadata": {
    "scrolled": true
   },
   "outputs": [
    {
     "name": "stdout",
     "output_type": "stream",
     "text": [
      "366\n"
     ]
    },
    {
     "data": {
      "text/html": [
       "<div>\n",
       "<style scoped>\n",
       "    .dataframe tbody tr th:only-of-type {\n",
       "        vertical-align: middle;\n",
       "    }\n",
       "\n",
       "    .dataframe tbody tr th {\n",
       "        vertical-align: top;\n",
       "    }\n",
       "\n",
       "    .dataframe thead th {\n",
       "        text-align: right;\n",
       "    }\n",
       "</style>\n",
       "<table border=\"1\" class=\"dataframe\">\n",
       "  <thead>\n",
       "    <tr style=\"text-align: right;\">\n",
       "      <th></th>\n",
       "      <th>Adresas</th>\n",
       "      <th>Aukštas:</th>\n",
       "      <th>Aukštų sk.:</th>\n",
       "      <th>Buto numeris:</th>\n",
       "      <th>Kaina mėn.:</th>\n",
       "      <th>Kambarių sk.:</th>\n",
       "      <th>Metai:</th>\n",
       "      <th>Namo numeris:</th>\n",
       "      <th>Pastato tipas:</th>\n",
       "      <th>Plotas:</th>\n",
       "      <th>Įrengimas:</th>\n",
       "      <th>Šildymas:</th>\n",
       "    </tr>\n",
       "  </thead>\n",
       "  <tbody>\n",
       "    <tr>\n",
       "      <td>0</td>\n",
       "      <td>https://www.aruodas.lt/butai-vilniuje-pasilaic...</td>\n",
       "      <td>NaN</td>\n",
       "      <td>NaN</td>\n",
       "      <td>NaN</td>\n",
       "      <td>NaN</td>\n",
       "      <td>NaN</td>\n",
       "      <td>NaN</td>\n",
       "      <td>NaN</td>\n",
       "      <td>NaN</td>\n",
       "      <td>NaN</td>\n",
       "      <td>NaN</td>\n",
       "      <td>NaN</td>\n",
       "    </tr>\n",
       "    <tr>\n",
       "      <td>1</td>\n",
       "      <td>https://www.aruodas.lt/butu-nuoma-vilniuje-nau...</td>\n",
       "      <td>4.0</td>\n",
       "      <td>6.0</td>\n",
       "      <td>24</td>\n",
       "      <td>890 €</td>\n",
       "      <td>3.0</td>\n",
       "      <td>2017</td>\n",
       "      <td>4</td>\n",
       "      <td>Monolitinis</td>\n",
       "      <td>76 m²</td>\n",
       "      <td>NaN</td>\n",
       "      <td>NaN</td>\n",
       "    </tr>\n",
       "    <tr>\n",
       "      <td>2</td>\n",
       "      <td>https://www.aruodas.lt/butu-nuoma-vilniuje-uzu...</td>\n",
       "      <td>2.0</td>\n",
       "      <td>4.0</td>\n",
       "      <td>205</td>\n",
       "      <td>550 €</td>\n",
       "      <td>3.0</td>\n",
       "      <td>2017</td>\n",
       "      <td>6</td>\n",
       "      <td>Mūrinis</td>\n",
       "      <td>56,17 m²</td>\n",
       "      <td>NaN</td>\n",
       "      <td>NaN</td>\n",
       "    </tr>\n",
       "    <tr>\n",
       "      <td>3</td>\n",
       "      <td>https://www.aruodas.lt/butu-nuoma-vilniuje-nau...</td>\n",
       "      <td>2.0</td>\n",
       "      <td>5.0</td>\n",
       "      <td>NaN</td>\n",
       "      <td>290 €</td>\n",
       "      <td>1.0</td>\n",
       "      <td>1969</td>\n",
       "      <td>23</td>\n",
       "      <td>Mūrinis</td>\n",
       "      <td>30 m²</td>\n",
       "      <td>NaN</td>\n",
       "      <td>Centrinis</td>\n",
       "    </tr>\n",
       "    <tr>\n",
       "      <td>4</td>\n",
       "      <td>https://www.aruodas.lt/butu-nuoma-vilniuje-ant...</td>\n",
       "      <td>5.0</td>\n",
       "      <td>5.0</td>\n",
       "      <td>NaN</td>\n",
       "      <td>299 €</td>\n",
       "      <td>1.0</td>\n",
       "      <td>1700</td>\n",
       "      <td>94</td>\n",
       "      <td>Mūrinis</td>\n",
       "      <td>28 m²</td>\n",
       "      <td>NaN</td>\n",
       "      <td>Centrinis</td>\n",
       "    </tr>\n",
       "  </tbody>\n",
       "</table>\n",
       "</div>"
      ],
      "text/plain": [
       "                                             Adresas  Aukštas:  Aukštų sk.:  \\\n",
       "0  https://www.aruodas.lt/butai-vilniuje-pasilaic...       NaN          NaN   \n",
       "1  https://www.aruodas.lt/butu-nuoma-vilniuje-nau...       4.0          6.0   \n",
       "2  https://www.aruodas.lt/butu-nuoma-vilniuje-uzu...       2.0          4.0   \n",
       "3  https://www.aruodas.lt/butu-nuoma-vilniuje-nau...       2.0          5.0   \n",
       "4  https://www.aruodas.lt/butu-nuoma-vilniuje-ant...       5.0          5.0   \n",
       "\n",
       "  Buto numeris: Kaina mėn.:  Kambarių sk.: Metai: Namo numeris:  \\\n",
       "0           NaN         NaN            NaN    NaN           NaN   \n",
       "1            24       890 €            3.0   2017             4   \n",
       "2           205       550 €            3.0   2017             6   \n",
       "3           NaN       290 €            1.0   1969            23   \n",
       "4           NaN       299 €            1.0   1700            94   \n",
       "\n",
       "  Pastato tipas:   Plotas: Įrengimas:  Šildymas:  \n",
       "0            NaN       NaN        NaN        NaN  \n",
       "1    Monolitinis     76 m²        NaN        NaN  \n",
       "2        Mūrinis  56,17 m²        NaN        NaN  \n",
       "3        Mūrinis     30 m²        NaN  Centrinis  \n",
       "4        Mūrinis     28 m²        NaN  Centrinis  "
      ]
     },
     "execution_count": 16,
     "metadata": {},
     "output_type": "execute_result"
    }
   ],
   "source": [
    "df2 = pd.DataFrame()\n",
    "df2 = pd.read_excel(\"input 2.xlsx\", index= False)\n",
    "print(len(df2))\n",
    "df2.head()"
   ]
  },
  {
   "cell_type": "code",
   "execution_count": 18,
   "metadata": {
    "scrolled": true
   },
   "outputs": [
    {
     "name": "stdout",
     "output_type": "stream",
     "text": [
      "1679\n"
     ]
    },
    {
     "name": "stderr",
     "output_type": "stream",
     "text": [
      "C:\\Users\\Titas\\Anaconda3\\lib\\site-packages\\ipykernel_launcher.py:2: FutureWarning: Sorting because non-concatenation axis is not aligned. A future version\n",
      "of pandas will change to not sort by default.\n",
      "\n",
      "To accept the future behavior, pass 'sort=False'.\n",
      "\n",
      "To retain the current behavior and silence the warning, pass 'sort=True'.\n",
      "\n",
      "  \n"
     ]
    },
    {
     "data": {
      "text/html": [
       "<div>\n",
       "<style scoped>\n",
       "    .dataframe tbody tr th:only-of-type {\n",
       "        vertical-align: middle;\n",
       "    }\n",
       "\n",
       "    .dataframe tbody tr th {\n",
       "        vertical-align: top;\n",
       "    }\n",
       "\n",
       "    .dataframe thead th {\n",
       "        text-align: right;\n",
       "    }\n",
       "</style>\n",
       "<table border=\"1\" class=\"dataframe\">\n",
       "  <thead>\n",
       "    <tr style=\"text-align: right;\">\n",
       "      <th></th>\n",
       "      <th>Adresas</th>\n",
       "      <th>Aukštas:</th>\n",
       "      <th>Aukštų sk.:</th>\n",
       "      <th>Buto numeris:</th>\n",
       "      <th>Kaina mėn.:</th>\n",
       "      <th>Kambarių sk.:</th>\n",
       "      <th>Metai:</th>\n",
       "      <th>Namo numeris:</th>\n",
       "      <th>Nuoroda</th>\n",
       "      <th>Pastato tipas:</th>\n",
       "      <th>Peržiūrėjo</th>\n",
       "      <th>Plotas:</th>\n",
       "      <th>Redaguotas</th>\n",
       "      <th>Įdėtas</th>\n",
       "      <th>Įrengimas:</th>\n",
       "      <th>Šildymas:</th>\n",
       "    </tr>\n",
       "  </thead>\n",
       "  <tbody>\n",
       "    <tr>\n",
       "      <td>0</td>\n",
       "      <td>https://www.aruodas.lt/butai-vilniuje-pasilaic...</td>\n",
       "      <td>NaN</td>\n",
       "      <td>NaN</td>\n",
       "      <td>NaN</td>\n",
       "      <td>NaN</td>\n",
       "      <td>NaN</td>\n",
       "      <td>NaN</td>\n",
       "      <td>NaN</td>\n",
       "      <td>NaN</td>\n",
       "      <td>NaN</td>\n",
       "      <td>NaN</td>\n",
       "      <td>NaN</td>\n",
       "      <td>NaN</td>\n",
       "      <td>NaN</td>\n",
       "      <td>NaN</td>\n",
       "      <td>NaN</td>\n",
       "    </tr>\n",
       "    <tr>\n",
       "      <td>1</td>\n",
       "      <td>https://www.aruodas.lt/butu-nuoma-vilniuje-pas...</td>\n",
       "      <td>3.0</td>\n",
       "      <td>9.0</td>\n",
       "      <td>NaN</td>\n",
       "      <td>450 €</td>\n",
       "      <td>2.0</td>\n",
       "      <td>2007</td>\n",
       "      <td>NaN</td>\n",
       "      <td>NaN</td>\n",
       "      <td>Mūrinis</td>\n",
       "      <td>NaN</td>\n",
       "      <td>64 m²</td>\n",
       "      <td>NaN</td>\n",
       "      <td>NaN</td>\n",
       "      <td>Įrengtas                                      ...</td>\n",
       "      <td>Centrinis kolektorinis</td>\n",
       "    </tr>\n",
       "    <tr>\n",
       "      <td>2</td>\n",
       "      <td>https://www.aruodas.lt/butu-nuoma-vilniuje-zve...</td>\n",
       "      <td>4.0</td>\n",
       "      <td>4.0</td>\n",
       "      <td>NaN</td>\n",
       "      <td>699 €</td>\n",
       "      <td>2.0</td>\n",
       "      <td>2019</td>\n",
       "      <td>10</td>\n",
       "      <td>NaN</td>\n",
       "      <td>Mūrinis</td>\n",
       "      <td>NaN</td>\n",
       "      <td>41,47 m²</td>\n",
       "      <td>NaN</td>\n",
       "      <td>NaN</td>\n",
       "      <td>NaN</td>\n",
       "      <td>Centrinis, elektra</td>\n",
       "    </tr>\n",
       "    <tr>\n",
       "      <td>3</td>\n",
       "      <td>https://www.aruodas.lt/butu-nuoma-vilniuje-sen...</td>\n",
       "      <td>3.0</td>\n",
       "      <td>3.0</td>\n",
       "      <td>NaN</td>\n",
       "      <td>800 €</td>\n",
       "      <td>3.0</td>\n",
       "      <td>1940</td>\n",
       "      <td>NaN</td>\n",
       "      <td>NaN</td>\n",
       "      <td>Mūrinis</td>\n",
       "      <td>NaN</td>\n",
       "      <td>71 m²</td>\n",
       "      <td>NaN</td>\n",
       "      <td>NaN</td>\n",
       "      <td>Įrengtas                                      ...</td>\n",
       "      <td>Dujinis</td>\n",
       "    </tr>\n",
       "    <tr>\n",
       "      <td>4</td>\n",
       "      <td>https://www.aruodas.lt/butu-nuoma-vilniuje-zve...</td>\n",
       "      <td>2.0</td>\n",
       "      <td>3.0</td>\n",
       "      <td>NaN</td>\n",
       "      <td>400 €</td>\n",
       "      <td>2.0</td>\n",
       "      <td>1969</td>\n",
       "      <td>NaN</td>\n",
       "      <td>NaN</td>\n",
       "      <td>Mūrinis</td>\n",
       "      <td>NaN</td>\n",
       "      <td>41,84 m²</td>\n",
       "      <td>NaN</td>\n",
       "      <td>NaN</td>\n",
       "      <td>Įrengtas                                      ...</td>\n",
       "      <td>Centrinis</td>\n",
       "    </tr>\n",
       "  </tbody>\n",
       "</table>\n",
       "</div>"
      ],
      "text/plain": [
       "                                             Adresas  Aukštas:  Aukštų sk.:  \\\n",
       "0  https://www.aruodas.lt/butai-vilniuje-pasilaic...       NaN          NaN   \n",
       "1  https://www.aruodas.lt/butu-nuoma-vilniuje-pas...       3.0          9.0   \n",
       "2  https://www.aruodas.lt/butu-nuoma-vilniuje-zve...       4.0          4.0   \n",
       "3  https://www.aruodas.lt/butu-nuoma-vilniuje-sen...       3.0          3.0   \n",
       "4  https://www.aruodas.lt/butu-nuoma-vilniuje-zve...       2.0          3.0   \n",
       "\n",
       "  Buto numeris: Kaina mėn.:  Kambarių sk.: Metai: Namo numeris: Nuoroda  \\\n",
       "0           NaN         NaN            NaN    NaN           NaN     NaN   \n",
       "1           NaN       450 €            2.0   2007           NaN     NaN   \n",
       "2           NaN       699 €            2.0   2019            10     NaN   \n",
       "3           NaN       800 €            3.0   1940           NaN     NaN   \n",
       "4           NaN       400 €            2.0   1969           NaN     NaN   \n",
       "\n",
       "  Pastato tipas: Peržiūrėjo   Plotas: Redaguotas Įdėtas  \\\n",
       "0            NaN        NaN       NaN        NaN    NaN   \n",
       "1        Mūrinis        NaN     64 m²        NaN    NaN   \n",
       "2        Mūrinis        NaN  41,47 m²        NaN    NaN   \n",
       "3        Mūrinis        NaN     71 m²        NaN    NaN   \n",
       "4        Mūrinis        NaN  41,84 m²        NaN    NaN   \n",
       "\n",
       "                                          Įrengimas:               Šildymas:  \n",
       "0                                                NaN                     NaN  \n",
       "1  Įrengtas                                      ...  Centrinis kolektorinis  \n",
       "2                                                NaN      Centrinis, elektra  \n",
       "3  Įrengtas                                      ...                 Dujinis  \n",
       "4  Įrengtas                                      ...               Centrinis  "
      ]
     },
     "execution_count": 18,
     "metadata": {},
     "output_type": "execute_result"
    }
   ],
   "source": [
    "frames = [df, df2]\n",
    "df_final = pd.concat(frames)\n",
    "print(len(df_final))\n",
    "df_final.head()"
   ]
  },
  {
   "cell_type": "code",
   "execution_count": 20,
   "metadata": {},
   "outputs": [],
   "source": [
    "df_final = df_final.drop_duplicates()\n",
    "len(df_final)\n",
    "df_final.to_excel(\"input.xlsx\", index= False)"
   ]
  },
  {
   "cell_type": "markdown",
   "metadata": {},
   "source": [
    "## Clean data"
   ]
  },
  {
   "cell_type": "code",
   "execution_count": null,
   "metadata": {},
   "outputs": [],
   "source": []
  },
  {
   "cell_type": "code",
   "execution_count": 3,
   "metadata": {},
   "outputs": [
    {
     "name": "stdout",
     "output_type": "stream",
     "text": [
      "1266\n"
     ]
    }
   ],
   "source": [
    "# Delete rows with Nan values in Kaina men\n",
    "df =df.drop([df[pd.isna(df[\"Kaina mėn.:\"])].index][0])\n",
    "print(len(df))"
   ]
  },
  {
   "cell_type": "code",
   "execution_count": 4,
   "metadata": {
    "scrolled": false
   },
   "outputs": [],
   "source": [
    "# replace characters\n",
    "df['Kaina mėn.:'] = df['Kaina mėn.:'].str.replace('€','')\n",
    "df['Kaina mėn.:'] = df['Kaina mėn.:'].str.replace(' ','')\n",
    "df['Plotas:'] = df['Plotas:'].str.replace('m²','')\n",
    "df['Plotas:'] = df['Plotas:'].str.replace(',','.')\n",
    "\n",
    "df['Metai:'] = df[\"Metai:\"].astype(str)\n",
    "df[['Metai','Renovacija']] = df['Metai:'].str.split(',',expand=True)\n",
    "# clean year data\n",
    "df['Metai'] = df['Metai'].str[:4]\n",
    "df['Renovacija'] = df['Renovacija'].str[:5]\n",
    "# replace None with 0 in Renovacija\n",
    "df['Renovacija'] = df['Renovacija'].fillna(0)\n",
    "df.head()\n",
    "\n",
    "df.to_excel(\"outputAfterCleaning.xlsx\", index= False)"
   ]
  },
  {
   "cell_type": "code",
   "execution_count": 5,
   "metadata": {
    "scrolled": true
   },
   "outputs": [],
   "source": [
    "df.loc[df[df['Adresas'].str.contains('pasilaiciuose').values].index,\"Rajonas\"] = \"pasilaiciuose\"\n",
    "df.loc[df[df['Adresas'].str.contains('zveryne').values].index,\"Rajonas\"] = \"zveryne\"\n",
    "df.loc[df[df['Adresas'].str.contains('pilaiteje').values].index,\"Rajonas\"] = \"pilaiteje\"\n",
    "df.loc[df[df['Adresas'].str.contains('senamiestyje').values].index,\"Rajonas\"] = \"senamiestyje\"\n",
    "df.loc[df[df['Adresas'].str.contains('naujamiestyje').values].index,\"Rajonas\"] = \"naujamiestyje\"\n",
    "\n",
    "df.loc[df[df['Adresas'].str.contains('uzupyje').values].index,\"Rajonas\"] = \"uzupyje\"\n",
    "df.loc[df[df['Adresas'].str.contains('snipiskese').values].index,\"Rajonas\"] = \"snipiskese\"\n",
    "df.loc[df[df['Adresas'].str.contains('antakalnyje').values].index,\"Rajonas\"] = \"antakalnyje\"\n",
    "df.loc[df[df['Adresas'].str.contains('zirmunuose').values].index,\"Rajonas\"] = \"zirmunuose\"\n",
    "\n",
    "df['Rajonas'] = df['Rajonas'].fillna(\"None\")\n",
    "RajonoKodavimas = LabelEncoder()\n",
    "df['RajonoKodavimas'] = RajonoKodavimas.fit_transform(df['Rajonas'])\n",
    "\n",
    "# df.to_excel(\"outputAfterCleaningdPas.xlsx\", index= False)"
   ]
  },
  {
   "cell_type": "code",
   "execution_count": 6,
   "metadata": {},
   "outputs": [],
   "source": [
    "# encode the building type\n",
    "df =df.drop([df[pd.isna(df[\"Pastato tipas:\"])].index][0])\n",
    "PastatoTipas = LabelEncoder()\n",
    "\n",
    "df['Pastato tipas'] = PastatoTipas.fit_transform(df['Pastato tipas:'])"
   ]
  },
  {
   "cell_type": "code",
   "execution_count": 7,
   "metadata": {},
   "outputs": [],
   "source": [
    "# delete repeating columns\n",
    "del df['Metai:']\n",
    "del df['Pastato tipas:']"
   ]
  },
  {
   "cell_type": "code",
   "execution_count": 8,
   "metadata": {},
   "outputs": [],
   "source": [
    "# save df with features and target columns\n",
    "df =df.drop([df[pd.isna(df[\"Aukštas:\"])].index][0])\n",
    "df =df.drop([df[pd.isna(df[\"Kambarių sk.:\"])].index][0])\n",
    "\n",
    "df_train = df[['Metai', 'Plotas:', 'Kambarių sk.:', 'Aukštas:', 'Pastato tipas','Renovacija','Kaina mėn.:', 'RajonoKodavimas']]"
   ]
  },
  {
   "cell_type": "code",
   "execution_count": 9,
   "metadata": {},
   "outputs": [
    {
     "data": {
      "text/plain": [
       "RajonoKodavimas    0\n",
       "Kaina mėn.:        0\n",
       "Renovacija         0\n",
       "Pastato tipas      0\n",
       "Aukštas:           0\n",
       "Kambarių sk.:      0\n",
       "Plotas:            0\n",
       "Metai              0\n",
       "dtype: int64"
      ]
     },
     "execution_count": 9,
     "metadata": {},
     "output_type": "execute_result"
    }
   ],
   "source": [
    "# check for null values\n",
    "total = df_train.isna().sum().sort_values(ascending=False)\n",
    "total"
   ]
  },
  {
   "cell_type": "code",
   "execution_count": 10,
   "metadata": {
    "scrolled": true
   },
   "outputs": [
    {
     "name": "stdout",
     "output_type": "stream",
     "text": [
      "(947, 7) (947,)\n",
      "train: 119.20666638205884 test: 331.819644337792\n"
     ]
    },
    {
     "name": "stderr",
     "output_type": "stream",
     "text": [
      "C:\\Users\\Titas\\Anaconda3\\lib\\site-packages\\sklearn\\ensemble\\forest.py:245: FutureWarning: The default value of n_estimators will change from 10 in version 0.20 to 100 in 0.22.\n",
      "  \"10 in version 0.20 to 100 in 0.22.\", FutureWarning)\n"
     ]
    }
   ],
   "source": [
    "# split by features and target to X and y\n",
    "X = df[['Metai', 'Plotas:', 'Kambarių sk.:', 'Aukštas:', 'Pastato tipas','Renovacija','RajonoKodavimas']]\n",
    "y = df['Kaina mėn.:']\n",
    "\n",
    "# split into train and test\n",
    "X_train, X_test, y_train, y_test = train_test_split(X,y,random_state=0)\n",
    "print(X_train.shape, y_train.shape)\n",
    "\n",
    "# train the model\n",
    "model = RandomForestRegressor(random_state=0, max_depth=5)\n",
    "model.fit(X_train, y_train)\n",
    "\n",
    "# calculate the mean_absolute_error for train and test data\n",
    "prediction_train = model.predict(X_train)\n",
    "train = mean_absolute_error(prediction_train, y_train)\n",
    "\n",
    "prediction_test = model.predict(X_test)\n",
    "test = mean_absolute_error(prediction_test, y_test)\n",
    "\n",
    "print(\"train:\", train,\"test:\", test)"
   ]
  },
  {
   "cell_type": "code",
   "execution_count": 12,
   "metadata": {
    "scrolled": true
   },
   "outputs": [
    {
     "name": "stdout",
     "output_type": "stream",
     "text": [
      "RSME: 3530.9444425576025\n"
     ]
    }
   ],
   "source": [
    "from sklearn.metrics import mean_squared_error\n",
    "\n",
    "print(\"RSME:\", (mean_squared_error(y_test, model.predict(X_test))**0.5))"
   ]
  },
  {
   "cell_type": "code",
   "execution_count": 16,
   "metadata": {},
   "outputs": [
    {
     "data": {
      "text/plain": [
       "1208    680\n",
       "313     500\n",
       "776     600\n",
       "6       700\n",
       "1211    550\n",
       "       ... \n",
       "899     460\n",
       "1034    270\n",
       "1048    750\n",
       "771     450\n",
       "949     430\n",
       "Name: Kaina mėn.:, Length: 316, dtype: object"
      ]
     },
     "execution_count": 16,
     "metadata": {},
     "output_type": "execute_result"
    }
   ],
   "source": []
  },
  {
   "cell_type": "code",
   "execution_count": 14,
   "metadata": {},
   "outputs": [
    {
     "ename": "AttributeError",
     "evalue": "'numpy.ndarray' object has no attribute 'describe'",
     "output_type": "error",
     "traceback": [
      "\u001b[1;31m---------------------------------------------------------------------------\u001b[0m",
      "\u001b[1;31mAttributeError\u001b[0m                            Traceback (most recent call last)",
      "\u001b[1;32m<ipython-input-14-6caadd3a0387>\u001b[0m in \u001b[0;36m<module>\u001b[1;34m\u001b[0m\n\u001b[1;32m----> 1\u001b[1;33m \u001b[0mmodel\u001b[0m\u001b[1;33m.\u001b[0m\u001b[0mpredict\u001b[0m\u001b[1;33m(\u001b[0m\u001b[0mX_test\u001b[0m\u001b[1;33m)\u001b[0m\u001b[1;33m.\u001b[0m\u001b[0mdescribe\u001b[0m\u001b[1;33m(\u001b[0m\u001b[1;33m)\u001b[0m\u001b[1;33m\u001b[0m\u001b[1;33m\u001b[0m\u001b[0m\n\u001b[0m",
      "\u001b[1;31mAttributeError\u001b[0m: 'numpy.ndarray' object has no attribute 'describe'"
     ]
    }
   ],
   "source": [
    "model.predict(X_test).describe()"
   ]
  },
  {
   "cell_type": "code",
   "execution_count": null,
   "metadata": {
    "scrolled": true
   },
   "outputs": [],
   "source": [
    "model.feature_importances_"
   ]
  },
  {
   "cell_type": "code",
   "execution_count": null,
   "metadata": {},
   "outputs": [],
   "source": [
    "from sklearn.externals import joblib\n",
    "joblib.dump(model, 'my_model.pkl', compress=9)\n",
    "\n",
    "# model_clone = joblib.load('my_model.pkl')"
   ]
  },
  {
   "cell_type": "code",
   "execution_count": null,
   "metadata": {},
   "outputs": [],
   "source": [
    "model_clone = joblib.load('my_model.pkl')\n",
    "flat = [[2008,46,2,1,0,0]]\n",
    "print(model.predict(flat))"
   ]
  },
  {
   "cell_type": "code",
   "execution_count": null,
   "metadata": {},
   "outputs": [],
   "source": [
    "df['Rajonas'].value_counts()"
   ]
  }
 ],
 "metadata": {
  "kernelspec": {
   "display_name": "Python 3",
   "language": "python",
   "name": "python3"
  },
  "language_info": {
   "codemirror_mode": {
    "name": "ipython",
    "version": 3
   },
   "file_extension": ".py",
   "mimetype": "text/x-python",
   "name": "python",
   "nbconvert_exporter": "python",
   "pygments_lexer": "ipython3",
   "version": "3.7.4"
  }
 },
 "nbformat": 4,
 "nbformat_minor": 2
}
