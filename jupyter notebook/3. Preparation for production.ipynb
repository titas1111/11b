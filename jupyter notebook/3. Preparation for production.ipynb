{
 "cells": [
  {
   "cell_type": "code",
   "execution_count": 1,
   "metadata": {},
   "outputs": [],
   "source": [
    "import pandas as pd\n",
    "import numpy as np\n",
    "from bs4 import BeautifulSoup\n",
    "import requests\n",
    "import joblib"
   ]
  },
  {
   "cell_type": "code",
   "execution_count": 24,
   "metadata": {},
   "outputs": [],
   "source": [
    "COLUMNS = ['floor', 'total_floor_num', 'room_num', 'area', 'year',\n",
    "       'year_renovation', 'top_floor', 'oldtown', '0', 'antakalnyje',\n",
    "       'aukstuosiuose-paneriuose', 'avizieniuose', 'bajoruose', 'balsiuose',\n",
    "       'baltupiuose', 'burbiskes', 'fabijoniskese', 'filaretuose',\n",
    "       'grigiskese', 'jeruzaleje', 'justiniskese', 'kalnenuose',\n",
    "       'karoliniskese', 'lazdyneliuose', 'lazdynuose', 'markuciuose',\n",
    "       'naujamiestyje', 'naujininkuose', 'naujojoje-vilnioje', 'pasilaiciuose',\n",
    "       'pavilnyje', 'pilaiteje', 'santariskese', 'sauletekyje', 'senamiestyje',\n",
    "       'seskineje', 'siaures-miestelyje', 'snipiskese', 'tarandeje', 'traku',\n",
    "       'uzupyje', 'valakampiuose', 'verkiuose', 'vilkpedeje', 'virsuliskese',\n",
    "       'visoriuose', 'zemuosiuose-paneriuose', 'zirmunuose', 'zveryne']\n",
    "\n",
    "PAGE = \"https://www.aruodas.lt/butu-nuoma-vilniuje-fabijoniskese-salomejos-neries-g-isnuomojamas-dveju-kambariu-butas-esantis-4-955971/\"\n",
    "\n",
    "DICT_FOR_DF_RENAME = {\"Aukštas:\": \"floor\", \"Aukštų sk.:\": \"total_floor_num\",\n",
    "                   \"Kambarių sk.:\":\"room_num\", \"Metai:\":\"year_full\",\n",
    "                   \"Plotas:\":\"area\",\"Pastato tipas:\":\"house_type\", \n",
    "                  \"Šildymas:\":\"heating\", \"Apsauga:\": \"security\",\n",
    "                   \"Ypatybės:\":\"general\"\n",
    "                  }\n",
    "\n",
    "DISTRICTS = [\"pasilaiciuose\", \"zveryne\", \"pilaiteje\", \"senamiestyje\", \n",
    "             \"naujamiestyje\", \"uzupyje\", \"snipiskese\", \"antakalnyje\",\n",
    "            \"zirmunuose\",\"lazdyneliuose\", \"karoliniskese\", \"naujojoje-vilnioje\", \"tarandeje\",\"seskineje\",\n",
    "             \"grigiskese\", \"santariskese\", \"balsiuose\", \"siaures-miestelyje\",\n",
    "             \"markuciuose\", \"virsuliskese\",\"fabijoniskese\", \"valakampiuose\",\n",
    "             \"baltupiuose\",\"justiniskese\",\"visoriuose\",\"lazdynuose\",\"jeruzaleje\"\n",
    "             ,\"avizieniuose\",\"filaretuose\",\"kalnenuose\",\n",
    "             \"pavilnyje\",\"bajoruose\", \"burbiskes\",\"naujininkuose\",\"vilkpedeje\",\n",
    "             \"zemuosiuose-paneriuose\",\"aukstuosiuose-paneriuose\",\"jeruzaleje\",\"sauletekyje\",\"traku\",\"verkiuose\"\n",
    "            ]\n",
    "\n",
    "\n",
    "def ScrapeFlat(page):\n",
    "    d = {}\n",
    "    d[\"Adresas\"] = page\n",
    "    html_file = requests.get(page)\n",
    "    soup = BeautifulSoup(html_file.text, \"html.parser\")\n",
    "    dd = soup.select(\"dd\")\n",
    "    dt = soup.select(\"dt\")\n",
    "    for i in range(20):\n",
    "        try:\n",
    "            tmp_val = str(dd[i].getText()).strip()\n",
    "            tmp_name = str(dt[i].getText()).strip()\n",
    "            d[tmp_name] = tmp_val\n",
    "        except:\n",
    "            return d\n",
    "    return d\n",
    "\n",
    "def CreateDataFrameHeader(COLUMNS):    \n",
    "    return pd.DataFrame(columns=COLUMNS)\n",
    "\n",
    "\n",
    "\n",
    "def FromDictToDF(d):\n",
    "    dfFlat = pd.DataFrame()\n",
    "    dfFlat = dfFlat.append(d, ignore_index=True)\n",
    "    return dfFlat\n",
    "\n",
    "def CleanDF(dfFlat):    \n",
    "    dfFlat = dfFlat.rename(columns={\"Aukštas:\": \"floor\", \"Aukštų sk.:\": \"total_floor_num\",\n",
    "                   \"Kambarių sk.:\":\"room_num\", \"Metai:\":\"year_full\",\n",
    "                   \"Plotas:\":\"area\",\"Pastato tipas:\":\"house_type\", \n",
    "                  \"Šildymas:\":\"heating\", \"Apsauga:\": \"security\",\n",
    "                   \"Ypatybės:\":\"general\"})    \n",
    "    try:\n",
    "        dfFlat[['year','year_renovation']] = dfFlat['year_full'].str.split(',',expand=True)\n",
    "        dfFlat['year'] = dfFlat['year_full'].str[:4]\n",
    "        dfFlat['year'].fillna(dfFlat[\"year_full\"],inplace = True)\n",
    "        dfFlat[\"year\"] = pd.to_numeric(dfFlat[\"year\"],downcast='integer')\n",
    "        dfFlat['year_renovation'] = dfFlat['year_renovation'].str[:5]\n",
    "        dfFlat[\"year_renovation\"] = pd.to_numeric(dfFlat[\"year_renovation\"],downcast='integer')\n",
    "    except:\n",
    "        dfFlat['year'] = dfFlat['year_full'].str[:4]\n",
    "        dfFlat['year_renovation'] = 0\n",
    "        \n",
    "    dfFlat['area'] = dfFlat['area'].str.replace(' m²','')\n",
    "    dfFlat['area'] = dfFlat['area'].str.replace(',','.')\n",
    "    return dfFlat\n",
    "\n",
    "def map_district(district):    \n",
    "    dfFlat.loc[dfFlat[dfFlat['Adresas'].str.contains(district).values].index, district] = 1\n",
    "    dfFlat[district].fillna(value = 0, inplace = True)\n",
    "\n",
    "def predictPrice(PAGE):\n",
    "    d = ScrapeFlat(PAGE)\n",
    "    dfFlat = FromDictToDF(d)\n",
    "\n",
    "    dfFlat = CleanDF(dfFlat)\n",
    "    df = CreateDataFrameHeader(COLUMNS)\n",
    "\n",
    "    dfFlat = df.append(dfFlat, ignore_index=True)\n",
    "    \n",
    "    for district in DISTRICTS:\n",
    "        dfFlat.loc[dfFlat[dfFlat['Adresas'].str.contains(district).values].index, district] = 1\n",
    "        dfFlat[district].fillna(value = 0, inplace = True)\n",
    " \n",
    "    dfFlat = dfFlat[COLUMNS]\n",
    "    dfFlat.fillna(value = 0, inplace = True)\n",
    "    model = joblib.load('model.pkl')\n",
    "    return model.predict(dfFlat)[0]"
   ]
  },
  {
   "cell_type": "code",
   "execution_count": 25,
   "metadata": {},
   "outputs": [
    {
     "name": "stderr",
     "output_type": "stream",
     "text": [
      "C:\\Users\\Titas\\Anaconda3\\lib\\site-packages\\pandas\\core\\frame.py:7123: FutureWarning: Sorting because non-concatenation axis is not aligned. A future version\n",
      "of pandas will change to not sort by default.\n",
      "\n",
      "To accept the future behavior, pass 'sort=False'.\n",
      "\n",
      "To retain the current behavior and silence the warning, pass 'sort=True'.\n",
      "\n",
      "  sort=sort,\n",
      "C:\\Users\\Titas\\Anaconda3\\lib\\site-packages\\sklearn\\base.py:306: UserWarning: Trying to unpickle estimator SimpleImputer from version 0.21.2 when using version 0.21.3. This might lead to breaking code or invalid results. Use at your own risk.\n",
      "  UserWarning)\n",
      "C:\\Users\\Titas\\Anaconda3\\lib\\site-packages\\sklearn\\base.py:306: UserWarning: Trying to unpickle estimator DecisionTreeRegressor from version 0.21.2 when using version 0.21.3. This might lead to breaking code or invalid results. Use at your own risk.\n",
      "  UserWarning)\n",
      "C:\\Users\\Titas\\Anaconda3\\lib\\site-packages\\sklearn\\base.py:306: UserWarning: Trying to unpickle estimator RandomForestRegressor from version 0.21.2 when using version 0.21.3. This might lead to breaking code or invalid results. Use at your own risk.\n",
      "  UserWarning)\n",
      "C:\\Users\\Titas\\Anaconda3\\lib\\site-packages\\sklearn\\base.py:306: UserWarning: Trying to unpickle estimator Pipeline from version 0.21.2 when using version 0.21.3. This might lead to breaking code or invalid results. Use at your own risk.\n",
      "  UserWarning)\n",
      "C:\\Users\\Titas\\Anaconda3\\lib\\site-packages\\sklearn\\base.py:306: UserWarning: Trying to unpickle estimator RandomizedSearchCV from version 0.21.2 when using version 0.21.3. This might lead to breaking code or invalid results. Use at your own risk.\n",
      "  UserWarning)\n"
     ]
    }
   ],
   "source": [
    "y_pred = predictPrice(PAGE)"
   ]
  },
  {
   "cell_type": "code",
   "execution_count": 27,
   "metadata": {},
   "outputs": [
    {
     "data": {
      "text/plain": [
       "388.9908333333333"
      ]
     },
     "execution_count": 27,
     "metadata": {},
     "output_type": "execute_result"
    }
   ],
   "source": [
    "y_pred"
   ]
  }
 ],
 "metadata": {
  "kernelspec": {
   "display_name": "Python 3",
   "language": "python",
   "name": "python3"
  },
  "language_info": {
   "codemirror_mode": {
    "name": "ipython",
    "version": 3
   },
   "file_extension": ".py",
   "mimetype": "text/x-python",
   "name": "python",
   "nbconvert_exporter": "python",
   "pygments_lexer": "ipython3",
   "version": "3.7.4"
  }
 },
 "nbformat": 4,
 "nbformat_minor": 2
}
