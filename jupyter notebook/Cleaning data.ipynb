{
 "cells": [
  {
   "cell_type": "code",
   "execution_count": 1,
   "metadata": {},
   "outputs": [],
   "source": [
    "import pandas as pd\n",
    "import matplotlib.pyplot as plt\n",
    "import numpy as np\n",
    "\n",
    "max_rent_price = 1500"
   ]
  },
  {
   "cell_type": "code",
   "execution_count": 2,
   "metadata": {},
   "outputs": [],
   "source": [
    "df = pd.read_excel(\"input.xlsx\")\n",
    "df.head()\n",
    "df =df.drop([df[pd.isna(df[\"Kaina mėn.:\"])].index][0])"
   ]
  },
  {
   "cell_type": "markdown",
   "metadata": {},
   "source": [
    "## Cleaning target col"
   ]
  },
  {
   "cell_type": "code",
   "execution_count": 3,
   "metadata": {
    "scrolled": true
   },
   "outputs": [
    {
     "data": {
      "text/plain": [
       "count    2027.000000\n",
       "mean      514.512580\n",
       "std       248.492365\n",
       "min        15.000000\n",
       "25%       350.000000\n",
       "50%       460.000000\n",
       "75%       650.000000\n",
       "max      1480.000000\n",
       "Name: rent_price, dtype: float64"
      ]
     },
     "execution_count": 3,
     "metadata": {},
     "output_type": "execute_result"
    }
   ],
   "source": [
    "try:\n",
    "    df['Kaina mėn.:'] = df['Kaina mėn.:'].str.replace(' €','')\n",
    "    df['Kaina mėn.:'] = df['Kaina mėn.:'].str.replace(' ','')\n",
    "    df['Kaina mėn.:'] = df['Kaina mėn.:'].astype(int)\n",
    "    df = df[df['Kaina mėn.:']< max_rent_price]\n",
    "except:\n",
    "    print(\"Target col is converted\")\n",
    "df.rename(columns={\"Kaina mėn.:\": \"rent_price\"}, inplace=True)\n",
    "df['rent_price'].describe()"
   ]
  },
  {
   "cell_type": "code",
   "execution_count": 4,
   "metadata": {
    "scrolled": true
   },
   "outputs": [
    {
     "data": {
      "image/png": "[encoded data removed]",
      "text/plain": [
       "<Figure size 432x288 with 1 Axes>"
      ]
     },
     "metadata": {
      "needs_background": "light"
     },
     "output_type": "display_data"
    }
   ],
   "source": [
    "n_bins = 15\n",
    "plt.hist(df[df[\"rent_price\"] < max_rent_price][\"rent_price\"], bins=n_bins)\n",
    "plt.show()"
   ]
  },
  {
   "cell_type": "markdown",
   "metadata": {},
   "source": [
    "## Cleaning feature cols"
   ]
  },
  {
   "cell_type": "code",
   "execution_count": 5,
   "metadata": {
    "scrolled": true
   },
   "outputs": [],
   "source": [
    "df.rename(columns={\"Aukštas:\": \"floor\", \"Aukštų sk.:\": \"total_floor_num\", \"Kambarių sk.:\":\"room_num\", \"Metai:\":\"year_full\", \"Plotas:\":\"area\"}, inplace=True)\n",
    "df.dtypes\n",
    "\n",
    "df[\"year_full\"].fillna(0, inplace = True)\n",
    "# df[\"year\"] = pd.to_numeric(df[\"year\"],downcast='integer')\n",
    "\n",
    "# df[cols] = df[cols].apply(pd.fillna,0, axis=1)\n",
    "# df[cols] = df[cols].apply(pd.to_numeric, downcast='integer', errors='coerce', axis=1)"
   ]
  },
  {
   "cell_type": "code",
   "execution_count": 6,
   "metadata": {},
   "outputs": [],
   "source": [
    "df[['year','year_renovation']] = df['year_full'].str.split(',',expand=True)\n",
    "# cut year int\n",
    "df['year'] = df['year_full'].str[:4]\n",
    "df['year'].fillna(df[\"year_full\"],inplace = True)\n",
    "df[\"year\"] = pd.to_numeric(df[\"year\"],downcast='integer')\n",
    "df['year_renovation'] = df['year_renovation'].str[:5]\n",
    "df[\"year_renovation\"] = pd.to_numeric(df[\"year_renovation\"],downcast='integer')"
   ]
  },
  {
   "cell_type": "code",
   "execution_count": 7,
   "metadata": {},
   "outputs": [],
   "source": [
    "try:\n",
    "    df['area'] = df['area'].str.replace(' m²','')\n",
    "    df['area'] = df['area'].str.replace(',','.')\n",
    "except:\n",
    "    print(\"Target col is converted\")\n",
    "df[\"area\"] = pd.to_numeric(df[\"area\"],downcast='float')"
   ]
  },
  {
   "cell_type": "markdown",
   "metadata": {},
   "source": [
    "## New features"
   ]
  },
  {
   "cell_type": "code",
   "execution_count": 8,
   "metadata": {},
   "outputs": [],
   "source": [
    "df[\"floors_from_top\"] = df[\"total_floor_num\"]- df[\"floor\"]\n",
    "df[\"top_floor\"] = (df[\"total_floor_num\"] == df[\"floor\"]).astype('int')"
   ]
  },
  {
   "cell_type": "code",
   "execution_count": 12,
   "metadata": {},
   "outputs": [],
   "source": [
    "districts = [\"pasilaiciuose\", \"zveryne\", \"pilaiteje\", \"senamiestyje\", \n",
    "             \"naujamiestyje\", \"uzupyje\", \"snipiskese\", \"antakalnyje\",\n",
    "            \"zirmunuose\",\"lazdyneliuose\", \"karoliniskese\", \"naujojoje-vilnioje\", \"tarandeje\",\"seskineje\",\n",
    "             \"grigiskese\", \"santariskese\", \"balsiuose\", \"siaures-miestelyje\",\n",
    "             \"markuciuose\", \"virsuliskese\",\"fabijoniskese\", \"valakampiuose\",\n",
    "             \"baltupiuose\",\"justiniskese\",\"visoriuose\",\"lazdynuose\",\"jeruzaleje\"\n",
    "             \"verkiuose\",\"avizieniuose\",\"filaretuose\",\"kalnenuose\",\n",
    "             \"pavilnyje\",\"bajoruose\", \"burbiskes\",\"naujininkuose\",\"vilkpedeje\",\n",
    "             \"zemuosiuose-paneriuose\",\"aukstuosiuose-paneriuose\",\"jeruzaleje\"\n",
    "            ]\n",
    "\n",
    "def map_district(district):    \n",
    "    df.loc[df[df['Adresas'].str.contains(district).values].index,\"district\"] = district\n",
    "    \n",
    "for i in districts:\n",
    "    map_district(i)"
   ]
  },
  {
   "cell_type": "markdown",
   "metadata": {},
   "source": [
    "## Analysis"
   ]
  },
  {
   "cell_type": "code",
   "execution_count": 10,
   "metadata": {
    "scrolled": true
   },
   "outputs": [
    {
     "data": {
      "text/plain": [
       "<matplotlib.collections.PathCollection at 0x20cb55a39c8>"
      ]
     },
     "execution_count": 10,
     "metadata": {},
     "output_type": "execute_result"
    },
    {
     "data": {
      "image/png": "[encoded data removed]",
      "text/plain": [
       "<Figure size 432x288 with 1 Axes>"
      ]
     },
     "metadata": {
      "needs_background": "light"
     },
     "output_type": "display_data"
    }
   ],
   "source": [
    "df[\"year\"] = pd.to_numeric(df[\"year\"],downcast='integer')\n",
    "\n",
    "# plt.hist(df[df[\"rent_price\"] < max_rent_price][\"rent_price\"], bins=n_bins)\n",
    "plt.scatter(df[df[\"year\"] > 1980][\"year\"], df[df[\"year\"] > 1980][\"rent_price\"])"
   ]
  },
  {
   "cell_type": "markdown",
   "metadata": {},
   "source": [
    "## Export"
   ]
  },
  {
   "cell_type": "code",
   "execution_count": 13,
   "metadata": {},
   "outputs": [],
   "source": [
    "df.to_csv(\".\\output.csv\",index=False)"
   ]
  },
  {
   "cell_type": "code",
   "execution_count": null,
   "metadata": {},
   "outputs": [],
   "source": []
  }
 ],
 "metadata": {
  "kernelspec": {
   "display_name": "Python 3",
   "language": "python",
   "name": "python3"
  },
  "language_info": {
   "codemirror_mode": {
    "name": "ipython",
    "version": 3
   },
   "file_extension": ".py",
   "mimetype": "text/x-python",
   "name": "python",
   "nbconvert_exporter": "python",
   "pygments_lexer": "ipython3",
   "version": "3.7.4"
  }
 },
 "nbformat": 4,
 "nbformat_minor": 2
}
