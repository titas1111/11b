{
 "cells": [
  {
   "cell_type": "code",
   "execution_count": 2,
   "metadata": {},
   "outputs": [],
   "source": [
    "import pandas as pd\n",
    "import os\n",
    "from sklearn.preprocessing import LabelEncoder\n",
    "from sklearn.ensemble import RandomForestRegressor\n",
    "from sklearn.model_selection import train_test_split\n",
    "from sklearn.metrics import mean_absolute_error"
   ]
  },
  {
   "cell_type": "markdown",
   "metadata": {},
   "source": [
    "## Read all input files and merge into one output"
   ]
  },
  {
   "cell_type": "code",
   "execution_count": 21,
   "metadata": {},
   "outputs": [],
   "source": [
    "path = os.getcwd()+\"\\\\output\"\n",
    "files = os.listdir(path)\n",
    "\n",
    "files_xls = [r\"C:\\Users\\Titas\\Desktop\\project\\11b\\jupyter notebook\\output\\\\\"+f for f in files if f[-4:] == 'xlsx']\n",
    "files_xls\n",
    "\n",
    "df = pd.DataFrame()\n",
    "for f in files_xls:\n",
    "    data = pd.read_excel(f, 'Sheet1')\n",
    "    df = df.append(data)\n",
    "df.to_excel(\"output.xlsx\", index= False)"
   ]
  },
  {
   "cell_type": "code",
   "execution_count": 78,
   "metadata": {
    "scrolled": true
   },
   "outputs": [
    {
     "name": "stdout",
     "output_type": "stream",
     "text": [
      "1313\n"
     ]
    },
    {
     "data": {
      "text/html": [
       "<div>\n",
       "<style scoped>\n",
       "    .dataframe tbody tr th:only-of-type {\n",
       "        vertical-align: middle;\n",
       "    }\n",
       "\n",
       "    .dataframe tbody tr th {\n",
       "        vertical-align: top;\n",
       "    }\n",
       "\n",
       "    .dataframe thead th {\n",
       "        text-align: right;\n",
       "    }\n",
       "</style>\n",
       "<table border=\"1\" class=\"dataframe\">\n",
       "  <thead>\n",
       "    <tr style=\"text-align: right;\">\n",
       "      <th></th>\n",
       "      <th>Adresas</th>\n",
       "      <th>Aukštas:</th>\n",
       "      <th>Aukštų sk.:</th>\n",
       "      <th>Buto numeris:</th>\n",
       "      <th>Kaina mėn.:</th>\n",
       "      <th>Kambarių sk.:</th>\n",
       "      <th>Metai:</th>\n",
       "      <th>Namo numeris:</th>\n",
       "      <th>Nuoroda</th>\n",
       "      <th>Pastato tipas:</th>\n",
       "      <th>Peržiūrėjo</th>\n",
       "      <th>Plotas:</th>\n",
       "      <th>Redaguotas</th>\n",
       "      <th>Įdėtas</th>\n",
       "      <th>Įrengimas:</th>\n",
       "      <th>Šildymas:</th>\n",
       "    </tr>\n",
       "  </thead>\n",
       "  <tbody>\n",
       "    <tr>\n",
       "      <td>0</td>\n",
       "      <td>https://www.aruodas.lt/butai-vilniuje-pasilaic...</td>\n",
       "      <td>NaN</td>\n",
       "      <td>NaN</td>\n",
       "      <td>NaN</td>\n",
       "      <td>NaN</td>\n",
       "      <td>NaN</td>\n",
       "      <td>NaN</td>\n",
       "      <td>NaN</td>\n",
       "      <td>NaN</td>\n",
       "      <td>NaN</td>\n",
       "      <td>NaN</td>\n",
       "      <td>NaN</td>\n",
       "      <td>NaN</td>\n",
       "      <td>NaN</td>\n",
       "      <td>NaN</td>\n",
       "      <td>NaN</td>\n",
       "    </tr>\n",
       "    <tr>\n",
       "      <td>1</td>\n",
       "      <td>https://www.aruodas.lt/butu-nuoma-vilniuje-pas...</td>\n",
       "      <td>3.0</td>\n",
       "      <td>9.0</td>\n",
       "      <td>NaN</td>\n",
       "      <td>450 €</td>\n",
       "      <td>2.0</td>\n",
       "      <td>2007</td>\n",
       "      <td>NaN</td>\n",
       "      <td>NaN</td>\n",
       "      <td>Mūrinis</td>\n",
       "      <td>NaN</td>\n",
       "      <td>64 m²</td>\n",
       "      <td>NaN</td>\n",
       "      <td>NaN</td>\n",
       "      <td>Įrengtas                                      ...</td>\n",
       "      <td>Centrinis kolektorinis</td>\n",
       "    </tr>\n",
       "    <tr>\n",
       "      <td>2</td>\n",
       "      <td>https://www.aruodas.lt/butu-nuoma-vilniuje-zve...</td>\n",
       "      <td>4.0</td>\n",
       "      <td>4.0</td>\n",
       "      <td>NaN</td>\n",
       "      <td>699 €</td>\n",
       "      <td>2.0</td>\n",
       "      <td>2019</td>\n",
       "      <td>10</td>\n",
       "      <td>NaN</td>\n",
       "      <td>Mūrinis</td>\n",
       "      <td>NaN</td>\n",
       "      <td>41,47 m²</td>\n",
       "      <td>NaN</td>\n",
       "      <td>NaN</td>\n",
       "      <td>NaN</td>\n",
       "      <td>Centrinis, elektra</td>\n",
       "    </tr>\n",
       "    <tr>\n",
       "      <td>3</td>\n",
       "      <td>https://www.aruodas.lt/butu-nuoma-vilniuje-sen...</td>\n",
       "      <td>3.0</td>\n",
       "      <td>3.0</td>\n",
       "      <td>NaN</td>\n",
       "      <td>800 €</td>\n",
       "      <td>3.0</td>\n",
       "      <td>1940</td>\n",
       "      <td>NaN</td>\n",
       "      <td>NaN</td>\n",
       "      <td>Mūrinis</td>\n",
       "      <td>NaN</td>\n",
       "      <td>71 m²</td>\n",
       "      <td>NaN</td>\n",
       "      <td>NaN</td>\n",
       "      <td>Įrengtas                                      ...</td>\n",
       "      <td>Dujinis</td>\n",
       "    </tr>\n",
       "    <tr>\n",
       "      <td>4</td>\n",
       "      <td>https://www.aruodas.lt/butu-nuoma-vilniuje-zve...</td>\n",
       "      <td>2.0</td>\n",
       "      <td>3.0</td>\n",
       "      <td>NaN</td>\n",
       "      <td>400 €</td>\n",
       "      <td>2.0</td>\n",
       "      <td>1969</td>\n",
       "      <td>NaN</td>\n",
       "      <td>NaN</td>\n",
       "      <td>Mūrinis</td>\n",
       "      <td>NaN</td>\n",
       "      <td>41,84 m²</td>\n",
       "      <td>NaN</td>\n",
       "      <td>NaN</td>\n",
       "      <td>Įrengtas                                      ...</td>\n",
       "      <td>Centrinis</td>\n",
       "    </tr>\n",
       "  </tbody>\n",
       "</table>\n",
       "</div>"
      ],
      "text/plain": [
       "                                             Adresas  Aukštas:  Aukštų sk.:  \\\n",
       "0  https://www.aruodas.lt/butai-vilniuje-pasilaic...       NaN          NaN   \n",
       "1  https://www.aruodas.lt/butu-nuoma-vilniuje-pas...       3.0          9.0   \n",
       "2  https://www.aruodas.lt/butu-nuoma-vilniuje-zve...       4.0          4.0   \n",
       "3  https://www.aruodas.lt/butu-nuoma-vilniuje-sen...       3.0          3.0   \n",
       "4  https://www.aruodas.lt/butu-nuoma-vilniuje-zve...       2.0          3.0   \n",
       "\n",
       "  Buto numeris: Kaina mėn.:  Kambarių sk.: Metai: Namo numeris: Nuoroda  \\\n",
       "0           NaN         NaN            NaN    NaN           NaN     NaN   \n",
       "1           NaN       450 €            2.0   2007           NaN     NaN   \n",
       "2           NaN       699 €            2.0   2019            10     NaN   \n",
       "3           NaN       800 €            3.0   1940           NaN     NaN   \n",
       "4           NaN       400 €            2.0   1969           NaN     NaN   \n",
       "\n",
       "  Pastato tipas: Peržiūrėjo   Plotas: Redaguotas Įdėtas  \\\n",
       "0            NaN        NaN       NaN        NaN    NaN   \n",
       "1        Mūrinis        NaN     64 m²        NaN    NaN   \n",
       "2        Mūrinis        NaN  41,47 m²        NaN    NaN   \n",
       "3        Mūrinis        NaN     71 m²        NaN    NaN   \n",
       "4        Mūrinis        NaN  41,84 m²        NaN    NaN   \n",
       "\n",
       "                                          Įrengimas:               Šildymas:  \n",
       "0                                                NaN                     NaN  \n",
       "1  Įrengtas                                      ...  Centrinis kolektorinis  \n",
       "2                                                NaN      Centrinis, elektra  \n",
       "3  Įrengtas                                      ...                 Dujinis  \n",
       "4  Įrengtas                                      ...               Centrinis  "
      ]
     },
     "execution_count": 78,
     "metadata": {},
     "output_type": "execute_result"
    }
   ],
   "source": [
    "df = pd.DataFrame()\n",
    "df = pd.read_excel(\"output.xlsx\", index= False)\n",
    "print(len(df))\n",
    "df.head()"
   ]
  },
  {
   "cell_type": "markdown",
   "metadata": {},
   "source": [
    "## Clean data"
   ]
  },
  {
   "cell_type": "code",
   "execution_count": 79,
   "metadata": {},
   "outputs": [
    {
     "name": "stdout",
     "output_type": "stream",
     "text": [
      "1266\n"
     ]
    }
   ],
   "source": [
    "# Delete rows with Nan values in Kaina men\n",
    "df =df.drop([df[pd.isna(df[\"Kaina mėn.:\"])].index][0])\n",
    "print(len(df))"
   ]
  },
  {
   "cell_type": "code",
   "execution_count": 80,
   "metadata": {
    "scrolled": false
   },
   "outputs": [],
   "source": [
    "# replace characters\n",
    "df['Kaina mėn.:'] = df['Kaina mėn.:'].str.replace('€','')\n",
    "df['Kaina mėn.:'] = df['Kaina mėn.:'].str.replace(' ','')\n",
    "df['Plotas:'] = df['Plotas:'].str.replace('m²','')\n",
    "df['Plotas:'] = df['Plotas:'].str.replace(',','.')\n",
    "\n",
    "df['Metai:'] = df[\"Metai:\"].astype(str)\n",
    "df[['Metai','Renovacija']] = df['Metai:'].str.split(',',expand=True)\n",
    "# clean year data\n",
    "df['Metai'] = df['Metai'].str[:4]\n",
    "df['Renovacija'] = df['Renovacija'].str[:5]\n",
    "# replace None with 0 in Renovacija\n",
    "df['Renovacija'] = df['Renovacija'].fillna(0)\n",
    "df.head()\n",
    "\n",
    "df.to_excel(\"outputAfterCleaning.xlsx\", index= False)"
   ]
  },
  {
   "cell_type": "code",
   "execution_count": 90,
   "metadata": {
    "scrolled": true
   },
   "outputs": [],
   "source": [
    "df.loc[df[df['Adresas'].str.contains('pasilaiciuose').values].index,\"Rajonas\"] = \"pasilaiciuose\"\n",
    "df.loc[df[df['Adresas'].str.contains('zveryne').values].index,\"Rajonas\"] = \"zveryne\"\n",
    "df.loc[df[df['Adresas'].str.contains('pilaiteje').values].index,\"Rajonas\"] = \"pilaiteje\"\n",
    "df.loc[df[df['Adresas'].str.contains('senamiestyje').values].index,\"Rajonas\"] = \"senamiestyje\"\n",
    "df.loc[df[df['Adresas'].str.contains('naujamiestyje').values].index,\"Rajonas\"] = \"naujamiestyje\"\n",
    "\n",
    "df.loc[df[df['Adresas'].str.contains('uzupyje').values].index,\"Rajonas\"] = \"uzupyje\"\n",
    "df.loc[df[df['Adresas'].str.contains('snipiskese').values].index,\"Rajonas\"] = \"snipiskese\"\n",
    "df.loc[df[df['Adresas'].str.contains('antakalnyje').values].index,\"Rajonas\"] = \"antakalnyje\"\n",
    "df.loc[df[df['Adresas'].str.contains('zirmunuose').values].index,\"Rajonas\"] = \"zirmunuose\"\n",
    "\n",
    "df['Rajonas'] = df['Rajonas'].fillna(\"None\")\n",
    "RajonoKodavimas = LabelEncoder()\n",
    "df['RajonoKodavimas'] = RajonoKodavimas.fit_transform(df['Rajonas'])\n",
    "\n",
    "# df.to_excel(\"outputAfterCleaningdPas.xlsx\", index= False)"
   ]
  },
  {
   "cell_type": "code",
   "execution_count": 84,
   "metadata": {},
   "outputs": [],
   "source": [
    "# encode the building type\n",
    "df =df.drop([df[pd.isna(df[\"Pastato tipas:\"])].index][0])\n",
    "PastatoTipas = LabelEncoder()\n",
    "\n",
    "df['Pastato tipas'] = PastatoTipas.fit_transform(df['Pastato tipas:'])"
   ]
  },
  {
   "cell_type": "code",
   "execution_count": 85,
   "metadata": {},
   "outputs": [],
   "source": [
    "# delete repeating columns\n",
    "del df['Metai:']\n",
    "del df['Pastato tipas:']"
   ]
  },
  {
   "cell_type": "code",
   "execution_count": 86,
   "metadata": {},
   "outputs": [],
   "source": [
    "# save df with features and target columns\n",
    "df =df.drop([df[pd.isna(df[\"Aukštas:\"])].index][0])\n",
    "df =df.drop([df[pd.isna(df[\"Kambarių sk.:\"])].index][0])\n",
    "\n",
    "df_train = df[['Metai', 'Plotas:', 'Kambarių sk.:', 'Aukštas:', 'Pastato tipas','Renovacija','Kaina mėn.:', 'RajonoKodavimas']]"
   ]
  },
  {
   "cell_type": "code",
   "execution_count": 91,
   "metadata": {},
   "outputs": [
    {
     "data": {
      "text/plain": [
       "RajonoKodavimas    0\n",
       "Kaina mėn.:        0\n",
       "Renovacija         0\n",
       "Pastato tipas      0\n",
       "Aukštas:           0\n",
       "Kambarių sk.:      0\n",
       "Plotas:            0\n",
       "Metai              0\n",
       "dtype: int64"
      ]
     },
     "execution_count": 91,
     "metadata": {},
     "output_type": "execute_result"
    }
   ],
   "source": [
    "# check for null values\n",
    "total = df_train.isna().sum().sort_values(ascending=False)\n",
    "total"
   ]
  },
  {
   "cell_type": "code",
   "execution_count": 92,
   "metadata": {
    "scrolled": false
   },
   "outputs": [
    {
     "name": "stdout",
     "output_type": "stream",
     "text": [
      "(947, 7) (947,)\n",
      "train: 119.20666638205884 test: 331.819644337792\n"
     ]
    },
    {
     "name": "stderr",
     "output_type": "stream",
     "text": [
      "C:\\Users\\Titas\\Anaconda3\\envs\\b11\\lib\\site-packages\\sklearn\\ensemble\\forest.py:245: FutureWarning: The default value of n_estimators will change from 10 in version 0.20 to 100 in 0.22.\n",
      "  \"10 in version 0.20 to 100 in 0.22.\", FutureWarning)\n"
     ]
    }
   ],
   "source": [
    "# split by features and target to X and y\n",
    "X = df[['Metai', 'Plotas:', 'Kambarių sk.:', 'Aukštas:', 'Pastato tipas','Renovacija','RajonoKodavimas']]\n",
    "y = df['Kaina mėn.:']\n",
    "\n",
    "# split into train and test\n",
    "X_train, X_test, y_train, y_test = train_test_split(X,y,random_state=0)\n",
    "print(X_train.shape, y_train.shape)\n",
    "\n",
    "# train the model\n",
    "model = RandomForestRegressor(random_state=0, max_depth=5)\n",
    "model.fit(X_train, y_train)\n",
    "\n",
    "# calculate the mean_absolute_error for train and test data\n",
    "prediction_train = model.predict(X_train)\n",
    "train = mean_absolute_error(prediction_train, y_train)\n",
    "\n",
    "prediction_test = model.predict(X_test)\n",
    "test = mean_absolute_error(prediction_test, y_test)\n",
    "\n",
    "print(\"train:\", train,\"test:\", test)"
   ]
  },
  {
   "cell_type": "code",
   "execution_count": 93,
   "metadata": {
    "scrolled": true
   },
   "outputs": [
    {
     "data": {
      "text/plain": [
       "array([0.08581401, 0.56636701, 0.27538598, 0.01041491, 0.00212124,\n",
       "       0.        , 0.05989685])"
      ]
     },
     "execution_count": 93,
     "metadata": {},
     "output_type": "execute_result"
    }
   ],
   "source": [
    "model.feature_importances_"
   ]
  },
  {
   "cell_type": "code",
   "execution_count": null,
   "metadata": {},
   "outputs": [],
   "source": [
    "from sklearn.externals import joblib\n",
    "joblib.dump(model, 'my_model.pkl', compress=9)\n",
    "\n",
    "# model_clone = joblib.load('my_model.pkl')"
   ]
  },
  {
   "cell_type": "code",
   "execution_count": null,
   "metadata": {},
   "outputs": [],
   "source": [
    "model_clone = joblib.load('my_model.pkl')\n",
    "flat = [[2008,46,2,1,0,0]]\n",
    "print(model.predict(flat))"
   ]
  },
  {
   "cell_type": "code",
   "execution_count": 104,
   "metadata": {},
   "outputs": [
    {
     "data": {
      "text/plain": [
       "None             366\n",
       "senamiestyje     280\n",
       "naujamiestyje    161\n",
       "snipiskese        86\n",
       "antakalnyje       78\n",
       "pasilaiciuose     73\n",
       "zveryne           68\n",
       "pilaiteje         53\n",
       "zirmunuose        53\n",
       "uzupyje           45\n",
       "Name: Rajonas, dtype: int64"
      ]
     },
     "execution_count": 104,
     "metadata": {},
     "output_type": "execute_result"
    }
   ],
   "source": [
    "df['Rajonas'].value_counts()"
   ]
  }
 ],
 "metadata": {
  "kernelspec": {
   "display_name": "Python 3",
   "language": "python",
   "name": "python3"
  },
  "language_info": {
   "codemirror_mode": {
    "name": "ipython",
    "version": 3
   },
   "file_extension": ".py",
   "mimetype": "text/x-python",
   "name": "python",
   "nbconvert_exporter": "python",
   "pygments_lexer": "ipython3",
   "version": "3.7.3"
  }
 },
 "nbformat": 4,
 "nbformat_minor": 2
}
